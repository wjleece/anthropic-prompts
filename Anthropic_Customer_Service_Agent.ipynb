{
  "nbformat": 4,
  "nbformat_minor": 0,
  "metadata": {
    "colab": {
      "provenance": [],
      "authorship_tag": "ABX9TyMQBAiD/eP//TZW4atoZ/wn",
      "include_colab_link": true
    },
    "kernelspec": {
      "name": "python3",
      "display_name": "Python 3"
    },
    "language_info": {
      "name": "python"
    }
  },
  "cells": [
    {
      "cell_type": "markdown",
      "metadata": {
        "id": "view-in-github",
        "colab_type": "text"
      },
      "source": [
        "<a href=\"https://colab.research.google.com/github/wjleece/anthropic-prompts/blob/main/Anthropic_Customer_Service_Agent.ipynb\" target=\"_parent\"><img src=\"https://colab.research.google.com/assets/colab-badge.svg\" alt=\"Open In Colab\"/></a>"
      ]
    },
    {
      "cell_type": "code",
      "execution_count": 1,
      "metadata": {
        "colab": {
          "base_uri": "https://localhost:8080/"
        },
        "id": "HeOXIuhgfgjo",
        "outputId": "9b9080d0-eadf-45cd-9027-c54afc3d04a7"
      },
      "outputs": [
        {
          "output_type": "stream",
          "name": "stdout",
          "text": [
            "Collecting anthropic\n",
            "  Downloading anthropic-0.51.0-py3-none-any.whl.metadata (25 kB)\n",
            "Requirement already satisfied: anyio<5,>=3.5.0 in /usr/local/lib/python3.11/dist-packages (from anthropic) (4.9.0)\n",
            "Requirement already satisfied: distro<2,>=1.7.0 in /usr/local/lib/python3.11/dist-packages (from anthropic) (1.9.0)\n",
            "Requirement already satisfied: httpx<1,>=0.25.0 in /usr/local/lib/python3.11/dist-packages (from anthropic) (0.28.1)\n",
            "Requirement already satisfied: jiter<1,>=0.4.0 in /usr/local/lib/python3.11/dist-packages (from anthropic) (0.9.0)\n",
            "Requirement already satisfied: pydantic<3,>=1.9.0 in /usr/local/lib/python3.11/dist-packages (from anthropic) (2.11.4)\n",
            "Requirement already satisfied: sniffio in /usr/local/lib/python3.11/dist-packages (from anthropic) (1.3.1)\n",
            "Requirement already satisfied: typing-extensions<5,>=4.10 in /usr/local/lib/python3.11/dist-packages (from anthropic) (4.13.2)\n",
            "Requirement already satisfied: idna>=2.8 in /usr/local/lib/python3.11/dist-packages (from anyio<5,>=3.5.0->anthropic) (3.10)\n",
            "Requirement already satisfied: certifi in /usr/local/lib/python3.11/dist-packages (from httpx<1,>=0.25.0->anthropic) (2025.4.26)\n",
            "Requirement already satisfied: httpcore==1.* in /usr/local/lib/python3.11/dist-packages (from httpx<1,>=0.25.0->anthropic) (1.0.9)\n",
            "Requirement already satisfied: h11>=0.16 in /usr/local/lib/python3.11/dist-packages (from httpcore==1.*->httpx<1,>=0.25.0->anthropic) (0.16.0)\n",
            "Requirement already satisfied: annotated-types>=0.6.0 in /usr/local/lib/python3.11/dist-packages (from pydantic<3,>=1.9.0->anthropic) (0.7.0)\n",
            "Requirement already satisfied: pydantic-core==2.33.2 in /usr/local/lib/python3.11/dist-packages (from pydantic<3,>=1.9.0->anthropic) (2.33.2)\n",
            "Requirement already satisfied: typing-inspection>=0.4.0 in /usr/local/lib/python3.11/dist-packages (from pydantic<3,>=1.9.0->anthropic) (0.4.0)\n",
            "Downloading anthropic-0.51.0-py3-none-any.whl (263 kB)\n",
            "\u001b[2K   \u001b[90m━━━━━━━━━━━━━━━━━━━━━━━━━━━━━━━━━━━━━━━━\u001b[0m \u001b[32m264.0/264.0 kB\u001b[0m \u001b[31m5.5 MB/s\u001b[0m eta \u001b[36m0:00:00\u001b[0m\n",
            "\u001b[?25hInstalling collected packages: anthropic\n",
            "Successfully installed anthropic-0.51.0\n"
          ]
        }
      ],
      "source": [
        "%pip install anthropic"
      ]
    },
    {
      "cell_type": "code",
      "source": [
        "import anthropic\n",
        "import re\n",
        "from google.colab import userdata\n",
        "\n",
        "API_KEY = userdata.get('ANTHROPIC_API_KEY')\n",
        "MODEL_NAME = \"claude-3-7-sonnet-latest\"\n",
        "client = anthropic.Anthropic(api_key=API_KEY)"
      ],
      "metadata": {
        "id": "0MSSlK3Hfohr"
      },
      "execution_count": 23,
      "outputs": []
    },
    {
      "cell_type": "code",
      "source": [
        "system_prompt = \"You are a helpful assistant.\""
      ],
      "metadata": {
        "id": "NhyFgWuzfwYQ"
      },
      "execution_count": 3,
      "outputs": []
    },
    {
      "cell_type": "code",
      "source": [
        "tools = []"
      ],
      "metadata": {
        "id": "nikAJVcAgV2c"
      },
      "execution_count": 4,
      "outputs": []
    },
    {
      "cell_type": "code",
      "source": [
        "def get_completion(prompt: str):\n",
        "    message = client.messages.create(\n",
        "        model=MODEL_NAME,\n",
        "        max_tokens=2000,\n",
        "        temperature=0.0,\n",
        "        system=system_prompt,\n",
        "        tools=tools,\n",
        "        messages=[\n",
        "          {\"role\": \"user\", \"content\": prompt}\n",
        "        ]\n",
        "    )\n",
        "    return message.content[0].text"
      ],
      "metadata": {
        "id": "TDn0xG8DgQYN"
      },
      "execution_count": 24,
      "outputs": []
    },
    {
      "cell_type": "code",
      "source": [
        "prompt=\"Yo Claude, wuzzup?\"\n",
        "\n",
        "print(get_completion(prompt))"
      ],
      "metadata": {
        "colab": {
          "base_uri": "https://localhost:8080/"
        },
        "id": "y1O6EiIUgb2h",
        "outputId": "8b8d0621-69f0-4a6d-af6a-7f91596af446"
      },
      "execution_count": 6,
      "outputs": [
        {
          "output_type": "stream",
          "name": "stdout",
          "text": [
            "I'm doing well, thanks for asking. How are you today?\n"
          ]
        }
      ]
    },
    {
      "cell_type": "code",
      "source": [
        "tools = [\n",
        "    {\n",
        "        \"name\": \"get_customer_info\",\n",
        "        \"description\": \"Retrieves customer information based on their customer ID. Returns the customer's name, email, and phone number.\",\n",
        "        \"input_schema\": {\n",
        "            \"type\": \"object\",\n",
        "            \"properties\": {\n",
        "                \"customer_id\": {\n",
        "                    \"type\": \"string\",\n",
        "                    \"description\": \"The unique identifier for the customer.\"\n",
        "                }\n",
        "            },\n",
        "            \"required\": [\"customer_id\"]\n",
        "        }\n",
        "    },\n",
        "     {\n",
        "        \"name\": \"add_customer\",\n",
        "        \"description\": \"Adds a new customer to the database. Includes customer ID, name, email, and phone number.\",\n",
        "        \"input_schema\": {\n",
        "            \"type\": \"object\",\n",
        "            \"properties\": {\n",
        "                \"customer_id\": {\n",
        "                    \"type\": \"string\",\n",
        "                    \"description\": \"The unique identifier for the customer, which you automatically will generate any time add_customer is called.\"\n",
        "                },\n",
        "                \"name\": {\n",
        "                    \"type\": \"string\",\n",
        "                    \"description\": \"The name of the customer.\"\n",
        "                },\n",
        "                \"email\": {\n",
        "                    \"type\": \"string\",\n",
        "                    \"description\": \"The email address of the customer.\"\n",
        "                }\n",
        "            },\n",
        "            \"required\": [\"customer_id\", \"name\", \"email\", \"phone\"]\n",
        "        }\n",
        "    },\n",
        "    {\n",
        "        \"name\": \"get_order_details\",\n",
        "        \"description\": \"Retrieves the details of a specific order based on the order ID. Returns the order ID, product name, quantity, price, and order status.\",\n",
        "        \"input_schema\": {\n",
        "            \"type\": \"object\",\n",
        "            \"properties\": {\n",
        "                \"order_id\": {\n",
        "                    \"type\": \"string\",\n",
        "                    \"description\": \"The unique identifier for the order.\"\n",
        "                }\n",
        "            },\n",
        "            \"required\": [\"order_id\"]\n",
        "        }\n",
        "    },\n",
        "    {\n",
        "        \"name\": \"add_order\",\n",
        "        \"description\": \"Creates an order. Includes order ID, product name, quantity, price, and order status.\",\n",
        "        \"input_schema\": {\n",
        "            \"type\": \"object\",\n",
        "            \"properties\": {\n",
        "                \"order_id\": {\n",
        "                    \"type\": \"string\",\n",
        "                    \"description\": \"The unique identifier for the order, which you automatically will generate any time add_order is called.\"\n",
        "                },\n",
        "                \"product\": {\n",
        "                    \"type\": \"string\",\n",
        "                    \"description\": \"The name of the product in the order.\"\n",
        "                },\n",
        "                \"quantity\": {\n",
        "                    \"type\": \"integer\",\n",
        "                    \"description\": \"The quantity of the product in the order.\"\n",
        "                },\n",
        "                \"price\": {\n",
        "                    \"type\": \"number\",\n",
        "                    \"description\": \"The price of each product in the order.\"\n",
        "                },\n",
        "            },\n",
        "            \"required\": [\"order_id\", \"product\", \"quantity\", \"price\", \"status\" ]\n",
        "        }\n",
        "    },\n",
        "    {\n",
        "        \"name\": \"cancel_order\",\n",
        "        \"description\": \"Cancels an order based on the provided order ID. Returns a confirmation message if the cancellation is successful.\",\n",
        "        \"input_schema\": {\n",
        "            \"type\": \"object\",\n",
        "            \"properties\": {\n",
        "                \"order_id\": {\n",
        "                    \"type\": \"string\",\n",
        "                    \"description\": \"The unique identifier for the order to be cancelled.\"\n",
        "                }\n",
        "            },\n",
        "            \"required\": [\"order_id\"]\n",
        "        }\n",
        "    }\n",
        "]"
      ],
      "metadata": {
        "id": "bpAM8-Wbgpwa"
      },
      "execution_count": 30,
      "outputs": []
    },
    {
      "cell_type": "code",
      "source": [
        "# Global customer storage\n",
        "customers = {\n",
        "    \"C1\": {\"name\": \"John Doe\", \"email\": \"john@example.com\", \"phone\": \"123-456-7890\"},\n",
        "    \"C2\": {\"name\": \"Jane Smith\", \"email\": \"jane@example.com\", \"phone\": \"987-654-3210\"}\n",
        "}\n",
        "\n",
        "# Global order storage\n",
        "orders = {\n",
        "        \"O1\": {\"id\": \"O1\", \"product\": \"Widget A\", \"quantity\": 2, \"price\": 19.99, \"status\": \"Shipped\"},\n",
        "        \"O2\": {\"id\": \"O2\", \"product\": \"Gadget B\", \"quantity\": 1, \"price\": 49.99, \"status\": \"Processing\"}\n",
        "    }\n",
        "\n",
        "def get_customer_info(customer_id):\n",
        "    return customers.get(customer_id, \"Customer not found\")\n",
        "\n",
        "def add_customer(name, email, phone):\n",
        "    new_id = f\"C{len(customers) + 1}\"  # Simple ID generator like C3, C4, ...\n",
        "    customers[new_id] = {\"name\": name, \"email\": email, \"phone\": phone}\n",
        "    return new_id, customers[new_id]\n",
        "\n",
        "def get_order_details(order_id):\n",
        "    # Simulated order data\n",
        "    return orders.get(order_id, \"Order not found\")\n",
        "\n",
        "def add_order(product, quantity, price, status):\n",
        "    new_id = f\"O{len(orders) + 1}\"  # Simple ID generator like O\n",
        "    orders[new_id] = {\"id\": new_id, \"product\": product, \"quantity\": quantity, \"price\": price, \"status\": status}\n",
        "    return new_id, orders[new_id]\n",
        "\n",
        "def cancel_order(order_id):\n",
        "    # Simulated order cancellation\n",
        "    if order_id in [\"O1\", \"O2\"]:\n",
        "        return True\n",
        "    else:\n",
        "        return False"
      ],
      "metadata": {
        "id": "oPLWnc17hmLi"
      },
      "execution_count": 26,
      "outputs": []
    },
    {
      "cell_type": "code",
      "source": [
        "def process_tool_call(tool_name, tool_input):\n",
        "    if tool_name == \"get_customer_info\":\n",
        "        return get_customer_info(tool_input[\"customer_id\"])\n",
        "    elif tool_name == \"add_customer\":\n",
        "        return add_customer(tool_input[\"name\"], tool_input[\"email\"], tool_input[\"phone\"])\n",
        "    elif tool_name == \"get_order_details\":\n",
        "        return get_order_details(tool_input[\"order_id\"])\n",
        "    elif tool_name == \"add_order\":\n",
        "        return add_order(tool_input[\"product\"], tool_input[\"quantity\"], tool_input[\"price\"], tool_input[\"status\"])\n",
        "    elif tool_name == \"cancel_order\":\n",
        "        return cancel_order(tool_input[\"order_id\"])"
      ],
      "metadata": {
        "id": "8XRz65SthrqJ"
      },
      "execution_count": 27,
      "outputs": []
    },
    {
      "cell_type": "code",
      "source": [
        "import json\n",
        "\n",
        "def chatbot_interaction(user_message):\n",
        "    print(f\"\\n{'='*50}\\nUser Message: {user_message}\\n{'='*50}\")\n",
        "\n",
        "    messages = [\n",
        "        {\"role\": \"user\", \"content\": user_message}\n",
        "    ]\n",
        "\n",
        "    response = client.messages.create(\n",
        "        model=MODEL_NAME,\n",
        "        max_tokens=4096,\n",
        "        tools=tools,\n",
        "        messages=messages\n",
        "    )\n",
        "\n",
        "    print(f\"\\nInitial Response:\")\n",
        "    print(f\"Stop Reason: {response.stop_reason}\")\n",
        "    print(f\"Content: {response.content}\")\n",
        "\n",
        "    while response.stop_reason == \"tool_use\":\n",
        "        tool_use = next(block for block in response.content if block.type == \"tool_use\")\n",
        "        tool_name = tool_use.name\n",
        "        tool_input = tool_use.input\n",
        "\n",
        "        print(f\"\\nTool Used: {tool_name}\")\n",
        "        print(f\"Tool Input:\")\n",
        "        print(json.dumps(tool_input, indent=2))\n",
        "\n",
        "        tool_result = process_tool_call(tool_name, tool_input)\n",
        "\n",
        "        print(f\"\\nTool Result:\")\n",
        "        print(json.dumps(tool_result, indent=2))\n",
        "\n",
        "        messages = [\n",
        "            {\"role\": \"user\", \"content\": user_message},\n",
        "            {\"role\": \"assistant\", \"content\": response.content},\n",
        "            {\n",
        "                \"role\": \"user\",\n",
        "                \"content\": [\n",
        "                    {\n",
        "                        \"type\": \"tool_result\",\n",
        "                        \"tool_use_id\": tool_use.id,\n",
        "                        \"content\": str(tool_result),\n",
        "                    }\n",
        "                ],\n",
        "            },\n",
        "        ]\n",
        "\n",
        "        response = client.messages.create(\n",
        "            model=MODEL_NAME,\n",
        "            max_tokens=4096,\n",
        "            tools=tools,\n",
        "            messages=messages\n",
        "        )\n",
        "\n",
        "        print(f\"\\nResponse:\")\n",
        "        print(f\"Stop Reason: {response.stop_reason}\")\n",
        "        print(f\"Content: {response.content}\")\n",
        "\n",
        "    final_response = next(\n",
        "        (block.text for block in response.content if hasattr(block, \"text\")),\n",
        "        None,\n",
        "    )\n",
        "\n",
        "    print(f\"\\nFinal Response: {final_response}\")\n",
        "\n",
        "    return final_response"
      ],
      "metadata": {
        "id": "KK0xfsH2hx3g"
      },
      "execution_count": 28,
      "outputs": []
    },
    {
      "cell_type": "code",
      "source": [
        "chatbot_interaction(\"Can you tell me the email address for customer C1?\")"
      ],
      "metadata": {
        "colab": {
          "base_uri": "https://localhost:8080/",
          "height": 558
        },
        "id": "liSdlzhVi0bu",
        "outputId": "22ee4aca-26ab-4c0c-e111-a423d5074d32"
      },
      "execution_count": 11,
      "outputs": [
        {
          "output_type": "stream",
          "name": "stdout",
          "text": [
            "\n",
            "==================================================\n",
            "User Message: Can you tell me the email address for customer C1?\n",
            "==================================================\n",
            "\n",
            "Initial Response:\n",
            "Stop Reason: tool_use\n",
            "Content: [TextBlock(citations=None, text=\"I'll help you retrieve the customer information for customer ID C1. I'll use the `get_customer_info` function to fetch the details.\", type='text'), ToolUseBlock(id='toolu_018jqbYEmP9ncsrjAqo58B8s', input={'customer_id': 'C1'}, name='get_customer_info', type='tool_use')]\n",
            "\n",
            "Tool Used: get_customer_info\n",
            "Tool Input:\n",
            "{\n",
            "  \"customer_id\": \"C1\"\n",
            "}\n",
            "\n",
            "Tool Result:\n",
            "{\n",
            "  \"name\": \"John Doe\",\n",
            "  \"email\": \"john@example.com\",\n",
            "  \"phone\": \"123-456-7890\"\n",
            "}\n",
            "\n",
            "Response:\n",
            "Stop Reason: end_turn\n",
            "Content: [TextBlock(citations=None, text='The email address for customer C1 (John Doe) is john@example.com.\\n\\nIs there anything else I can help you with?', type='text')]\n",
            "\n",
            "Final Response: The email address for customer C1 (John Doe) is john@example.com.\n",
            "\n",
            "Is there anything else I can help you with?\n"
          ]
        },
        {
          "output_type": "execute_result",
          "data": {
            "text/plain": [
              "'The email address for customer C1 (John Doe) is john@example.com.\\n\\nIs there anything else I can help you with?'"
            ],
            "application/vnd.google.colaboratory.intrinsic+json": {
              "type": "string"
            }
          },
          "metadata": {},
          "execution_count": 11
        }
      ]
    },
    {
      "cell_type": "code",
      "source": [
        "chatbot_interaction(\"What is the status of order O2?\")"
      ],
      "metadata": {
        "colab": {
          "base_uri": "https://localhost:8080/",
          "height": 680
        },
        "id": "6aLkNzDUjgQx",
        "outputId": "9c18cb86-2380-4369-e07e-f76867855201"
      },
      "execution_count": 12,
      "outputs": [
        {
          "output_type": "stream",
          "name": "stdout",
          "text": [
            "\n",
            "==================================================\n",
            "User Message: What is the status of order O2?\n",
            "==================================================\n",
            "\n",
            "Initial Response:\n",
            "Stop Reason: tool_use\n",
            "Content: [TextBlock(citations=None, text=\"I'll help you retrieve the details of order O2 using the get_order_details function.\", type='text'), ToolUseBlock(id='toolu_01JPibQPjrneK5sbrU1XXKyS', input={'order_id': 'O2'}, name='get_order_details', type='tool_use')]\n",
            "\n",
            "Tool Used: get_order_details\n",
            "Tool Input:\n",
            "{\n",
            "  \"order_id\": \"O2\"\n",
            "}\n",
            "\n",
            "Tool Result:\n",
            "{\n",
            "  \"id\": \"O2\",\n",
            "  \"product\": \"Gadget B\",\n",
            "  \"quantity\": 1,\n",
            "  \"price\": 49.99,\n",
            "  \"status\": \"Processing\"\n",
            "}\n",
            "\n",
            "Response:\n",
            "Stop Reason: end_turn\n",
            "Content: [TextBlock(citations=None, text='The status of order O2 is \"Processing\". \\n\\nHere are the additional details of the order:\\n- Product: Gadget B\\n- Quantity: 1\\n- Price: $49.99\\n\\nIs there anything else I can help you with regarding this order?', type='text')]\n",
            "\n",
            "Final Response: The status of order O2 is \"Processing\". \n",
            "\n",
            "Here are the additional details of the order:\n",
            "- Product: Gadget B\n",
            "- Quantity: 1\n",
            "- Price: $49.99\n",
            "\n",
            "Is there anything else I can help you with regarding this order?\n"
          ]
        },
        {
          "output_type": "execute_result",
          "data": {
            "text/plain": [
              "'The status of order O2 is \"Processing\". \\n\\nHere are the additional details of the order:\\n- Product: Gadget B\\n- Quantity: 1\\n- Price: $49.99\\n\\nIs there anything else I can help you with regarding this order?'"
            ],
            "application/vnd.google.colaboratory.intrinsic+json": {
              "type": "string"
            }
          },
          "metadata": {},
          "execution_count": 12
        }
      ]
    },
    {
      "cell_type": "code",
      "source": [
        "chatbot_interaction(\"Please cancel order O1 for me.\")"
      ],
      "metadata": {
        "colab": {
          "base_uri": "https://localhost:8080/",
          "height": 454
        },
        "id": "OobzDgjTjt-F",
        "outputId": "01b3def8-5aee-445a-b49d-c02efd490a3d"
      },
      "execution_count": 13,
      "outputs": [
        {
          "output_type": "stream",
          "name": "stdout",
          "text": [
            "\n",
            "==================================================\n",
            "User Message: Please cancel order O1 for me.\n",
            "==================================================\n",
            "\n",
            "Initial Response:\n",
            "Stop Reason: tool_use\n",
            "Content: [TextBlock(citations=None, text=\"I'll help you cancel the order with ID O1. I'll use the `cancel_order` function to process this request.\", type='text'), ToolUseBlock(id='toolu_012vZRV4gw2KiC4zhD9Qu7Tn', input={'order_id': 'O1'}, name='cancel_order', type='tool_use')]\n",
            "\n",
            "Tool Used: cancel_order\n",
            "Tool Input:\n",
            "{\n",
            "  \"order_id\": \"O1\"\n",
            "}\n",
            "\n",
            "Tool Result:\n",
            "true\n",
            "\n",
            "Response:\n",
            "Stop Reason: end_turn\n",
            "Content: [TextBlock(citations=None, text='The order O1 has been successfully cancelled. Is there anything else I can help you with today?', type='text')]\n",
            "\n",
            "Final Response: The order O1 has been successfully cancelled. Is there anything else I can help you with today?\n"
          ]
        },
        {
          "output_type": "execute_result",
          "data": {
            "text/plain": [
              "'The order O1 has been successfully cancelled. Is there anything else I can help you with today?'"
            ],
            "application/vnd.google.colaboratory.intrinsic+json": {
              "type": "string"
            }
          },
          "metadata": {},
          "execution_count": 13
        }
      ]
    },
    {
      "cell_type": "code",
      "source": [
        "print(get_order_details(\"O1\"))"
      ],
      "metadata": {
        "colab": {
          "base_uri": "https://localhost:8080/"
        },
        "id": "0vh8YS3njwEr",
        "outputId": "5e391ebf-4a6b-4f25-f506-001966fe9f79"
      },
      "execution_count": 14,
      "outputs": [
        {
          "output_type": "stream",
          "name": "stdout",
          "text": [
            "{'id': 'O1', 'product': 'Widget A', 'quantity': 2, 'price': 19.99, 'status': 'Shipped'}\n"
          ]
        }
      ]
    },
    {
      "cell_type": "code",
      "source": [
        "chatbot_interaction(\"Add a new customer: Bill Leece, bill.leece@example.com, 123-444-7777\")"
      ],
      "metadata": {
        "colab": {
          "base_uri": "https://localhost:8080/",
          "height": 749
        },
        "id": "rq-wai6fmTEc",
        "outputId": "ea31efb6-3500-471c-b18d-bd213c55ca58"
      },
      "execution_count": 31,
      "outputs": [
        {
          "output_type": "stream",
          "name": "stdout",
          "text": [
            "\n",
            "==================================================\n",
            "User Message: Add a new customer: Bill Leece, bill.leece@example.com, 123-444-7777\n",
            "==================================================\n",
            "\n",
            "Initial Response:\n",
            "Stop Reason: tool_use\n",
            "Content: [TextBlock(citations=None, text=\"I'll help you add a new customer to the database. I have all the required information to create the customer profile:\", type='text'), ToolUseBlock(id='toolu_011GgQcHapLhpFeycoX3VsXG', input={'customer_id': 'CUST-123', 'name': 'Bill Leece', 'email': 'bill.leece@example.com', 'phone': '123-444-7777'}, name='add_customer', type='tool_use')]\n",
            "\n",
            "Tool Used: add_customer\n",
            "Tool Input:\n",
            "{\n",
            "  \"customer_id\": \"CUST-123\",\n",
            "  \"name\": \"Bill Leece\",\n",
            "  \"email\": \"bill.leece@example.com\",\n",
            "  \"phone\": \"123-444-7777\"\n",
            "}\n",
            "\n",
            "Tool Result:\n",
            "[\n",
            "  \"C3\",\n",
            "  {\n",
            "    \"name\": \"Bill Leece\",\n",
            "    \"email\": \"bill.leece@example.com\",\n",
            "    \"phone\": \"123-444-7777\"\n",
            "  }\n",
            "]\n",
            "\n",
            "Response:\n",
            "Stop Reason: end_turn\n",
            "Content: [TextBlock(citations=None, text='Great! Bill Leece has been successfully added to the database with the following details:\\n- Customer ID: C3\\n- Name: Bill Leece\\n- Email: bill.leece@example.com\\n- Phone: 123-444-7777\\n\\nThe customer information has been stored in the system. Is there anything else you would like to do regarding this customer?', type='text')]\n",
            "\n",
            "Final Response: Great! Bill Leece has been successfully added to the database with the following details:\n",
            "- Customer ID: C3\n",
            "- Name: Bill Leece\n",
            "- Email: bill.leece@example.com\n",
            "- Phone: 123-444-7777\n",
            "\n",
            "The customer information has been stored in the system. Is there anything else you would like to do regarding this customer?\n"
          ]
        },
        {
          "output_type": "execute_result",
          "data": {
            "text/plain": [
              "'Great! Bill Leece has been successfully added to the database with the following details:\\n- Customer ID: C3\\n- Name: Bill Leece\\n- Email: bill.leece@example.com\\n- Phone: 123-444-7777\\n\\nThe customer information has been stored in the system. Is there anything else you would like to do regarding this customer?'"
            ],
            "application/vnd.google.colaboratory.intrinsic+json": {
              "type": "string"
            }
          },
          "metadata": {},
          "execution_count": 31
        }
      ]
    },
    {
      "cell_type": "code",
      "source": [
        "customers"
      ],
      "metadata": {
        "colab": {
          "base_uri": "https://localhost:8080/"
        },
        "id": "_RsascgQnUYS",
        "outputId": "51e3ec2e-829b-46eb-b079-775cab9b5fa5"
      },
      "execution_count": 16,
      "outputs": [
        {
          "output_type": "execute_result",
          "data": {
            "text/plain": [
              "{'C1': {'name': 'John Doe',\n",
              "  'email': 'john@example.com',\n",
              "  'phone': '123-456-7890'},\n",
              " 'C2': {'name': 'Jane Smith',\n",
              "  'email': 'jane@example.com',\n",
              "  'phone': '987-654-3210'},\n",
              " 'C3': {'name': 'Bill Leece',\n",
              "  'email': 'bill.leece@example.com',\n",
              "  'phone': '123-456-7777'}}"
            ]
          },
          "metadata": {},
          "execution_count": 16
        }
      ]
    },
    {
      "cell_type": "code",
      "source": [
        "chatbot_interaction(\"Create a new order for: Perplexinator, 12, $59.99, Shipped\")"
      ],
      "metadata": {
        "colab": {
          "base_uri": "https://localhost:8080/",
          "height": 836
        },
        "id": "7poFrQMqodpI",
        "outputId": "ce892136-2fcb-4bf6-d00a-5ffea19a6bab"
      },
      "execution_count": 32,
      "outputs": [
        {
          "output_type": "stream",
          "name": "stdout",
          "text": [
            "\n",
            "==================================================\n",
            "User Message: Create a new order for: Perplexinator, 12, $59.99, Shipped\n",
            "==================================================\n",
            "\n",
            "Initial Response:\n",
            "Stop Reason: tool_use\n",
            "Content: [TextBlock(citations=None, text=\"I'll help you create a new order for the Perplexinator product. I have most of the details needed to create the order, but I'll need to generate an order ID automatically as part of the process.\", type='text'), ToolUseBlock(id='toolu_015fmCJYjemRUJRiCZRcpcRU', input={'order_id': 'ORD-2023-11579', 'product': 'Perplexinator', 'quantity': 12, 'price': 59.99, 'status': 'Shipped'}, name='add_order', type='tool_use')]\n",
            "\n",
            "Tool Used: add_order\n",
            "Tool Input:\n",
            "{\n",
            "  \"order_id\": \"ORD-2023-11579\",\n",
            "  \"product\": \"Perplexinator\",\n",
            "  \"quantity\": 12,\n",
            "  \"price\": 59.99,\n",
            "  \"status\": \"Shipped\"\n",
            "}\n",
            "\n",
            "Tool Result:\n",
            "[\n",
            "  \"O3\",\n",
            "  {\n",
            "    \"id\": \"O3\",\n",
            "    \"product\": \"Perplexinator\",\n",
            "    \"quantity\": 12,\n",
            "    \"price\": 59.99,\n",
            "    \"status\": \"Shipped\"\n",
            "  }\n",
            "]\n",
            "\n",
            "Response:\n",
            "Stop Reason: end_turn\n",
            "Content: [TextBlock(citations=None, text='Your new order has been successfully created! Here are the details:\\n\\n- Order ID: O3\\n- Product: Perplexinator\\n- Quantity: 12\\n- Price: $59.99 each\\n- Status: Shipped\\n\\nThe order has been entered into the system and is marked as shipped. Is there anything else you would like to know about this order or would you like to place another order?', type='text')]\n",
            "\n",
            "Final Response: Your new order has been successfully created! Here are the details:\n",
            "\n",
            "- Order ID: O3\n",
            "- Product: Perplexinator\n",
            "- Quantity: 12\n",
            "- Price: $59.99 each\n",
            "- Status: Shipped\n",
            "\n",
            "The order has been entered into the system and is marked as shipped. Is there anything else you would like to know about this order or would you like to place another order?\n"
          ]
        },
        {
          "output_type": "execute_result",
          "data": {
            "text/plain": [
              "'Your new order has been successfully created! Here are the details:\\n\\n- Order ID: O3\\n- Product: Perplexinator\\n- Quantity: 12\\n- Price: $59.99 each\\n- Status: Shipped\\n\\nThe order has been entered into the system and is marked as shipped. Is there anything else you would like to know about this order or would you like to place another order?'"
            ],
            "application/vnd.google.colaboratory.intrinsic+json": {
              "type": "string"
            }
          },
          "metadata": {},
          "execution_count": 32
        }
      ]
    },
    {
      "cell_type": "code",
      "source": [
        "orders"
      ],
      "metadata": {
        "colab": {
          "base_uri": "https://localhost:8080/"
        },
        "id": "MWUmk5g8ovo5",
        "outputId": "c58ebc15-df4c-4476-f86a-c9ab34d20bda"
      },
      "execution_count": 33,
      "outputs": [
        {
          "output_type": "execute_result",
          "data": {
            "text/plain": [
              "{'O1': {'id': 'O1',\n",
              "  'product': 'Widget A',\n",
              "  'quantity': 2,\n",
              "  'price': 19.99,\n",
              "  'status': 'Shipped'},\n",
              " 'O2': {'id': 'O2',\n",
              "  'product': 'Gadget B',\n",
              "  'quantity': 1,\n",
              "  'price': 49.99,\n",
              "  'status': 'Processing'},\n",
              " 'O3': {'id': 'O3',\n",
              "  'product': 'Perplexinator',\n",
              "  'quantity': 12,\n",
              "  'price': 59.99,\n",
              "  'status': 'Shipped'}}"
            ]
          },
          "metadata": {},
          "execution_count": 33
        }
      ]
    }
  ]
}