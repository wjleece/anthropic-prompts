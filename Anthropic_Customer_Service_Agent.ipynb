{
  "nbformat": 4,
  "nbformat_minor": 0,
  "metadata": {
    "colab": {
      "provenance": [],
      "authorship_tag": "ABX9TyPimLVW5ob8UbgOwwp/a0sQ",
      "include_colab_link": true
    },
    "kernelspec": {
      "name": "python3",
      "display_name": "Python 3"
    },
    "language_info": {
      "name": "python"
    }
  },
  "cells": [
    {
      "cell_type": "markdown",
      "metadata": {
        "id": "view-in-github",
        "colab_type": "text"
      },
      "source": [
        "<a href=\"https://colab.research.google.com/github/wjleece/anthropic-prompts/blob/main/Anthropic_Customer_Service_Agent.ipynb\" target=\"_parent\"><img src=\"https://colab.research.google.com/assets/colab-badge.svg\" alt=\"Open In Colab\"/></a>"
      ]
    },
    {
      "cell_type": "code",
      "execution_count": 1,
      "metadata": {
        "colab": {
          "base_uri": "https://localhost:8080/"
        },
        "id": "HeOXIuhgfgjo",
        "outputId": "c5d40493-4505-4ea8-f21c-4e7711750d6d"
      },
      "outputs": [
        {
          "output_type": "stream",
          "name": "stdout",
          "text": [
            "Collecting anthropic\n",
            "  Downloading anthropic-0.50.0-py3-none-any.whl.metadata (25 kB)\n",
            "Requirement already satisfied: anyio<5,>=3.5.0 in /usr/local/lib/python3.11/dist-packages (from anthropic) (4.9.0)\n",
            "Requirement already satisfied: distro<2,>=1.7.0 in /usr/local/lib/python3.11/dist-packages (from anthropic) (1.9.0)\n",
            "Requirement already satisfied: httpx<1,>=0.25.0 in /usr/local/lib/python3.11/dist-packages (from anthropic) (0.28.1)\n",
            "Requirement already satisfied: jiter<1,>=0.4.0 in /usr/local/lib/python3.11/dist-packages (from anthropic) (0.9.0)\n",
            "Requirement already satisfied: pydantic<3,>=1.9.0 in /usr/local/lib/python3.11/dist-packages (from anthropic) (2.11.3)\n",
            "Requirement already satisfied: sniffio in /usr/local/lib/python3.11/dist-packages (from anthropic) (1.3.1)\n",
            "Requirement already satisfied: typing-extensions<5,>=4.10 in /usr/local/lib/python3.11/dist-packages (from anthropic) (4.13.2)\n",
            "Requirement already satisfied: idna>=2.8 in /usr/local/lib/python3.11/dist-packages (from anyio<5,>=3.5.0->anthropic) (3.10)\n",
            "Requirement already satisfied: certifi in /usr/local/lib/python3.11/dist-packages (from httpx<1,>=0.25.0->anthropic) (2025.4.26)\n",
            "Requirement already satisfied: httpcore==1.* in /usr/local/lib/python3.11/dist-packages (from httpx<1,>=0.25.0->anthropic) (1.0.9)\n",
            "Requirement already satisfied: h11>=0.16 in /usr/local/lib/python3.11/dist-packages (from httpcore==1.*->httpx<1,>=0.25.0->anthropic) (0.16.0)\n",
            "Requirement already satisfied: annotated-types>=0.6.0 in /usr/local/lib/python3.11/dist-packages (from pydantic<3,>=1.9.0->anthropic) (0.7.0)\n",
            "Requirement already satisfied: pydantic-core==2.33.1 in /usr/local/lib/python3.11/dist-packages (from pydantic<3,>=1.9.0->anthropic) (2.33.1)\n",
            "Requirement already satisfied: typing-inspection>=0.4.0 in /usr/local/lib/python3.11/dist-packages (from pydantic<3,>=1.9.0->anthropic) (0.4.0)\n",
            "Downloading anthropic-0.50.0-py3-none-any.whl (245 kB)\n",
            "\u001b[2K   \u001b[90m━━━━━━━━━━━━━━━━━━━━━━━━━━━━━━━━━━━━━━━━\u001b[0m \u001b[32m245.3/245.3 kB\u001b[0m \u001b[31m10.4 MB/s\u001b[0m eta \u001b[36m0:00:00\u001b[0m\n",
            "\u001b[?25hInstalling collected packages: anthropic\n",
            "Successfully installed anthropic-0.50.0\n"
          ]
        }
      ],
      "source": [
        "%pip install anthropic"
      ]
    },
    {
      "cell_type": "code",
      "source": [
        "import anthropic\n",
        "import re\n",
        "from google.colab import userdata\n",
        "\n",
        "API_KEY = userdata.get('ANTHROPIC_API_KEY')\n",
        "MODEL_NAME = \"claude-3-5-haiku-latest\"\n",
        "client = anthropic.Anthropic(api_key=API_KEY)"
      ],
      "metadata": {
        "id": "0MSSlK3Hfohr"
      },
      "execution_count": 9,
      "outputs": []
    },
    {
      "cell_type": "code",
      "source": [
        "system_prompt = \"You are a helpful assistant.\""
      ],
      "metadata": {
        "id": "NhyFgWuzfwYQ"
      },
      "execution_count": 4,
      "outputs": []
    },
    {
      "cell_type": "code",
      "source": [
        "tools = []"
      ],
      "metadata": {
        "id": "nikAJVcAgV2c"
      },
      "execution_count": 5,
      "outputs": []
    },
    {
      "cell_type": "code",
      "source": [
        "def get_completion(prompt: str):\n",
        "    message = client.messages.create(\n",
        "        model=MODEL_NAME,\n",
        "        max_tokens=2000,\n",
        "        temperature=0.0,\n",
        "        system=system_prompt,\n",
        "        tools=tools,\n",
        "        messages=[\n",
        "          {\"role\": \"user\", \"content\": prompt}\n",
        "        ]\n",
        "    )\n",
        "    return message.content[0].text"
      ],
      "metadata": {
        "id": "TDn0xG8DgQYN"
      },
      "execution_count": 7,
      "outputs": []
    },
    {
      "cell_type": "code",
      "source": [
        "prompt=\"Yo Claude, wuzzup?\"\n",
        "\n",
        "print(get_completion(prompt))"
      ],
      "metadata": {
        "colab": {
          "base_uri": "https://localhost:8080/"
        },
        "id": "y1O6EiIUgb2h",
        "outputId": "f9a31d67-734a-482a-84f2-7195ab8a4ef5"
      },
      "execution_count": 10,
      "outputs": [
        {
          "output_type": "stream",
          "name": "stdout",
          "text": [
            "I'm doing well, thanks for asking. How are you today?\n"
          ]
        }
      ]
    },
    {
      "cell_type": "code",
      "source": [
        "tools = [\n",
        "    {\n",
        "        \"name\": \"get_customer_info\",\n",
        "        \"description\": \"Retrieves customer information based on their customer ID. Returns the customer's name, email, and phone number.\",\n",
        "        \"input_schema\": {\n",
        "            \"type\": \"object\",\n",
        "            \"properties\": {\n",
        "                \"customer_id\": {\n",
        "                    \"type\": \"string\",\n",
        "                    \"description\": \"The unique identifier for the customer.\"\n",
        "                }\n",
        "            },\n",
        "            \"required\": [\"customer_id\"]\n",
        "        }\n",
        "    },\n",
        "     {\n",
        "        \"name\": \"add_customer\",\n",
        "        \"description\": \"Adds a new customer to the database. Includes customer ID, name, email, and phone number.\",\n",
        "        \"input_schema\": {\n",
        "            \"type\": \"object\",\n",
        "            \"properties\": {\n",
        "                \"customer_id\": {\n",
        "                    \"type\": \"string\",\n",
        "                    \"description\": \"The unique identifier for the customer.\"\n",
        "                },\n",
        "                \"name\": {\n",
        "                    \"type\": \"string\",\n",
        "                    \"description\": \"The name of the customer.\"\n",
        "                },\n",
        "                \"email\": {\n",
        "                    \"type\": \"string\",\n",
        "                    \"description\": \"The email address of the customer.\"\n",
        "                }\n",
        "            },\n",
        "            \"required\": [\"customer_id\", \"name\", \"email\", \"phone\"]\n",
        "        }\n",
        "    },\n",
        "    {\n",
        "        \"name\": \"get_order_details\",\n",
        "        \"description\": \"Retrieves the details of a specific order based on the order ID. Returns the order ID, product name, quantity, price, and order status.\",\n",
        "        \"input_schema\": {\n",
        "            \"type\": \"object\",\n",
        "            \"properties\": {\n",
        "                \"order_id\": {\n",
        "                    \"type\": \"string\",\n",
        "                    \"description\": \"The unique identifier for the order.\"\n",
        "                }\n",
        "            },\n",
        "            \"required\": [\"order_id\"]\n",
        "        }\n",
        "    },\n",
        "    {\n",
        "        \"name\": \"add_order\",\n",
        "        \"description\": \"Creates an order. Includes order ID, product name, quantity, price, and order status.\",\n",
        "        \"input_schema\": {\n",
        "            \"type\": \"object\",\n",
        "            \"properties\": {\n",
        "                \"order_id\": {\n",
        "                    \"type\": \"string\",\n",
        "                    \"description\": \"The unique identifier for the order.\"\n",
        "                }\n",
        "            },\n",
        "            \"required\": [\"order_id\", \"product\", \"quantity\", \"price\", \"status\" ]\n",
        "        }\n",
        "    },\n",
        "    {\n",
        "        \"name\": \"cancel_order\",\n",
        "        \"description\": \"Cancels an order based on the provided order ID. Returns a confirmation message if the cancellation is successful.\",\n",
        "        \"input_schema\": {\n",
        "            \"type\": \"object\",\n",
        "            \"properties\": {\n",
        "                \"order_id\": {\n",
        "                    \"type\": \"string\",\n",
        "                    \"description\": \"The unique identifier for the order to be cancelled.\"\n",
        "                }\n",
        "            },\n",
        "            \"required\": [\"order_id\"]\n",
        "        }\n",
        "    }\n",
        "]"
      ],
      "metadata": {
        "id": "bpAM8-Wbgpwa"
      },
      "execution_count": 26,
      "outputs": []
    },
    {
      "cell_type": "code",
      "source": [
        "# Global customer storage\n",
        "customers = {\n",
        "    \"C1\": {\"name\": \"John Doe\", \"email\": \"john@example.com\", \"phone\": \"123-456-7890\"},\n",
        "    \"C2\": {\"name\": \"Jane Smith\", \"email\": \"jane@example.com\", \"phone\": \"987-654-3210\"}\n",
        "}\n",
        "\n",
        "# Global order storage\n",
        "orders = {\n",
        "        \"O1\": {\"id\": \"O1\", \"product\": \"Widget A\", \"quantity\": 2, \"price\": 19.99, \"status\": \"Shipped\"},\n",
        "        \"O2\": {\"id\": \"O2\", \"product\": \"Gadget B\", \"quantity\": 1, \"price\": 49.99, \"status\": \"Processing\"}\n",
        "    }\n",
        "\n",
        "def get_customer_info(customer_id):\n",
        "    return customers.get(customer_id, \"Customer not found\")\n",
        "\n",
        "def add_customer(name, email, phone):\n",
        "    new_id = f\"C{len(customers) + 1}\"  # Simple ID generator like C3, C4, ...\n",
        "    customers[new_id] = {\"name\": name, \"email\": email, \"phone\": phone}\n",
        "    return new_id, customers[new_id]\n",
        "\n",
        "def get_order_details(order_id):\n",
        "    # Simulated order data\n",
        "    return orders.get(order_id, \"Order not found\")\n",
        "\n",
        "def add_order(product, quantity, price, status):\n",
        "    new_id = f\"O{len(orders) + 1}\"  # Simple ID generator like O\n",
        "    orders[new_id] = {\"id\": new_id, \"product\": product, \"quantity\": quantity, \"price\": price, \"status\": status}\n",
        "    return new_id, orders[new_id]\n",
        "\n",
        "def cancel_order(order_id):\n",
        "    # Simulated order cancellation\n",
        "    if order_id in [\"O1\", \"O2\"]:\n",
        "        return True\n",
        "    else:\n",
        "        return False"
      ],
      "metadata": {
        "id": "oPLWnc17hmLi"
      },
      "execution_count": 33,
      "outputs": []
    },
    {
      "cell_type": "code",
      "source": [
        "def process_tool_call(tool_name, tool_input):\n",
        "    if tool_name == \"get_customer_info\":\n",
        "        return get_customer_info(tool_input[\"customer_id\"])\n",
        "    elif tool_name == \"add_customer\":\n",
        "        return add_customer(tool_input[\"name\"], tool_input[\"email\"], tool_input[\"phone\"])\n",
        "    elif tool_name == \"get_order_details\":\n",
        "        return get_order_details(tool_input[\"order_id\"])\n",
        "    elif tool_name == \"add_order\":\n",
        "        return add_order(tool_input[\"product\"], tool_input[\"quantity\"], tool_input[\"price\"], tool_input[\"status\"])\n",
        "    elif tool_name == \"cancel_order\":\n",
        "        return cancel_order(tool_input[\"order_id\"])"
      ],
      "metadata": {
        "id": "8XRz65SthrqJ"
      },
      "execution_count": 34,
      "outputs": []
    },
    {
      "cell_type": "code",
      "source": [
        "import json\n",
        "\n",
        "def chatbot_interaction(user_message):\n",
        "    print(f\"\\n{'='*50}\\nUser Message: {user_message}\\n{'='*50}\")\n",
        "\n",
        "    messages = [\n",
        "        {\"role\": \"user\", \"content\": user_message}\n",
        "    ]\n",
        "\n",
        "    response = client.messages.create(\n",
        "        model=MODEL_NAME,\n",
        "        max_tokens=4096,\n",
        "        tools=tools,\n",
        "        messages=messages\n",
        "    )\n",
        "\n",
        "    print(f\"\\nInitial Response:\")\n",
        "    print(f\"Stop Reason: {response.stop_reason}\")\n",
        "    print(f\"Content: {response.content}\")\n",
        "\n",
        "    while response.stop_reason == \"tool_use\":\n",
        "        tool_use = next(block for block in response.content if block.type == \"tool_use\")\n",
        "        tool_name = tool_use.name\n",
        "        tool_input = tool_use.input\n",
        "\n",
        "        print(f\"\\nTool Used: {tool_name}\")\n",
        "        print(f\"Tool Input:\")\n",
        "        print(json.dumps(tool_input, indent=2))\n",
        "\n",
        "        tool_result = process_tool_call(tool_name, tool_input)\n",
        "\n",
        "        print(f\"\\nTool Result:\")\n",
        "        print(json.dumps(tool_result, indent=2))\n",
        "\n",
        "        messages = [\n",
        "            {\"role\": \"user\", \"content\": user_message},\n",
        "            {\"role\": \"assistant\", \"content\": response.content},\n",
        "            {\n",
        "                \"role\": \"user\",\n",
        "                \"content\": [\n",
        "                    {\n",
        "                        \"type\": \"tool_result\",\n",
        "                        \"tool_use_id\": tool_use.id,\n",
        "                        \"content\": str(tool_result),\n",
        "                    }\n",
        "                ],\n",
        "            },\n",
        "        ]\n",
        "\n",
        "        response = client.messages.create(\n",
        "            model=MODEL_NAME,\n",
        "            max_tokens=4096,\n",
        "            tools=tools,\n",
        "            messages=messages\n",
        "        )\n",
        "\n",
        "        print(f\"\\nResponse:\")\n",
        "        print(f\"Stop Reason: {response.stop_reason}\")\n",
        "        print(f\"Content: {response.content}\")\n",
        "\n",
        "    final_response = next(\n",
        "        (block.text for block in response.content if hasattr(block, \"text\")),\n",
        "        None,\n",
        "    )\n",
        "\n",
        "    print(f\"\\nFinal Response: {final_response}\")\n",
        "\n",
        "    return final_response"
      ],
      "metadata": {
        "id": "KK0xfsH2hx3g"
      },
      "execution_count": 35,
      "outputs": []
    },
    {
      "cell_type": "code",
      "source": [
        "chatbot_interaction(\"Can you tell me the email address for customer C1?\")"
      ],
      "metadata": {
        "colab": {
          "base_uri": "https://localhost:8080/",
          "height": 558
        },
        "id": "liSdlzhVi0bu",
        "outputId": "44101095-d31b-4f10-bcaa-912d62e1012c"
      },
      "execution_count": 15,
      "outputs": [
        {
          "output_type": "stream",
          "name": "stdout",
          "text": [
            "\n",
            "==================================================\n",
            "User Message: Can you tell me the email address for customer C1?\n",
            "==================================================\n",
            "\n",
            "Initial Response:\n",
            "Stop Reason: tool_use\n",
            "Content: [TextBlock(citations=None, text=\"I'll help you retrieve the customer information for customer C1. I'll use the `get_customer_info` function to fetch the details.\", type='text'), ToolUseBlock(id='toolu_01CtcipPNvPPfg8WPLyx7bT4', input={'customer_id': 'C1'}, name='get_customer_info', type='tool_use')]\n",
            "\n",
            "Tool Used: get_customer_info\n",
            "Tool Input:\n",
            "{\n",
            "  \"customer_id\": \"C1\"\n",
            "}\n",
            "\n",
            "Tool Result:\n",
            "{\n",
            "  \"name\": \"John Doe\",\n",
            "  \"email\": \"john@example.com\",\n",
            "  \"phone\": \"123-456-7890\"\n",
            "}\n",
            "\n",
            "Response:\n",
            "Stop Reason: end_turn\n",
            "Content: [TextBlock(citations=None, text='The email address for customer C1 (John Doe) is john@example.com.\\n\\nIs there anything else I can help you with?', type='text')]\n",
            "\n",
            "Final Response: The email address for customer C1 (John Doe) is john@example.com.\n",
            "\n",
            "Is there anything else I can help you with?\n"
          ]
        },
        {
          "output_type": "execute_result",
          "data": {
            "text/plain": [
              "'The email address for customer C1 (John Doe) is john@example.com.\\n\\nIs there anything else I can help you with?'"
            ],
            "application/vnd.google.colaboratory.intrinsic+json": {
              "type": "string"
            }
          },
          "metadata": {},
          "execution_count": 15
        }
      ]
    },
    {
      "cell_type": "code",
      "source": [
        "chatbot_interaction(\"What is the status of order O2?\")"
      ],
      "metadata": {
        "colab": {
          "base_uri": "https://localhost:8080/",
          "height": 558
        },
        "id": "6aLkNzDUjgQx",
        "outputId": "70a9c59c-1ef3-4286-a85b-1f70f290049d"
      },
      "execution_count": 16,
      "outputs": [
        {
          "output_type": "stream",
          "name": "stdout",
          "text": [
            "\n",
            "==================================================\n",
            "User Message: What is the status of order O2?\n",
            "==================================================\n",
            "\n",
            "Initial Response:\n",
            "Stop Reason: tool_use\n",
            "Content: [TextBlock(citations=None, text=\"I'll help you check the status of order O2 by retrieving its order details.\", type='text'), ToolUseBlock(id='toolu_01P2zmHXPiqXaq96K2pvGTEH', input={'order_id': 'O2'}, name='get_order_details', type='tool_use')]\n",
            "\n",
            "Tool Used: get_order_details\n",
            "Tool Input:\n",
            "{\n",
            "  \"order_id\": \"O2\"\n",
            "}\n",
            "\n",
            "Tool Result:\n",
            "{\n",
            "  \"id\": \"O2\",\n",
            "  \"product\": \"Gadget B\",\n",
            "  \"quantity\": 1,\n",
            "  \"price\": 49.99,\n",
            "  \"status\": \"Processing\"\n",
            "}\n",
            "\n",
            "Response:\n",
            "Stop Reason: end_turn\n",
            "Content: [TextBlock(citations=None, text='The order O2 is currently in \"Processing\" status. It contains 1 unit of Gadget B priced at $49.99. Is there anything else you would like to know about this order?', type='text')]\n",
            "\n",
            "Final Response: The order O2 is currently in \"Processing\" status. It contains 1 unit of Gadget B priced at $49.99. Is there anything else you would like to know about this order?\n"
          ]
        },
        {
          "output_type": "execute_result",
          "data": {
            "text/plain": [
              "'The order O2 is currently in \"Processing\" status. It contains 1 unit of Gadget B priced at $49.99. Is there anything else you would like to know about this order?'"
            ],
            "application/vnd.google.colaboratory.intrinsic+json": {
              "type": "string"
            }
          },
          "metadata": {},
          "execution_count": 16
        }
      ]
    },
    {
      "cell_type": "code",
      "source": [
        "chatbot_interaction(\"Please cancel order O1 for me.\")"
      ],
      "metadata": {
        "colab": {
          "base_uri": "https://localhost:8080/",
          "height": 454
        },
        "id": "OobzDgjTjt-F",
        "outputId": "6c410245-cd8c-44a9-83b7-7590e014bef4"
      },
      "execution_count": 17,
      "outputs": [
        {
          "output_type": "stream",
          "name": "stdout",
          "text": [
            "\n",
            "==================================================\n",
            "User Message: Please cancel order O1 for me.\n",
            "==================================================\n",
            "\n",
            "Initial Response:\n",
            "Stop Reason: tool_use\n",
            "Content: [TextBlock(citations=None, text=\"I'll help you cancel the order O1. I'll use the `cancel_order` function to process this request.\", type='text'), ToolUseBlock(id='toolu_014FB8xhzEyUaAustpPLWUwN', input={'order_id': 'O1'}, name='cancel_order', type='tool_use')]\n",
            "\n",
            "Tool Used: cancel_order\n",
            "Tool Input:\n",
            "{\n",
            "  \"order_id\": \"O1\"\n",
            "}\n",
            "\n",
            "Tool Result:\n",
            "true\n",
            "\n",
            "Response:\n",
            "Stop Reason: end_turn\n",
            "Content: [TextBlock(citations=None, text='The order O1 has been successfully cancelled. Is there anything else I can help you with today?', type='text')]\n",
            "\n",
            "Final Response: The order O1 has been successfully cancelled. Is there anything else I can help you with today?\n"
          ]
        },
        {
          "output_type": "execute_result",
          "data": {
            "text/plain": [
              "'The order O1 has been successfully cancelled. Is there anything else I can help you with today?'"
            ],
            "application/vnd.google.colaboratory.intrinsic+json": {
              "type": "string"
            }
          },
          "metadata": {},
          "execution_count": 17
        }
      ]
    },
    {
      "cell_type": "code",
      "source": [
        "print(get_order_details(\"O1\"))"
      ],
      "metadata": {
        "colab": {
          "base_uri": "https://localhost:8080/"
        },
        "id": "0vh8YS3njwEr",
        "outputId": "9de671fb-08ed-47d4-99b1-ceef7c59ec1b"
      },
      "execution_count": 19,
      "outputs": [
        {
          "output_type": "stream",
          "name": "stdout",
          "text": [
            "{'id': 'O1', 'product': 'Widget A', 'quantity': 2, 'price': 19.99, 'status': 'Shipped'}\n"
          ]
        }
      ]
    },
    {
      "cell_type": "code",
      "source": [
        "chatbot_interaction(\"Add a new customer: Bill Leece, bill.leece@example.com, 123-456-789\")"
      ],
      "metadata": {
        "colab": {
          "base_uri": "https://localhost:8080/",
          "height": 732
        },
        "id": "rq-wai6fmTEc",
        "outputId": "b9a62e1b-c282-44a4-87b3-647126cd78a0"
      },
      "execution_count": 36,
      "outputs": [
        {
          "output_type": "stream",
          "name": "stdout",
          "text": [
            "\n",
            "==================================================\n",
            "User Message: Add a new customer: Bill Leece, bill.leece@example.com, 123-456-789\n",
            "==================================================\n",
            "\n",
            "Initial Response:\n",
            "Stop Reason: tool_use\n",
            "Content: [TextBlock(citations=None, text=\"I'll help you add a new customer using the `add_customer` function. I'll generate a unique customer ID for Bill Leece.\", type='text'), ToolUseBlock(id='toolu_015xurX6wTERLERy6JQFePm4', input={'customer_id': 'BILL001', 'name': 'Bill Leece', 'email': 'bill.leece@example.com', 'phone': '123-456-789'}, name='add_customer', type='tool_use')]\n",
            "\n",
            "Tool Used: add_customer\n",
            "Tool Input:\n",
            "{\n",
            "  \"customer_id\": \"BILL001\",\n",
            "  \"name\": \"Bill Leece\",\n",
            "  \"email\": \"bill.leece@example.com\",\n",
            "  \"phone\": \"123-456-789\"\n",
            "}\n",
            "\n",
            "Tool Result:\n",
            "[\n",
            "  \"C3\",\n",
            "  {\n",
            "    \"name\": \"Bill Leece\",\n",
            "    \"email\": \"bill.leece@example.com\",\n",
            "    \"phone\": \"123-456-789\"\n",
            "  }\n",
            "]\n",
            "\n",
            "Response:\n",
            "Stop Reason: end_turn\n",
            "Content: [TextBlock(citations=None, text='Great! I\\'ve added Bill Leece to the customer database. The system has assigned him the customer ID \"C3\". The customer record includes:\\n- Name: Bill Leece\\n- Email: bill.leece@example.com\\n- Phone: 123-456-789\\n\\nIs there anything else I can help you with?', type='text')]\n",
            "\n",
            "Final Response: Great! I've added Bill Leece to the customer database. The system has assigned him the customer ID \"C3\". The customer record includes:\n",
            "- Name: Bill Leece\n",
            "- Email: bill.leece@example.com\n",
            "- Phone: 123-456-789\n",
            "\n",
            "Is there anything else I can help you with?\n"
          ]
        },
        {
          "output_type": "execute_result",
          "data": {
            "text/plain": [
              "'Great! I\\'ve added Bill Leece to the customer database. The system has assigned him the customer ID \"C3\". The customer record includes:\\n- Name: Bill Leece\\n- Email: bill.leece@example.com\\n- Phone: 123-456-789\\n\\nIs there anything else I can help you with?'"
            ],
            "application/vnd.google.colaboratory.intrinsic+json": {
              "type": "string"
            }
          },
          "metadata": {},
          "execution_count": 36
        }
      ]
    },
    {
      "cell_type": "code",
      "source": [
        "customers"
      ],
      "metadata": {
        "colab": {
          "base_uri": "https://localhost:8080/"
        },
        "id": "_RsascgQnUYS",
        "outputId": "67dec4c9-a129-4063-b080-36e2d75fd389"
      },
      "execution_count": 37,
      "outputs": [
        {
          "output_type": "execute_result",
          "data": {
            "text/plain": [
              "{'C1': {'name': 'John Doe',\n",
              "  'email': 'john@example.com',\n",
              "  'phone': '123-456-7890'},\n",
              " 'C2': {'name': 'Jane Smith',\n",
              "  'email': 'jane@example.com',\n",
              "  'phone': '987-654-3210'},\n",
              " 'C3': {'name': 'Bill Leece',\n",
              "  'email': 'bill.leece@example.com',\n",
              "  'phone': '123-456-789'}}"
            ]
          },
          "metadata": {},
          "execution_count": 37
        }
      ]
    }
  ]
}