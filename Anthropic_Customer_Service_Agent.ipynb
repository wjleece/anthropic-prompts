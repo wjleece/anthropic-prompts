{
  "nbformat": 4,
  "nbformat_minor": 0,
  "metadata": {
    "colab": {
      "provenance": [],
      "authorship_tag": "ABX9TyMXhdy9YtFhrWNiF58UeG84",
      "include_colab_link": true
    },
    "kernelspec": {
      "name": "python3",
      "display_name": "Python 3"
    },
    "language_info": {
      "name": "python"
    }
  },
  "cells": [
    {
      "cell_type": "markdown",
      "metadata": {
        "id": "view-in-github",
        "colab_type": "text"
      },
      "source": [
        "<a href=\"https://colab.research.google.com/github/wjleece/anthropic-prompts/blob/main/Anthropic_Customer_Service_Agent.ipynb\" target=\"_parent\"><img src=\"https://colab.research.google.com/assets/colab-badge.svg\" alt=\"Open In Colab\"/></a>"
      ]
    },
    {
      "cell_type": "code",
      "execution_count": 34,
      "metadata": {
        "colab": {
          "base_uri": "https://localhost:8080/"
        },
        "id": "HeOXIuhgfgjo",
        "outputId": "683820e3-db16-4a87-ee5a-5482cb7cd753"
      },
      "outputs": [
        {
          "output_type": "stream",
          "name": "stdout",
          "text": [
            "Requirement already satisfied: anthropic in /usr/local/lib/python3.11/dist-packages (0.51.0)\n",
            "Requirement already satisfied: anyio<5,>=3.5.0 in /usr/local/lib/python3.11/dist-packages (from anthropic) (4.9.0)\n",
            "Requirement already satisfied: distro<2,>=1.7.0 in /usr/local/lib/python3.11/dist-packages (from anthropic) (1.9.0)\n",
            "Requirement already satisfied: httpx<1,>=0.25.0 in /usr/local/lib/python3.11/dist-packages (from anthropic) (0.28.1)\n",
            "Requirement already satisfied: jiter<1,>=0.4.0 in /usr/local/lib/python3.11/dist-packages (from anthropic) (0.9.0)\n",
            "Requirement already satisfied: pydantic<3,>=1.9.0 in /usr/local/lib/python3.11/dist-packages (from anthropic) (2.11.4)\n",
            "Requirement already satisfied: sniffio in /usr/local/lib/python3.11/dist-packages (from anthropic) (1.3.1)\n",
            "Requirement already satisfied: typing-extensions<5,>=4.10 in /usr/local/lib/python3.11/dist-packages (from anthropic) (4.13.2)\n",
            "Requirement already satisfied: idna>=2.8 in /usr/local/lib/python3.11/dist-packages (from anyio<5,>=3.5.0->anthropic) (3.10)\n",
            "Requirement already satisfied: certifi in /usr/local/lib/python3.11/dist-packages (from httpx<1,>=0.25.0->anthropic) (2025.4.26)\n",
            "Requirement already satisfied: httpcore==1.* in /usr/local/lib/python3.11/dist-packages (from httpx<1,>=0.25.0->anthropic) (1.0.9)\n",
            "Requirement already satisfied: h11>=0.16 in /usr/local/lib/python3.11/dist-packages (from httpcore==1.*->httpx<1,>=0.25.0->anthropic) (0.16.0)\n",
            "Requirement already satisfied: annotated-types>=0.6.0 in /usr/local/lib/python3.11/dist-packages (from pydantic<3,>=1.9.0->anthropic) (0.7.0)\n",
            "Requirement already satisfied: pydantic-core==2.33.2 in /usr/local/lib/python3.11/dist-packages (from pydantic<3,>=1.9.0->anthropic) (2.33.2)\n",
            "Requirement already satisfied: typing-inspection>=0.4.0 in /usr/local/lib/python3.11/dist-packages (from pydantic<3,>=1.9.0->anthropic) (0.4.0)\n"
          ]
        }
      ],
      "source": [
        "%pip install anthropic"
      ]
    },
    {
      "cell_type": "code",
      "source": [
        "import anthropic\n",
        "import re\n",
        "from google.colab import userdata\n",
        "\n",
        "API_KEY = userdata.get('ANTHROPIC_API_KEY')\n",
        "MODEL_NAME = \"claude-3-7-sonnet-latest\"\n",
        "client = anthropic.Anthropic(api_key=API_KEY)"
      ],
      "metadata": {
        "id": "0MSSlK3Hfohr"
      },
      "execution_count": 35,
      "outputs": []
    },
    {
      "cell_type": "code",
      "source": [
        "system_prompt = \"You are a helpful assistant.\""
      ],
      "metadata": {
        "id": "NhyFgWuzfwYQ"
      },
      "execution_count": 36,
      "outputs": []
    },
    {
      "cell_type": "code",
      "source": [
        "tools = []"
      ],
      "metadata": {
        "id": "nikAJVcAgV2c"
      },
      "execution_count": 37,
      "outputs": []
    },
    {
      "cell_type": "code",
      "source": [
        "def get_completion(prompt: str):\n",
        "    message = client.messages.create(\n",
        "        model=MODEL_NAME,\n",
        "        max_tokens=2000,\n",
        "        temperature=0.0,\n",
        "        system=system_prompt,\n",
        "        tools=tools,\n",
        "        messages=[\n",
        "          {\"role\": \"user\", \"content\": prompt}\n",
        "        ]\n",
        "    )\n",
        "    return message.content[0].text"
      ],
      "metadata": {
        "id": "TDn0xG8DgQYN"
      },
      "execution_count": 38,
      "outputs": []
    },
    {
      "cell_type": "code",
      "source": [
        "prompt=\"Yo Claude, wuzzup?\"\n",
        "\n",
        "print(get_completion(prompt))"
      ],
      "metadata": {
        "colab": {
          "base_uri": "https://localhost:8080/"
        },
        "id": "y1O6EiIUgb2h",
        "outputId": "a2b797dc-ce56-4c96-ac86-77d818a10d9f"
      },
      "execution_count": 39,
      "outputs": [
        {
          "output_type": "stream",
          "name": "stdout",
          "text": [
            "Hey there! Not much on my end, just hanging out in the digital realm, ready to help with whatever you need. What's going on with you today? Anything I can help you with or chat about?\n"
          ]
        }
      ]
    },
    {
      "cell_type": "code",
      "source": [
        "tools = [\n",
        "    {\n",
        "        \"name\": \"get_customer_info\",\n",
        "        \"description\": \"Retrieves customer information based on their customer ID. Returns the customer's name, email, and phone number.\",\n",
        "        \"input_schema\": {\n",
        "            \"type\": \"object\",\n",
        "            \"properties\": {\n",
        "                \"customer_id\": {\n",
        "                    \"type\": \"string\",\n",
        "                    \"description\": \"The unique identifier for the customer.\"\n",
        "                }\n",
        "            },\n",
        "            \"required\": [\"customer_id\"]\n",
        "        }\n",
        "    },\n",
        "     {\n",
        "        \"name\": \"add_customer\",\n",
        "        \"description\": \"Adds a new customer to the database. Includes customer ID, name, email, and phone number.\",\n",
        "        \"input_schema\": {\n",
        "            \"type\": \"object\",\n",
        "            \"properties\": {\n",
        "                \"customer_id\": {\n",
        "                    \"type\": \"string\",\n",
        "                    \"description\": \"The unique identifier for the customer, which you automatically will generate any time add_customer is called.\"\n",
        "                },\n",
        "                \"name\": {\n",
        "                    \"type\": \"string\",\n",
        "                    \"description\": \"The name of the customer.\"\n",
        "                },\n",
        "                \"email\": {\n",
        "                    \"type\": \"string\",\n",
        "                    \"description\": \"The email address of the customer.\"\n",
        "                },\n",
        "                \"phone\": {\n",
        "                    \"type\": \"string\",\n",
        "                    \"description\": \"The phone number of the customer.\"\n",
        "                }\n",
        "            },\n",
        "            \"required\": [\"customer_id\", \"name\", \"email\"],\n",
        "            \"optional\": [\"phone\"]\n",
        "        }\n",
        "    },\n",
        "    {\n",
        "        \"name\": \"get_order_details\",\n",
        "        \"description\": \"Retrieves the details of a specific order based on the order ID. Returns the order ID, product name, quantity, price, and order status.\",\n",
        "        \"input_schema\": {\n",
        "            \"type\": \"object\",\n",
        "            \"properties\": {\n",
        "                \"order_id\": {\n",
        "                    \"type\": \"string\",\n",
        "                    \"description\": \"The unique identifier for the order.\"\n",
        "                },\n",
        "                \"product\": {\n",
        "                    \"type\": \"string\",\n",
        "                    \"description\": \"The name of the product in the order.\"\n",
        "                },\n",
        "                \"quantity\": {\n",
        "                    \"type\": \"integer\",\n",
        "                    \"description\": \"The quantity of the product in the order.\"\n",
        "                },\n",
        "                \"price\": {\n",
        "                    \"type\": \"number\",\n",
        "                    \"description\": \"The price of each product in the order.\"\n",
        "                },\n",
        "                \"status\": {\n",
        "                    \"type\": \"string\",\n",
        "                    \"description\": \"The current status of the order.\"\n",
        "                }\n",
        "            },\n",
        "            \"required\": [\"order_id\"]\n",
        "        }\n",
        "    },\n",
        "    {\n",
        "        \"name\": \"add_order\",\n",
        "        \"description\": \"Creates an order. Includes order ID, product name, quantity, price, and order status.\",\n",
        "        \"input_schema\": {\n",
        "            \"type\": \"object\",\n",
        "            \"properties\": {\n",
        "                \"order_id\": {\n",
        "                    \"type\": \"string\",\n",
        "                    \"description\": \"The unique identifier for the order, which you automatically will generate any time add_order is called.\"\n",
        "                },\n",
        "                \"product\": {\n",
        "                    \"type\": \"string\",\n",
        "                    \"description\": \"The name of the product in the order.\"\n",
        "                },\n",
        "                \"quantity\": {\n",
        "                    \"type\": \"integer\",\n",
        "                    \"description\": \"The quantity of the product in the order.\"\n",
        "                },\n",
        "                \"price\": {\n",
        "                    \"type\": \"number\",\n",
        "                    \"description\": \"The price of each product in the order.\"\n",
        "                },\n",
        "                \"status\": {\n",
        "                    \"type\": \"string\",\n",
        "                    \"description\": \"The current status of the order.\"\n",
        "                }\n",
        "            },\n",
        "            \"required\": [\"order_id\", \"product\", \"quantity\", \"price\", \"status\" ]\n",
        "        }\n",
        "    },\n",
        "    {\n",
        "        \"name\": \"cancel_order\",\n",
        "        \"description\": \"\"\"Cancels an order based on the provided order ID. Sets the order status to \"Canceled\" and returns a confirmation message if the cancellation is successful.\"\"\",\n",
        "        \"input_schema\": {\n",
        "            \"type\": \"object\",\n",
        "            \"properties\": {\n",
        "                \"order_id\": {\n",
        "                    \"type\": \"string\",\n",
        "                    \"description\": \"The unique identifier for the order to be cancelled.\"\n",
        "                }\n",
        "            },\n",
        "            \"required\": [\"order_id\"]\n",
        "        }\n",
        "    }\n",
        "]"
      ],
      "metadata": {
        "id": "bpAM8-Wbgpwa"
      },
      "execution_count": 56,
      "outputs": []
    },
    {
      "cell_type": "code",
      "source": [
        "# Global customer storage\n",
        "customers = {\n",
        "    \"C1\": {\"name\": \"John Doe\", \"email\": \"john@example.com\", \"phone\": \"123-456-7890\"},\n",
        "    \"C2\": {\"name\": \"Jane Smith\", \"email\": \"jane@example.com\", \"phone\": \"987-654-3210\"}\n",
        "}\n",
        "\n",
        "# Global order storage\n",
        "orders = {\n",
        "        \"O1\": {\"id\": \"O1\", \"product\": \"Widget A\", \"quantity\": 2, \"price\": 19.99, \"status\": \"Shipped\"},\n",
        "        \"O2\": {\"id\": \"O2\", \"product\": \"Gadget B\", \"quantity\": 1, \"price\": 49.99, \"status\": \"Processing\"}\n",
        "    }\n",
        "\n",
        "def get_customer_info(customer_id):\n",
        "    return customers.get(customer_id, \"Customer not found\")\n",
        "\n",
        "def add_customer(name, email, phone):\n",
        "    new_id = f\"C{len(customers) + 1}\"  # Simple ID generator like C3, C4, ...\n",
        "    customers[new_id] = {\"name\": name, \"email\": email, \"phone\": phone}\n",
        "    return new_id, customers[new_id]\n",
        "\n",
        "def get_order_details(order_id):\n",
        "    # Simulated order data\n",
        "    return orders.get(order_id, \"Order not found\")\n",
        "\n",
        "def add_order(product, quantity, price, status):\n",
        "    new_id = f\"O{len(orders) + 1}\"  # Simple ID generator like O\n",
        "    orders[new_id] = {\"id\": new_id, \"product\": product, \"quantity\": quantity, \"price\": price, \"status\": status}\n",
        "    return new_id, orders[new_id]\n",
        "\n",
        "def cancel_order(order_id):\n",
        "    # Check if the order exists\n",
        "    if order_id in orders:\n",
        "        # Keep all existing order data and just update the status\n",
        "        orders[order_id][\"status\"] = \"Canceled\"\n",
        "        return order_id, orders[order_id]\n",
        "    else:\n",
        "        return \"Order not found\"\n",
        ""
      ],
      "metadata": {
        "id": "oPLWnc17hmLi"
      },
      "execution_count": 70,
      "outputs": []
    },
    {
      "cell_type": "code",
      "source": [
        "def process_tool_call(tool_name, tool_input):\n",
        "    if tool_name == \"get_customer_info\":\n",
        "        return get_customer_info(tool_input[\"customer_id\"])\n",
        "    elif tool_name == \"add_customer\":\n",
        "        return add_customer(tool_input[\"name\"], tool_input[\"email\"], tool_input[\"phone\"])\n",
        "    elif tool_name == \"get_order_details\":\n",
        "        return get_order_details(tool_input[\"order_id\"])\n",
        "    elif tool_name == \"add_order\":\n",
        "        return add_order(tool_input[\"product\"], tool_input[\"quantity\"], tool_input[\"price\"], tool_input[\"status\"])\n",
        "    elif tool_name == \"cancel_order\":\n",
        "        return cancel_order(tool_input[\"order_id\"])"
      ],
      "metadata": {
        "id": "8XRz65SthrqJ"
      },
      "execution_count": 71,
      "outputs": []
    },
    {
      "cell_type": "code",
      "source": [
        "import json\n",
        "\n",
        "def chatbot_interaction(user_message):\n",
        "    print(f\"\\n{'='*50}\\nUser Message: {user_message}\\n{'='*50}\")\n",
        "\n",
        "    messages = [\n",
        "        {\"role\": \"user\", \"content\": user_message}\n",
        "    ]\n",
        "\n",
        "    response = client.messages.create(\n",
        "        model=MODEL_NAME,\n",
        "        max_tokens=4096,\n",
        "        tools=tools,\n",
        "        messages=messages\n",
        "    )\n",
        "\n",
        "    print(f\"\\nInitial Response:\")\n",
        "    print(f\"Stop Reason: {response.stop_reason}\")\n",
        "    print(f\"Content: {response.content}\")\n",
        "\n",
        "    while response.stop_reason == \"tool_use\":\n",
        "        tool_use = next(block for block in response.content if block.type == \"tool_use\")\n",
        "        tool_name = tool_use.name\n",
        "        tool_input = tool_use.input\n",
        "\n",
        "        print(f\"\\nTool Used: {tool_name}\")\n",
        "        print(f\"Tool Input:\")\n",
        "        print(json.dumps(tool_input, indent=2))\n",
        "\n",
        "        tool_result = process_tool_call(tool_name, tool_input)\n",
        "\n",
        "        print(f\"\\nTool Result:\")\n",
        "        print(json.dumps(tool_result, indent=2))\n",
        "\n",
        "        messages = [\n",
        "            {\"role\": \"user\", \"content\": user_message},\n",
        "            {\"role\": \"assistant\", \"content\": response.content},\n",
        "            {\n",
        "                \"role\": \"user\",\n",
        "                \"content\": [\n",
        "                    {\n",
        "                        \"type\": \"tool_result\",\n",
        "                        \"tool_use_id\": tool_use.id,\n",
        "                        \"content\": str(tool_result),\n",
        "                    }\n",
        "                ],\n",
        "            },\n",
        "        ]\n",
        "\n",
        "        response = client.messages.create(\n",
        "            model=MODEL_NAME,\n",
        "            max_tokens=4096,\n",
        "            tools=tools,\n",
        "            messages=messages\n",
        "        )\n",
        "\n",
        "        print(f\"\\nResponse:\")\n",
        "        print(f\"Stop Reason: {response.stop_reason}\")\n",
        "        print(f\"Content: {response.content}\")\n",
        "\n",
        "    final_response = next(\n",
        "        (block.text for block in response.content if hasattr(block, \"text\")),\n",
        "        None,\n",
        "    )\n",
        "\n",
        "    print(f\"\\nFinal Response: {final_response}\")\n",
        "\n",
        "    return final_response"
      ],
      "metadata": {
        "id": "KK0xfsH2hx3g"
      },
      "execution_count": 72,
      "outputs": []
    },
    {
      "cell_type": "code",
      "source": [
        "chatbot_interaction(\"Can you tell me the email address for customer C1?\")"
      ],
      "metadata": {
        "colab": {
          "base_uri": "https://localhost:8080/",
          "height": 558
        },
        "id": "liSdlzhVi0bu",
        "outputId": "38409515-1431-432f-f3d6-6242aae4d8e4"
      },
      "execution_count": 75,
      "outputs": [
        {
          "output_type": "stream",
          "name": "stdout",
          "text": [
            "\n",
            "==================================================\n",
            "User Message: Can you tell me the email address for customer C1?\n",
            "==================================================\n",
            "\n",
            "Initial Response:\n",
            "Stop Reason: tool_use\n",
            "Content: [TextBlock(citations=None, text=\"I'll help you find the email address for customer C1. Let me retrieve this information for you.\", type='text'), ToolUseBlock(id='toolu_014VcmhaMFjiYNcSsXKe1jD7', input={'customer_id': 'C1'}, name='get_customer_info', type='tool_use')]\n",
            "\n",
            "Tool Used: get_customer_info\n",
            "Tool Input:\n",
            "{\n",
            "  \"customer_id\": \"C1\"\n",
            "}\n",
            "\n",
            "Tool Result:\n",
            "{\n",
            "  \"name\": \"John Doe\",\n",
            "  \"email\": \"john@example.com\",\n",
            "  \"phone\": \"123-456-7890\"\n",
            "}\n",
            "\n",
            "Response:\n",
            "Stop Reason: end_turn\n",
            "Content: [TextBlock(citations=None, text=\"Here's the email address for customer C1 (John Doe): john@example.com\\n\\nWould you like me to provide any other information about this customer?\", type='text')]\n",
            "\n",
            "Final Response: Here's the email address for customer C1 (John Doe): john@example.com\n",
            "\n",
            "Would you like me to provide any other information about this customer?\n"
          ]
        },
        {
          "output_type": "execute_result",
          "data": {
            "text/plain": [
              "\"Here's the email address for customer C1 (John Doe): john@example.com\\n\\nWould you like me to provide any other information about this customer?\""
            ],
            "application/vnd.google.colaboratory.intrinsic+json": {
              "type": "string"
            }
          },
          "metadata": {},
          "execution_count": 75
        }
      ]
    },
    {
      "cell_type": "code",
      "source": [
        "chatbot_interaction(\"What is the status of order O2?\")"
      ],
      "metadata": {
        "colab": {
          "base_uri": "https://localhost:8080/",
          "height": 558
        },
        "id": "6aLkNzDUjgQx",
        "outputId": "a8027e28-e71d-4233-88c2-af6db4de5962"
      },
      "execution_count": 76,
      "outputs": [
        {
          "output_type": "stream",
          "name": "stdout",
          "text": [
            "\n",
            "==================================================\n",
            "User Message: What is the status of order O2?\n",
            "==================================================\n",
            "\n",
            "Initial Response:\n",
            "Stop Reason: tool_use\n",
            "Content: [TextBlock(citations=None, text=\"I'll check the status of order O2 for you. Let me retrieve the order details.\", type='text'), ToolUseBlock(id='toolu_0166AoTJSkZ4YxbWhHARn3ye', input={'order_id': 'O2'}, name='get_order_details', type='tool_use')]\n",
            "\n",
            "Tool Used: get_order_details\n",
            "Tool Input:\n",
            "{\n",
            "  \"order_id\": \"O2\"\n",
            "}\n",
            "\n",
            "Tool Result:\n",
            "{\n",
            "  \"id\": \"O2\",\n",
            "  \"product\": \"Gadget B\",\n",
            "  \"quantity\": 1,\n",
            "  \"price\": 49.99,\n",
            "  \"status\": \"Processing\"\n",
            "}\n",
            "\n",
            "Response:\n",
            "Stop Reason: end_turn\n",
            "Content: [TextBlock(citations=None, text='I\\'ve checked the status of order O2 for you. The order is currently in \"Processing\" status. This order contains 1 unit of \"Gadget B\" at a price of $49.99.', type='text')]\n",
            "\n",
            "Final Response: I've checked the status of order O2 for you. The order is currently in \"Processing\" status. This order contains 1 unit of \"Gadget B\" at a price of $49.99.\n"
          ]
        },
        {
          "output_type": "execute_result",
          "data": {
            "text/plain": [
              "'I\\'ve checked the status of order O2 for you. The order is currently in \"Processing\" status. This order contains 1 unit of \"Gadget B\" at a price of $49.99.'"
            ],
            "application/vnd.google.colaboratory.intrinsic+json": {
              "type": "string"
            }
          },
          "metadata": {},
          "execution_count": 76
        }
      ]
    },
    {
      "cell_type": "code",
      "source": [
        "chatbot_interaction(\"Please cancel order O1 for me.\")"
      ],
      "metadata": {
        "colab": {
          "base_uri": "https://localhost:8080/",
          "height": 645
        },
        "id": "OobzDgjTjt-F",
        "outputId": "37a42220-4597-4f84-e5bc-b706a64640cb"
      },
      "execution_count": 77,
      "outputs": [
        {
          "output_type": "stream",
          "name": "stdout",
          "text": [
            "\n",
            "==================================================\n",
            "User Message: Please cancel order O1 for me.\n",
            "==================================================\n",
            "\n",
            "Initial Response:\n",
            "Stop Reason: tool_use\n",
            "Content: [TextBlock(citations=None, text=\"I'll help you cancel order O1. Let me process that for you right away.\", type='text'), ToolUseBlock(id='toolu_018CFHCpGrF92xsj1m8SWYXE', input={'order_id': 'O1'}, name='cancel_order', type='tool_use')]\n",
            "\n",
            "Tool Used: cancel_order\n",
            "Tool Input:\n",
            "{\n",
            "  \"order_id\": \"O1\"\n",
            "}\n",
            "\n",
            "Tool Result:\n",
            "[\n",
            "  \"O1\",\n",
            "  {\n",
            "    \"id\": \"O1\",\n",
            "    \"product\": \"Widget A\",\n",
            "    \"quantity\": 2,\n",
            "    \"price\": 19.99,\n",
            "    \"status\": \"Canceled\"\n",
            "  }\n",
            "]\n",
            "\n",
            "Response:\n",
            "Stop Reason: end_turn\n",
            "Content: [TextBlock(citations=None, text='Your order O1 for \"Widget A\" has been successfully canceled. The system has updated the order status to \"Canceled\". \\n\\nIs there anything else you need help with regarding your orders?', type='text')]\n",
            "\n",
            "Final Response: Your order O1 for \"Widget A\" has been successfully canceled. The system has updated the order status to \"Canceled\". \n",
            "\n",
            "Is there anything else you need help with regarding your orders?\n"
          ]
        },
        {
          "output_type": "execute_result",
          "data": {
            "text/plain": [
              "'Your order O1 for \"Widget A\" has been successfully canceled. The system has updated the order status to \"Canceled\". \\n\\nIs there anything else you need help with regarding your orders?'"
            ],
            "application/vnd.google.colaboratory.intrinsic+json": {
              "type": "string"
            }
          },
          "metadata": {},
          "execution_count": 77
        }
      ]
    },
    {
      "cell_type": "code",
      "source": [
        "print(get_order_details(\"O1\"))"
      ],
      "metadata": {
        "colab": {
          "base_uri": "https://localhost:8080/"
        },
        "id": "0vh8YS3njwEr",
        "outputId": "b3c73167-8728-4554-967f-1dad3f3b9fa4"
      },
      "execution_count": 78,
      "outputs": [
        {
          "output_type": "stream",
          "name": "stdout",
          "text": [
            "{'id': 'O1', 'product': 'Widget A', 'quantity': 2, 'price': 19.99, 'status': 'Canceled'}\n"
          ]
        }
      ]
    },
    {
      "cell_type": "code",
      "source": [
        "chatbot_interaction(\"Add a new customer: Bill Leece, bill.leece@example.com, 111-222-3333\")"
      ],
      "metadata": {
        "colab": {
          "base_uri": "https://localhost:8080/",
          "height": 749
        },
        "id": "rq-wai6fmTEc",
        "outputId": "cecf198f-f6b3-4501-bee6-a5156e60bd42"
      },
      "execution_count": 79,
      "outputs": [
        {
          "output_type": "stream",
          "name": "stdout",
          "text": [
            "\n",
            "==================================================\n",
            "User Message: Add a new customer: Bill Leece, bill.leece@example.com, 111-222-3333\n",
            "==================================================\n",
            "\n",
            "Initial Response:\n",
            "Stop Reason: tool_use\n",
            "Content: [TextBlock(citations=None, text=\"I'll help you add Bill Leece as a new customer with the provided information. I'll use the add_customer function to create this new record.\", type='text'), ToolUseBlock(id='toolu_01WrWmcXEdyRn5CK8a2hLvDd', input={'customer_id': 'CUST-001', 'name': 'Bill Leece', 'email': 'bill.leece@example.com', 'phone': '111-222-3333'}, name='add_customer', type='tool_use')]\n",
            "\n",
            "Tool Used: add_customer\n",
            "Tool Input:\n",
            "{\n",
            "  \"customer_id\": \"CUST-001\",\n",
            "  \"name\": \"Bill Leece\",\n",
            "  \"email\": \"bill.leece@example.com\",\n",
            "  \"phone\": \"111-222-3333\"\n",
            "}\n",
            "\n",
            "Tool Result:\n",
            "[\n",
            "  \"C3\",\n",
            "  {\n",
            "    \"name\": \"Bill Leece\",\n",
            "    \"email\": \"bill.leece@example.com\",\n",
            "    \"phone\": \"111-222-3333\"\n",
            "  }\n",
            "]\n",
            "\n",
            "Response:\n",
            "Stop Reason: end_turn\n",
            "Content: [TextBlock(citations=None, text=\"Great! I've successfully added Bill Leece to the customer database with the following details:\\n- Customer ID: C3\\n- Name: Bill Leece\\n- Email: bill.leece@example.com\\n- Phone: 111-222-3333\\n\\nThe customer has been registered in our system and is now ready for placing orders.\", type='text')]\n",
            "\n",
            "Final Response: Great! I've successfully added Bill Leece to the customer database with the following details:\n",
            "- Customer ID: C3\n",
            "- Name: Bill Leece\n",
            "- Email: bill.leece@example.com\n",
            "- Phone: 111-222-3333\n",
            "\n",
            "The customer has been registered in our system and is now ready for placing orders.\n"
          ]
        },
        {
          "output_type": "execute_result",
          "data": {
            "text/plain": [
              "\"Great! I've successfully added Bill Leece to the customer database with the following details:\\n- Customer ID: C3\\n- Name: Bill Leece\\n- Email: bill.leece@example.com\\n- Phone: 111-222-3333\\n\\nThe customer has been registered in our system and is now ready for placing orders.\""
            ],
            "application/vnd.google.colaboratory.intrinsic+json": {
              "type": "string"
            }
          },
          "metadata": {},
          "execution_count": 79
        }
      ]
    },
    {
      "cell_type": "code",
      "source": [
        "customers"
      ],
      "metadata": {
        "colab": {
          "base_uri": "https://localhost:8080/"
        },
        "id": "_RsascgQnUYS",
        "outputId": "08079356-6c48-4c76-b95d-ce225e4d63c0"
      },
      "execution_count": 80,
      "outputs": [
        {
          "output_type": "execute_result",
          "data": {
            "text/plain": [
              "{'C1': {'name': 'John Doe',\n",
              "  'email': 'john@example.com',\n",
              "  'phone': '123-456-7890'},\n",
              " 'C2': {'name': 'Jane Smith',\n",
              "  'email': 'jane@example.com',\n",
              "  'phone': '987-654-3210'},\n",
              " 'C3': {'name': 'Bill Leece',\n",
              "  'email': 'bill.leece@example.com',\n",
              "  'phone': '111-222-3333'}}"
            ]
          },
          "metadata": {},
          "execution_count": 80
        }
      ]
    },
    {
      "cell_type": "code",
      "source": [
        "chatbot_interaction(\"Create a new order for: Perplexinator, 12, $59.99, Shipped\")"
      ],
      "metadata": {
        "colab": {
          "base_uri": "https://localhost:8080/",
          "height": 836
        },
        "id": "7poFrQMqodpI",
        "outputId": "16c27e0a-e499-4a9f-b32b-9e7a6238288e"
      },
      "execution_count": 82,
      "outputs": [
        {
          "output_type": "stream",
          "name": "stdout",
          "text": [
            "\n",
            "==================================================\n",
            "User Message: Create a new order for: Perplexinator, 12, $59.99, Shipped\n",
            "==================================================\n",
            "\n",
            "Initial Response:\n",
            "Stop Reason: tool_use\n",
            "Content: [TextBlock(citations=None, text=\"I'll help you create a new order for the Perplexinator product. I have most of the details needed, but I'll need to generate an order ID automatically when creating the order. Let me process this for you:\", type='text'), ToolUseBlock(id='toolu_014gRezJ2CeFeRf9BXyJpN6w', input={'order_id': 'ORD-2023-7845', 'product': 'Perplexinator', 'quantity': 12, 'price': 59.99, 'status': 'Shipped'}, name='add_order', type='tool_use')]\n",
            "\n",
            "Tool Used: add_order\n",
            "Tool Input:\n",
            "{\n",
            "  \"order_id\": \"ORD-2023-7845\",\n",
            "  \"product\": \"Perplexinator\",\n",
            "  \"quantity\": 12,\n",
            "  \"price\": 59.99,\n",
            "  \"status\": \"Shipped\"\n",
            "}\n",
            "\n",
            "Tool Result:\n",
            "[\n",
            "  \"O3\",\n",
            "  {\n",
            "    \"id\": \"O3\",\n",
            "    \"product\": \"Perplexinator\",\n",
            "    \"quantity\": 12,\n",
            "    \"price\": 59.99,\n",
            "    \"status\": \"Shipped\"\n",
            "  }\n",
            "]\n",
            "\n",
            "Response:\n",
            "Stop Reason: end_turn\n",
            "Content: [TextBlock(citations=None, text=\"Great! I've successfully created a new order with the following details:\\n\\n- Order ID: O3\\n- Product: Perplexinator\\n- Quantity: 12\\n- Price: $59.99\\n- Status: Shipped\\n\\nThe order has been entered into the system and is marked as shipped. Is there anything else you need assistance with regarding this order?\", type='text')]\n",
            "\n",
            "Final Response: Great! I've successfully created a new order with the following details:\n",
            "\n",
            "- Order ID: O3\n",
            "- Product: Perplexinator\n",
            "- Quantity: 12\n",
            "- Price: $59.99\n",
            "- Status: Shipped\n",
            "\n",
            "The order has been entered into the system and is marked as shipped. Is there anything else you need assistance with regarding this order?\n"
          ]
        },
        {
          "output_type": "execute_result",
          "data": {
            "text/plain": [
              "\"Great! I've successfully created a new order with the following details:\\n\\n- Order ID: O3\\n- Product: Perplexinator\\n- Quantity: 12\\n- Price: $59.99\\n- Status: Shipped\\n\\nThe order has been entered into the system and is marked as shipped. Is there anything else you need assistance with regarding this order?\""
            ],
            "application/vnd.google.colaboratory.intrinsic+json": {
              "type": "string"
            }
          },
          "metadata": {},
          "execution_count": 82
        }
      ]
    },
    {
      "cell_type": "code",
      "source": [
        "orders"
      ],
      "metadata": {
        "colab": {
          "base_uri": "https://localhost:8080/"
        },
        "id": "MWUmk5g8ovo5",
        "outputId": "9f4c103c-225f-43c7-bad4-44f1cc2dfd8f"
      },
      "execution_count": 83,
      "outputs": [
        {
          "output_type": "execute_result",
          "data": {
            "text/plain": [
              "{'O1': {'id': 'O1',\n",
              "  'product': 'Widget A',\n",
              "  'quantity': 2,\n",
              "  'price': 19.99,\n",
              "  'status': 'Canceled'},\n",
              " 'O2': {'id': 'O2',\n",
              "  'product': 'Gadget B',\n",
              "  'quantity': 1,\n",
              "  'price': 49.99,\n",
              "  'status': 'Processing'},\n",
              " 'O3': {'id': 'O3',\n",
              "  'product': 'Perplexinator',\n",
              "  'quantity': 12,\n",
              "  'price': 59.99,\n",
              "  'status': 'Shipped'}}"
            ]
          },
          "metadata": {},
          "execution_count": 83
        }
      ]
    }
  ]
}