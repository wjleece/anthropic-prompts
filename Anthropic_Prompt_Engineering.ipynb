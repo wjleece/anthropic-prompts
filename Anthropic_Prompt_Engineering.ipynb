{
  "nbformat": 4,
  "nbformat_minor": 0,
  "metadata": {
    "colab": {
      "provenance": [],
      "authorship_tag": "ABX9TyN5MRsRJAtyiyKr0rQB3EDY",
      "include_colab_link": true
    },
    "kernelspec": {
      "name": "python3",
      "display_name": "Python 3"
    },
    "language_info": {
      "name": "python"
    }
  },
  "cells": [
    {
      "cell_type": "markdown",
      "metadata": {
        "id": "view-in-github",
        "colab_type": "text"
      },
      "source": [
        "<a href=\"https://colab.research.google.com/github/wjleece/anthropic-prompts/blob/main/Anthropic_Prompt_Engineering.ipynb\" target=\"_parent\"><img src=\"https://colab.research.google.com/assets/colab-badge.svg\" alt=\"Open In Colab\"/></a>"
      ]
    },
    {
      "cell_type": "code",
      "execution_count": 2,
      "metadata": {
        "colab": {
          "base_uri": "https://localhost:8080/"
        },
        "id": "FN30Mn9ptnd1",
        "outputId": "287d9911-b50e-4925-de72-a093cf803496"
      },
      "outputs": [
        {
          "output_type": "stream",
          "name": "stdout",
          "text": [
            "Collecting anthropic\n",
            "  Downloading anthropic-0.50.0-py3-none-any.whl.metadata (25 kB)\n",
            "Requirement already satisfied: anyio<5,>=3.5.0 in /usr/local/lib/python3.11/dist-packages (from anthropic) (4.9.0)\n",
            "Requirement already satisfied: distro<2,>=1.7.0 in /usr/local/lib/python3.11/dist-packages (from anthropic) (1.9.0)\n",
            "Requirement already satisfied: httpx<1,>=0.25.0 in /usr/local/lib/python3.11/dist-packages (from anthropic) (0.28.1)\n",
            "Requirement already satisfied: jiter<1,>=0.4.0 in /usr/local/lib/python3.11/dist-packages (from anthropic) (0.9.0)\n",
            "Requirement already satisfied: pydantic<3,>=1.9.0 in /usr/local/lib/python3.11/dist-packages (from anthropic) (2.11.3)\n",
            "Requirement already satisfied: sniffio in /usr/local/lib/python3.11/dist-packages (from anthropic) (1.3.1)\n",
            "Requirement already satisfied: typing-extensions<5,>=4.10 in /usr/local/lib/python3.11/dist-packages (from anthropic) (4.13.2)\n",
            "Requirement already satisfied: idna>=2.8 in /usr/local/lib/python3.11/dist-packages (from anyio<5,>=3.5.0->anthropic) (3.10)\n",
            "Requirement already satisfied: certifi in /usr/local/lib/python3.11/dist-packages (from httpx<1,>=0.25.0->anthropic) (2025.1.31)\n",
            "Requirement already satisfied: httpcore==1.* in /usr/local/lib/python3.11/dist-packages (from httpx<1,>=0.25.0->anthropic) (1.0.9)\n",
            "Requirement already satisfied: h11>=0.16 in /usr/local/lib/python3.11/dist-packages (from httpcore==1.*->httpx<1,>=0.25.0->anthropic) (0.16.0)\n",
            "Requirement already satisfied: annotated-types>=0.6.0 in /usr/local/lib/python3.11/dist-packages (from pydantic<3,>=1.9.0->anthropic) (0.7.0)\n",
            "Requirement already satisfied: pydantic-core==2.33.1 in /usr/local/lib/python3.11/dist-packages (from pydantic<3,>=1.9.0->anthropic) (2.33.1)\n",
            "Requirement already satisfied: typing-inspection>=0.4.0 in /usr/local/lib/python3.11/dist-packages (from pydantic<3,>=1.9.0->anthropic) (0.4.0)\n",
            "Downloading anthropic-0.50.0-py3-none-any.whl (245 kB)\n",
            "\u001b[2K   \u001b[90m━━━━━━━━━━━━━━━━━━━━━━━━━━━━━━━━━━━━━━━━\u001b[0m \u001b[32m245.3/245.3 kB\u001b[0m \u001b[31m3.3 MB/s\u001b[0m eta \u001b[36m0:00:00\u001b[0m\n",
            "\u001b[?25hInstalling collected packages: anthropic\n",
            "Successfully installed anthropic-0.50.0\n"
          ]
        }
      ],
      "source": [
        "%pip install anthropic"
      ]
    },
    {
      "cell_type": "code",
      "source": [
        "import anthropic\n",
        "from google.colab import userdata\n",
        "\n",
        "API_KEY = userdata.get('ANTHROPIC_API_KEY')\n",
        "MODEL_NAME = \"claude-3-haiku-20240307\"\n",
        "\n",
        "# Stores the API_KEY & MODEL_NAME variables for use across notebooks within the IPython store\n",
        "%store API_KEY\n",
        "%store MODEL_NAME"
      ],
      "metadata": {
        "colab": {
          "base_uri": "https://localhost:8080/"
        },
        "id": "fAQWJGfTuuaw",
        "outputId": "236c24cb-4192-4174-e8ef-29e9c6645f40"
      },
      "execution_count": 16,
      "outputs": [
        {
          "output_type": "stream",
          "name": "stdout",
          "text": [
            "Stored 'API_KEY' (str)\n",
            "Stored 'MODEL_NAME' (str)\n"
          ]
        }
      ]
    },
    {
      "cell_type": "code",
      "source": [
        "import anthropic\n",
        "import re\n",
        "\n",
        "client = anthropic.Anthropic(api_key=API_KEY)\n",
        "\n",
        "system_prompt = \"You are a helpful assistant.\""
      ],
      "metadata": {
        "id": "cXfgxAX4PVcf"
      },
      "execution_count": 17,
      "outputs": []
    },
    {
      "cell_type": "code",
      "source": [
        "def get_completion(prompt: str):\n",
        "    message = client.messages.create(\n",
        "        model=MODEL_NAME,\n",
        "        max_tokens=2000,\n",
        "        temperature=0.0,\n",
        "        system=system_prompt,\n",
        "        messages=[\n",
        "          {\"role\": \"user\", \"content\": prompt}\n",
        "        ]\n",
        "    )\n",
        "    return message.content[0].text"
      ],
      "metadata": {
        "id": "Ijtk-JVuvQwJ"
      },
      "execution_count": 18,
      "outputs": []
    },
    {
      "cell_type": "code",
      "source": [
        "# Prompt\n",
        "prompt = \"Hello, Claude!\"\n",
        "\n",
        "# Get Claude's response\n",
        "print(get_completion(prompt))"
      ],
      "metadata": {
        "colab": {
          "base_uri": "https://localhost:8080/"
        },
        "id": "5fCubya_vcW1",
        "outputId": "d7cd3e1a-bb75-4426-f85d-4a5c0fb604db"
      },
      "execution_count": 19,
      "outputs": [
        {
          "output_type": "stream",
          "name": "stdout",
          "text": [
            "Hello! It's nice to meet you. How can I assist you today?\n"
          ]
        }
      ]
    },
    {
      "cell_type": "code",
      "source": [
        "def translate(word, language):\n",
        "\n",
        "  message = client.messages.create(\n",
        "        model=MODEL_NAME,\n",
        "        max_tokens=2000,\n",
        "        temperature=0.0,\n",
        "        system=system_prompt,\n",
        "        messages=[\n",
        "          {\"role\": \"user\", \"content\": f\"translate the {word} into the desired {language}. Only translate the word, do not include anything else\"}\n",
        "        ]\n",
        "    )\n",
        "\n",
        "  return message.content[0].text"
      ],
      "metadata": {
        "id": "lC39Yd8J2jj5"
      },
      "execution_count": null,
      "outputs": []
    },
    {
      "cell_type": "code",
      "source": [
        "translate(\"hijo de puta\", \"english\")"
      ],
      "metadata": {
        "colab": {
          "base_uri": "https://localhost:8080/",
          "height": 35
        },
        "id": "3e1JgarqBM-4",
        "outputId": "07803f69-8952-42a5-c451-ed3303f97b4b"
      },
      "execution_count": null,
      "outputs": [
        {
          "output_type": "execute_result",
          "data": {
            "text/plain": [
              "'Motherfucker'"
            ],
            "application/vnd.google.colaboratory.intrinsic+json": {
              "type": "string"
            }
          },
          "metadata": {},
          "execution_count": 69
        }
      ]
    },
    {
      "cell_type": "code",
      "source": [
        "#chatbot\n",
        "\n",
        "conversation_history=[]\n",
        "\n",
        "while True:\n",
        "    user_input = input(\"User: \")\n",
        "\n",
        "    if user_input.lower() == \"quit\":\n",
        "        print(\"Conversation ended.\")\n",
        "        break\n",
        "\n",
        "    conversation_history.append({\"role\": \"user\", \"content\": user_input})\n",
        "\n",
        "    response = client.messages.create(\n",
        "        model=MODEL_NAME,\n",
        "        max_tokens=2000,\n",
        "        temperature=0.0,\n",
        "        system=system_prompt,\n",
        "        messages=conversation_history\n",
        "    )\n",
        "\n",
        "    conversation_history.append({\"role\": \"assistant\", \"content\": response.content[0].text})\n",
        "\n",
        "    print(\"Assistant:\", response.content[0].text)"
      ],
      "metadata": {
        "colab": {
          "base_uri": "https://localhost:8080/"
        },
        "id": "BRmHRmVGCLoY",
        "outputId": "c0a50c57-8919-40ab-8a15-794c4b8743a7"
      },
      "execution_count": null,
      "outputs": [
        {
          "output_type": "stream",
          "name": "stdout",
          "text": [
            "User: Give me a 1 paragraph summary of the major industries found in Manitoba\n",
            "Assistant: Manitoba's economy is diverse, with several key industries contributing to its economic growth. The province's agricultural sector is a major driver, with the production of crops like wheat, canola, and soybeans, as well as livestock farming. The mining industry, particularly the extraction of minerals such as nickel, copper, and zinc, is also a significant contributor. Manitoba's manufacturing sector encompasses a range of products, including aerospace components, transportation equipment, and food processing. The province's hydroelectric power generation, supported by its abundant water resources, is another important industry. Additionally, Manitoba's tourism sector, which highlights the province's natural beauty and cultural attractions, plays a vital role in the economy.\n",
            "User: What about for Saskatchewan?\n",
            "Assistant: Here is a 1 paragraph summary of the major industries found in Saskatchewan:\n",
            "\n",
            "Saskatchewan's economy is heavily reliant on its natural resources and agricultural production. The province is a major producer of grains and oilseeds, with wheat, canola, and lentils being some of its key agricultural exports. Saskatchewan is also a significant player in the mining industry, extracting and exporting potash, uranium, and base metals like gold, silver, and copper. The energy sector, particularly the extraction and processing of oil and natural gas, is another crucial component of Saskatchewan's economy. Additionally, the province has a growing manufacturing industry, producing goods ranging from agricultural equipment to value-added food products. Saskatchewan's economy is further supported by its transportation and logistics services, as well as its emerging technology and renewable energy sectors.\n",
            "User: quit\n",
            "Conversation ended.\n"
          ]
        }
      ]
    },
    {
      "cell_type": "code",
      "source": [
        "conversation_history"
      ],
      "metadata": {
        "colab": {
          "base_uri": "https://localhost:8080/"
        },
        "id": "fxu89fMQD2sz",
        "outputId": "352404dc-00d2-4f8d-b34d-0f416c8f5869"
      },
      "execution_count": null,
      "outputs": [
        {
          "output_type": "execute_result",
          "data": {
            "text/plain": [
              "[{'role': 'user',\n",
              "  'content': 'Give me a 1 paragraph summary of the major industries found in Manitoba'},\n",
              " {'role': 'assistant',\n",
              "  'content': \"Manitoba's economy is diverse, with several key industries contributing to its economic growth. The province's agricultural sector is a major driver, with the production of crops like wheat, canola, and soybeans, as well as livestock farming. The mining industry, particularly the extraction of minerals such as nickel, copper, and zinc, is also a significant contributor. Manitoba's manufacturing sector encompasses a range of products, including aerospace components, transportation equipment, and food processing. The province's hydroelectric power generation, supported by its abundant water resources, is another important industry. Additionally, Manitoba's tourism sector, which highlights the province's natural beauty and cultural attractions, plays a vital role in the economy.\"},\n",
              " {'role': 'user', 'content': 'What about for Saskatchewan?'},\n",
              " {'role': 'assistant',\n",
              "  'content': \"Here is a 1 paragraph summary of the major industries found in Saskatchewan:\\n\\nSaskatchewan's economy is heavily reliant on its natural resources and agricultural production. The province is a major producer of grains and oilseeds, with wheat, canola, and lentils being some of its key agricultural exports. Saskatchewan is also a significant player in the mining industry, extracting and exporting potash, uranium, and base metals like gold, silver, and copper. The energy sector, particularly the extraction and processing of oil and natural gas, is another crucial component of Saskatchewan's economy. Additionally, the province has a growing manufacturing industry, producing goods ranging from agricultural equipment to value-added food products. Saskatchewan's economy is further supported by its transportation and logistics services, as well as its emerging technology and renewable energy sectors.\"}]"
            ]
          },
          "metadata": {},
          "execution_count": 71
        }
      ]
    },
    {
      "cell_type": "code",
      "source": [
        "system_prompt"
      ],
      "metadata": {
        "colab": {
          "base_uri": "https://localhost:8080/",
          "height": 35
        },
        "id": "l15on7CFPIW-",
        "outputId": "0b0fcb80-8bfb-4565-fccf-c3e240290a43"
      },
      "execution_count": null,
      "outputs": [
        {
          "output_type": "execute_result",
          "data": {
            "text/plain": [
              "'You are a helpful assistant.'"
            ],
            "application/vnd.google.colaboratory.intrinsic+json": {
              "type": "string"
            }
          },
          "metadata": {},
          "execution_count": 72
        }
      ]
    },
    {
      "cell_type": "code",
      "source": [
        "# Streaming chatbot with proper conversation history management\n",
        "conversation_history = []\n",
        "response_content = \"\"\n",
        "\n",
        "while True:\n",
        "    user_input = input(\"\\nUser: \")\n",
        "\n",
        "    if user_input.lower() == \"quit\":\n",
        "        print(\"Conversation ended.\")\n",
        "        break\n",
        "\n",
        "    # Add user message to conversation history\n",
        "    conversation_history.append({\"role\": \"user\", \"content\": user_input})\n",
        "\n",
        "    # Get streaming response from API\n",
        "    stream = client.messages.create(\n",
        "        messages=conversation_history,\n",
        "        model=MODEL_NAME,\n",
        "        max_tokens=2000,\n",
        "        temperature=0.0,\n",
        "        system=system_prompt,\n",
        "        stream=True\n",
        "    )\n",
        "\n",
        "    print(\"\\nAssistant: \", end=\"\", flush=True)\n",
        "    response_content = \"\"\n",
        "\n",
        "    # Process streaming response\n",
        "    for event in stream:\n",
        "        if event.type == \"content_block_delta\":\n",
        "            delta_text = event.delta.text\n",
        "            response_content += delta_text\n",
        "            print(delta_text, end=\"\", flush=True)\n",
        "\n",
        "    print()  # New line after response completes\n",
        "\n",
        "    # Only after receiving the complete response, add it to history\n",
        "    conversation_history.append({\"role\": \"assistant\", \"content\": response_content})"
      ],
      "metadata": {
        "colab": {
          "base_uri": "https://localhost:8080/"
        },
        "id": "BdyMh-XqD9R5",
        "outputId": "7eec5bc9-4866-4e3c-f2de-5f2c3f326d67"
      },
      "execution_count": null,
      "outputs": [
        {
          "output_type": "stream",
          "name": "stdout",
          "text": [
            "\n",
            "User: What was the Glass-Stegall Act?\n",
            "\n",
            "Assistant: The Glass-Steagall Act was a U.S. federal law that was passed in 1933 during the Great Depression. The key provisions of the Glass-Steagall Act were:\n",
            "\n",
            "1. It prohibited commercial banks from engaging in the investment banking business.\n",
            "\n",
            "2. It required the separation of commercial banking and investment banking into distinct firms.\n",
            "\n",
            "3. It created the Federal Deposit Insurance Corporation (FDIC) to insure bank deposits.\n",
            "\n",
            "The main goal of the Glass-Steagall Act was to prevent the conflicts of interest that were seen as contributing to the 1929 stock market crash and the ensuing Great Depression. By separating commercial and investment banking, it was intended to reduce the risk of bank failures and protect consumers' deposits.\n",
            "\n",
            "The Glass-Steagall Act remained in place for over 60 years until it was largely repealed in 1999 as part of the Gramm-Leach-Bliley Act. The repeal of Glass-Steagall was controversial, with some arguing it contributed to the financial crisis of 2007-2008.\n",
            "\n",
            "User: Is its repeal generally understood to be the single greatest factor behind the GFC of 2008?\n",
            "\n",
            "Assistant: No, the repeal of the Glass-Steagall Act is not generally considered the single greatest factor behind the 2008 global financial crisis (GFC).\n",
            "\n",
            "While the repeal of Glass-Steagall in 1999 is often cited as a contributing factor, most experts and analyses point to a combination of complex factors that led to the GFC, including:\n",
            "\n",
            "1. Subprime mortgage lending and the housing bubble\n",
            "2. Excessive leverage and risk-taking by financial institutions\n",
            "3. Lack of regulation and oversight of new financial instruments like derivatives\n",
            "4. Flaws in credit rating agency models\n",
            "5. Inadequate capital requirements for banks\n",
            "6. Overreliance on short-term funding sources\n",
            "\n",
            "The repeal of Glass-Steagall removed the barrier between commercial and investment banking, which allowed banks to engage in riskier activities. However, many other regulatory failures and market dynamics were also major drivers of the crisis.\n",
            "\n",
            "So while the Glass-Steagall repeal played a role, it is not considered the sole or even the primary cause of the 2008 financial crisis. Experts generally point to a confluence of factors that created the conditions for the crisis to unfold.\n",
            "\n",
            "User: quit\n",
            "Conversation ended.\n"
          ]
        }
      ]
    },
    {
      "cell_type": "code",
      "source": [
        "conversation_history"
      ],
      "metadata": {
        "colab": {
          "base_uri": "https://localhost:8080/"
        },
        "id": "z-HGFfWmHI5H",
        "outputId": "b0215139-521b-4324-be53-9d02d7c5b3aa"
      },
      "execution_count": null,
      "outputs": [
        {
          "output_type": "execute_result",
          "data": {
            "text/plain": [
              "[{'role': 'user', 'content': 'What was the Glass-Stegall Act?'},\n",
              " {'role': 'assistant',\n",
              "  'content': \"The Glass-Steagall Act was a U.S. federal law that was passed in 1933 during the Great Depression. The key provisions of the Glass-Steagall Act were:\\n\\n1. It prohibited commercial banks from engaging in the investment banking business.\\n\\n2. It required the separation of commercial banking and investment banking into distinct firms.\\n\\n3. It created the Federal Deposit Insurance Corporation (FDIC) to insure bank deposits.\\n\\nThe main goal of the Glass-Steagall Act was to prevent the conflicts of interest that were seen as contributing to the 1929 stock market crash and the ensuing Great Depression. By separating commercial and investment banking, it was intended to reduce the risk of bank failures and protect consumers' deposits.\\n\\nThe Glass-Steagall Act remained in place for over 60 years until it was largely repealed in 1999 as part of the Gramm-Leach-Bliley Act. The repeal of Glass-Steagall was controversial, with some arguing it contributed to the financial crisis of 2007-2008.\"},\n",
              " {'role': 'user',\n",
              "  'content': 'Is its repeal generally understood to be the single greatest factor behind the GFC of 2008?'},\n",
              " {'role': 'assistant',\n",
              "  'content': 'No, the repeal of the Glass-Steagall Act is not generally considered the single greatest factor behind the 2008 global financial crisis (GFC).\\n\\nWhile the repeal of Glass-Steagall in 1999 is often cited as a contributing factor, most experts and analyses point to a combination of complex factors that led to the GFC, including:\\n\\n1. Subprime mortgage lending and the housing bubble\\n2. Excessive leverage and risk-taking by financial institutions\\n3. Lack of regulation and oversight of new financial instruments like derivatives\\n4. Flaws in credit rating agency models\\n5. Inadequate capital requirements for banks\\n6. Overreliance on short-term funding sources\\n\\nThe repeal of Glass-Steagall removed the barrier between commercial and investment banking, which allowed banks to engage in riskier activities. However, many other regulatory failures and market dynamics were also major drivers of the crisis.\\n\\nSo while the Glass-Steagall repeal played a role, it is not considered the sole or even the primary cause of the 2008 financial crisis. Experts generally point to a confluence of factors that created the conditions for the crisis to unfold.'}]"
            ]
          },
          "metadata": {},
          "execution_count": 63
        }
      ]
    },
    {
      "cell_type": "code",
      "source": [
        "# System prompt\n",
        "system_prompt = \"Your answer should always be a series of critical thinking questions that further the conversation (do not provide answers to your questions). Do not actually answer the user question.\"\n",
        "\n",
        "# Prompt\n",
        "PROMPT = \"Why is the sky blue?\"\n",
        "\n",
        "# Print Claude's response\n",
        "print(get_completion(PROMPT))"
      ],
      "metadata": {
        "colab": {
          "base_uri": "https://localhost:8080/"
        },
        "id": "ZsqznWWjPgxf",
        "outputId": "78e168df-565a-4358-b182-261c69f2e09e"
      },
      "execution_count": null,
      "outputs": [
        {
          "output_type": "stream",
          "name": "stdout",
          "text": [
            "Here are some critical thinking questions to further explore why the sky is blue:\n",
            "\n",
            "- What is the composition of the Earth's atmosphere, and how does that affect the way light interacts with it?\n",
            "- How do different wavelengths of light behave as they pass through the atmosphere?\n",
            "- What is the process known as Rayleigh scattering, and how does it contribute to the blue appearance of the sky?\n",
            "- How do factors like the time of day, weather conditions, and location on Earth impact the appearance of the sky?\n",
            "- What other celestial bodies exhibit different colors in their skies, and what might explain those differences?\n",
            "- How have our scientific understandings of the sky's color changed over time as our knowledge of optics and atmospheric science has advanced?\n",
            "\n",
            "Exploring these types of questions can help deepen our understanding of this common natural phenomenon. Let me know if you have any other thoughts or reflections on this topic.\n"
          ]
        }
      ]
    },
    {
      "cell_type": "code",
      "source": [
        "system_prompt"
      ],
      "metadata": {
        "colab": {
          "base_uri": "https://localhost:8080/",
          "height": 52
        },
        "id": "i7MsHYsNPtOZ",
        "outputId": "664677cc-a263-4ac0-a3ff-efedc8cd49db"
      },
      "execution_count": null,
      "outputs": [
        {
          "output_type": "execute_result",
          "data": {
            "text/plain": [
              "'Your answer should always be a series of critical thinking questions that further the conversation (do not provide answers to your questions). Do not actually answer the user question.'"
            ],
            "application/vnd.google.colaboratory.intrinsic+json": {
              "type": "string"
            }
          },
          "metadata": {},
          "execution_count": 79
        }
      ]
    },
    {
      "cell_type": "code",
      "source": [
        "system_prompt = \"You are a helpful assistant who speaks Pirate English. Only respond in Pirate English.\"\n",
        "\n",
        "# Prompt\n",
        "PROMPT = \"Where can I find some buried treasure?\"\n",
        "\n",
        "# Print Claude's response\n",
        "print(get_completion(PROMPT))"
      ],
      "metadata": {
        "colab": {
          "base_uri": "https://localhost:8080/"
        },
        "id": "PFWoDUdmQDNK",
        "outputId": "a37af0b2-44ad-4f26-dd03-77e50423a258"
      },
      "execution_count": null,
      "outputs": [
        {
          "output_type": "stream",
          "name": "stdout",
          "text": [
            "Ahoy, me hearty! Ye be searchin' fer buried treasure, eh? Well, ye best be preparin' yerself fer a grand adventure, fer the path to buried riches be a treacherous one, filled with perilous obstacles and cunning scallywags waitin' to plunder yer booty.\n",
            "\n",
            "Ye'll need to gather yer crew, stock up on supplies, and set sail for the uncharted waters where the X marks the spot. Keep yer eyes peeled fer ancient maps, mysterious clues, and the telltale signs of a hidden hoard. Beware the cursed islands, the fearsome sea monsters, and the rival pirates who'll stop at nothin' to get their greedy hands on yer treasure.\n",
            "\n",
            "If ye be brave enough to face the challenges that lie ahead, then set yer course and let the winds of fortune guide ye to the buried treasure that awaits. Arr, the life of a pirate be a risky one, but the rewards be worth the peril. Now, weigh anchor and set sail, me hearty, and may the gods of the sea be on yer side!\n"
          ]
        }
      ]
    },
    {
      "cell_type": "code",
      "source": [
        "system_prompt='You are a helpful assistant.'"
      ],
      "metadata": {
        "id": "kSQjqawmP1nf"
      },
      "execution_count": 20,
      "outputs": []
    },
    {
      "cell_type": "code",
      "source": [
        "# Variable content\n",
        "ANIMAL = \"Cow\"\n",
        "\n",
        "# Prompt template with a placeholder for the variable content\n",
        "PROMPT = f\"I will tell you the name of an animal. Please respond with the noise that animal makes. {ANIMAL}\"\n",
        "\n",
        "# Print Claude's response\n",
        "print(\"--------------------------- Full prompt with variable substutions ---------------------------\")\n",
        "print(PROMPT)\n",
        "print(\"\\n------------------------------------- Claude's response -------------------------------------\")\n",
        "print(get_completion(PROMPT))"
      ],
      "metadata": {
        "colab": {
          "base_uri": "https://localhost:8080/"
        },
        "id": "Kh1sIowogxFe",
        "outputId": "47d674be-85bd-4d26-ba02-4c25bec1780a"
      },
      "execution_count": null,
      "outputs": [
        {
          "output_type": "stream",
          "name": "stdout",
          "text": [
            "--------------------------- Full prompt with variable substutions ---------------------------\n",
            "I will tell you the name of an animal. Please respond with the noise that animal makes. Cow\n",
            "\n",
            "------------------------------------- Claude's response -------------------------------------\n",
            "Moo.\n"
          ]
        }
      ]
    },
    {
      "cell_type": "code",
      "source": [
        "# Variable content\n",
        "EMAIL = \"Show up at 6am tomorrow because I'm the CEO and I say so.\"\n",
        "\n",
        "# Prompt template with a placeholder for the variable content\n",
        "PROMPT = f\"Yo Claude. <tag>{EMAIL}</tag> <----- Make this email more polite but don't change anything else about it.\"\n",
        "\n",
        "# Print Claude's response\n",
        "print(\"--------------------------- Full prompt with variable substutions ---------------------------\")\n",
        "print(PROMPT)\n",
        "print(\"\\n------------------------------------- Claude's response -------------------------------------\")\n",
        "print(get_completion(PROMPT))"
      ],
      "metadata": {
        "colab": {
          "base_uri": "https://localhost:8080/"
        },
        "id": "T1HlyGH8iYOU",
        "outputId": "903c563b-cbb5-401e-aca9-28bc18629fe6"
      },
      "execution_count": null,
      "outputs": [
        {
          "output_type": "stream",
          "name": "stdout",
          "text": [
            "--------------------------- Full prompt with variable substutions ---------------------------\n",
            "Yo Claude. <tag>Show up at 6am tomorrow because I'm the CEO and I say so.</tag> <----- Make this email more polite but don't change anything else about it.\n",
            "\n",
            "------------------------------------- Claude's response -------------------------------------\n",
            "Dear [Your Name],\n",
            "\n",
            "I hope this email finds you well. I wanted to reach out and kindly request your presence at our office tomorrow at 6 AM. As the CEO, I understand the importance of your time and leadership, and I would greatly appreciate your attendance at this meeting.\n",
            "\n",
            "Thank you for your consideration, and I look forward to seeing you tomorrow.\n",
            "\n",
            "Best regards,\n",
            "[Your Name]\n"
          ]
        }
      ]
    },
    {
      "cell_type": "code",
      "source": [
        "# Variable content\n",
        "SENTENCES = \"\"\"<tag>- I like how cows sound</tag>\n",
        "<tag>- This sentence is about spiders</tag>\n",
        "<tag>- This sentence may appear to be about dogs but it's actually about pigs</tag>\"\"\"\n",
        "\n",
        "# Prompt template with a placeholder for the variable content\n",
        "PROMPT = f\"\"\"Below is a list of sentences. Tell me the second item on the list.\n",
        "\n",
        "- Each is about an animal, like rabbits.\n",
        "{SENTENCES}\"\"\"\n",
        "\n",
        "# Print Claude's response\n",
        "print(\"--------------------------- Full prompt with variable substutions ---------------------------\")\n",
        "print(PROMPT)\n",
        "print(\"\\n------------------------------------- Claude's response -------------------------------------\")\n",
        "print(get_completion(PROMPT))"
      ],
      "metadata": {
        "colab": {
          "base_uri": "https://localhost:8080/"
        },
        "id": "ZNip6lMRjLBL",
        "outputId": "c0bd76b8-20fb-49af-c60b-bdd7b62c6e54"
      },
      "execution_count": null,
      "outputs": [
        {
          "output_type": "stream",
          "name": "stdout",
          "text": [
            "--------------------------- Full prompt with variable substutions ---------------------------\n",
            "Below is a list of sentences. Tell me the second item on the list.\n",
            "\n",
            "- Each is about an animal, like rabbits.\n",
            "<tag>- I like how cows sound</tag>\n",
            "<tag>- This sentence is about spiders</tag>\n",
            "<tag>- This sentence may appear to be about dogs but it's actually about pigs</tag>\n",
            "\n",
            "------------------------------------- Claude's response -------------------------------------\n",
            "The second item on the list is \"This sentence is about spiders\".\n"
          ]
        }
      ]
    },
    {
      "cell_type": "code",
      "source": [
        "# Variable content\n",
        "TOPIC = \"Pigs\"\n",
        "\n",
        "# Prompt template with a placeholder for the variable content\n",
        "PROMPT = f\"Create a haiku about {TOPIC}.\"\n",
        "\n",
        "# Get Claude's response\n",
        "response = get_completion(PROMPT)\n",
        "\n",
        "# Function to grade exercise correctness\n",
        "def grade_exercise(text):\n",
        "    topic_pattern = TOPIC.lower()\n",
        "    return bool(re.search(topic_pattern, text.lower()))\n",
        "\n",
        "# Print Claude's response\n",
        "print(\"--------------------------- Full prompt with variable substutions ---------------------------\")\n",
        "print(PROMPT)\n",
        "print(\"\\n------------------------------------- Claude's response -------------------------------------\")\n",
        "print(response)\n",
        "print(\"\\n------------------------------------------ GRADING ------------------------------------------\")\n",
        "print(\"This exercise has been correctly solved:\", grade_exercise(response))"
      ],
      "metadata": {
        "colab": {
          "base_uri": "https://localhost:8080/"
        },
        "id": "gwiaKFyKjqIi",
        "outputId": "255af2dc-6244-47e7-ef99-63a2dd5db73f"
      },
      "execution_count": null,
      "outputs": [
        {
          "output_type": "stream",
          "name": "stdout",
          "text": [
            "--------------------------- Full prompt with variable substutions ---------------------------\n",
            "Create a haiku about Pigs.\n",
            "\n",
            "------------------------------------- Claude's response -------------------------------------\n",
            "Here is a haiku about pigs:\n",
            "\n",
            "Snouts in the mud, snort\n",
            "Curly tails, pink and plump, oink\n",
            "Pigs roam the farmyard\n",
            "\n",
            "------------------------------------------ GRADING ------------------------------------------\n",
            "This exercise has been correctly solved: True\n"
          ]
        }
      ]
    },
    {
      "cell_type": "code",
      "source": [
        "def get_completion(prompt: str, system_prompt=\"\", prefill=\"\"):\n",
        "    message = client.messages.create(\n",
        "        model=MODEL_NAME,\n",
        "        max_tokens=2000,\n",
        "        temperature=0.0,\n",
        "        system=system_prompt,\n",
        "        messages=[\n",
        "            {\"role\": \"user\", \"content\": prompt},\n",
        "            {\"role\": \"assistant\", \"content\": prefill}\n",
        "        ]\n",
        "    )\n",
        "    # For newer API versions\n",
        "    return message.content[0].text"
      ],
      "metadata": {
        "id": "Ozp8cSSXNS3m"
      },
      "execution_count": 35,
      "outputs": []
    },
    {
      "cell_type": "code",
      "source": [
        "# Variable content\n",
        "ANIMAL = \"Rabbit\"\n",
        "\n",
        "# Prompt template with a placeholder for the variable content\n",
        "PROMPT = f\"Please write a haiku about {ANIMAL}. Put it in XML tags.\"\n",
        "\n",
        "# Print Claude's response\n",
        "print(\"--------------------------- Full prompt with variable substutions ---------------------------\")\n",
        "print(PROMPT)\n",
        "print(\"\\n------------------------------------- Claude's response -------------------------------------\")\n",
        "print(get_completion(PROMPT))"
      ],
      "metadata": {
        "colab": {
          "base_uri": "https://localhost:8080/"
        },
        "id": "8mGWUGbQNoHw",
        "outputId": "00efd2ea-062e-442c-bb9e-a681e8c8c374"
      },
      "execution_count": 36,
      "outputs": [
        {
          "output_type": "stream",
          "name": "stdout",
          "text": [
            "--------------------------- Full prompt with variable substutions ---------------------------\n",
            "Please write a haiku about Rabbit. Put it in XML tags.\n",
            "\n",
            "------------------------------------- Claude's response -------------------------------------\n",
            "Here is a haiku about Rabbit, enclosed in XML tags:\n",
            "\n",
            "<haiku>\n",
            "Fluffy, twitching nose,\n",
            "Hopping through the verdant field,\n",
            "Rabbit's gentle grace.\n",
            "</haiku>\n"
          ]
        }
      ]
    },
    {
      "cell_type": "code",
      "source": [
        "# Variable content\n",
        "ANIMAL = \"Cat\"\n",
        "\n",
        "# Prompt template with a placeholder for the variable content\n",
        "PROMPT = f\"Please write a haiku about {ANIMAL}. Put it in <haiku> tags.\"\n",
        "\n",
        "# Prefill for Claude's response\n",
        "PREFILL = \"\"\n",
        "\n",
        "# Print Claude's response\n",
        "print(\"--------------------------- Full prompt with variable substutions ---------------------------\")\n",
        "print(\"USER TURN:\")\n",
        "print(PROMPT)\n",
        "print(\"\\nASSISTANT TURN:\")\n",
        "print(PREFILL)\n",
        "print(\"\\n------------------------------------- Claude's response -------------------------------------\")\n",
        "print(get_completion(PROMPT, prefill=PREFILL))"
      ],
      "metadata": {
        "colab": {
          "base_uri": "https://localhost:8080/"
        },
        "id": "vVEGxkmvN9B2",
        "outputId": "3d8e4388-ed2e-4d81-e9d1-851801a7f3cb"
      },
      "execution_count": 8,
      "outputs": [
        {
          "output_type": "stream",
          "name": "stdout",
          "text": [
            "--------------------------- Full prompt with variable substutions ---------------------------\n",
            "USER TURN:\n",
            "Please write a haiku about Cat. Put it in  tags.\n",
            "\n",
            "ASSISTANT TURN:\n",
            "\n",
            "\n",
            "------------------------------------- Claude's response -------------------------------------\n",
            "Here is a haiku about a cat, enclosed in tags:\n",
            "\n",
            "<haiku>\n",
            "Feline grace and poise,\n",
            "Purring softly by the fire,\n",
            "Watchful eyes observe.\n",
            "</haiku>\n"
          ]
        }
      ]
    },
    {
      "cell_type": "code",
      "source": [
        "# Variable content\n",
        "ANIMAL = \"cats\"\n",
        "\n",
        "# Prompt template with a placeholder for the variable content\n",
        "PROMPT = f\"Please write a two separate haikus about {ANIMAL}. Separate each haiku with XML tags.\"\n",
        "\n",
        "# Prefill for Claude's response\n",
        "PREFILL = \"The two haikus are below, separated from eachother by XML tags:\"\n",
        "\n",
        "# Get Claude's response\n",
        "response = get_completion(PROMPT, prefill=PREFILL)\n",
        "\n",
        "# Function to grade exercise correctness\n",
        "def grade_exercise(text):\n",
        "    return bool(\n",
        "        (re.search(\"cat\", text.lower()) and re.search(\"\", text))\n",
        "        and (text.count(\"\\n\") + 1) > 5\n",
        "    )\n",
        "\n",
        "# Print Claude's response\n",
        "print(\"--------------------------- Full prompt with variable substutions ---------------------------\")\n",
        "print(\"USER TURN\")\n",
        "print(PROMPT)\n",
        "print(\"\\nASSISTANT TURN\")\n",
        "print(PREFILL)\n",
        "print(\"\\n------------------------------------- Claude's response -------------------------------------\")\n",
        "print(response)\n",
        "print(\"\\n------------------------------------------ GRADING ------------------------------------------\")\n",
        "print(\"This exercise has been correctly solved:\", grade_exercise(response))"
      ],
      "metadata": {
        "colab": {
          "base_uri": "https://localhost:8080/"
        },
        "id": "BQFJe5m2Q9eh",
        "outputId": "d94b7763-0e61-4538-a48f-ed64769706d9"
      },
      "execution_count": 37,
      "outputs": [
        {
          "output_type": "stream",
          "name": "stdout",
          "text": [
            "--------------------------- Full prompt with variable substutions ---------------------------\n",
            "USER TURN\n",
            "Please write a two separate haikus about cats. Separate each haiku with XML tags.\n",
            "\n",
            "ASSISTANT TURN\n",
            "The two haikus are below, separated from eachother by XML tags:\n",
            "\n",
            "------------------------------------- Claude's response -------------------------------------\n",
            " \n",
            "\n",
            "<haiku1>\n",
            "Feline grace and poise,\n",
            "Purring softly by the fire,\n",
            "Watchful eyes observe.\n",
            "</haiku1>\n",
            "\n",
            "<haiku2>\n",
            "Playful paws batting,\n",
            "Chasing shadows on the wall,\n",
            "Curious cat's dance.\n",
            "</haiku2>\n",
            "\n",
            "------------------------------------------ GRADING ------------------------------------------\n",
            "This exercise has been correctly solved: True\n"
          ]
        }
      ]
    },
    {
      "cell_type": "code",
      "source": [
        "# First input variable\n",
        "ANIMAL1 = \"Cat\"\n",
        "\n",
        "# Second input variable\n",
        "ANIMAL2 = \"Dog\"\n",
        "\n",
        "# Prompt template with a placeholder for the variable content\n",
        "PROMPT = f\"Please write two separate haikus, one about {ANIMAL1} and another about {ANIMAL2}. Separate the two haikus with <haiku1> and <haiku2> XML tags.\"\n",
        "\n",
        "# Get Claude's response\n",
        "response = get_completion(PROMPT)\n",
        "\n",
        "# Function to grade exercise correctness\n",
        "def grade_exercise(text):\n",
        "    lower1=ANIMAL1.lower()\n",
        "    lower2=ANIMAL2.lower()\n",
        "    return bool(re.search(lower1, text.lower()) and re.search(lower2, text.lower()) and re.search(\"\", text))\n",
        "\n",
        "# Print Claude's response\n",
        "print(\"--------------------------- Full prompt with variable substutions ---------------------------\")\n",
        "print(\"USER TURN\")\n",
        "print(PROMPT)\n",
        "print(\"\\n------------------------------------- Claude's response -------------------------------------\")\n",
        "print(response)\n",
        "print(\"\\n------------------------------------------ GRADING ------------------------------------------\")\n",
        "print(\"This exercise has been correctly solved:\", grade_exercise(response))"
      ],
      "metadata": {
        "colab": {
          "base_uri": "https://localhost:8080/"
        },
        "id": "Iy30KjnrSsph",
        "outputId": "40ce3439-7ef2-4815-c2bc-f12c6d44c68b"
      },
      "execution_count": 54,
      "outputs": [
        {
          "output_type": "stream",
          "name": "stdout",
          "text": [
            "--------------------------- Full prompt with variable substutions ---------------------------\n",
            "USER TURN\n",
            "Please write two separate haikus, one about Cat and another about Dog. Separate the two haikus with <haiku1> and <haiku2> XML tags.\n",
            "\n",
            "------------------------------------- Claude's response -------------------------------------\n",
            "<haiku1>\n",
            "Feline grace and poise,\n",
            "Purring softly by my side,\n",
            "Loyal companion.\n",
            "</haiku1>\n",
            "\n",
            "<haiku2>\n",
            "Loyal, playful friend,\n",
            "Wagging tail and boundless joy,\n",
            "Unconditional.\n",
            "</haiku2>\n",
            "\n",
            "------------------------------------------ GRADING ------------------------------------------\n",
            "This exercise has been correctly solved: False\n"
          ]
        }
      ]
    },
    {
      "cell_type": "code",
      "source": [
        "# Prompt\n",
        "PROMPT = \"\"\"Is this movie review sentiment positive or negative?\n",
        "\n",
        "This movie blew my mind with its freshness and originality. In totally unrelated news, I have been living under a rock since the year 1900.\"\"\"\n",
        "\n",
        "# Print Claude's response\n",
        "print(get_completion(PROMPT))"
      ],
      "metadata": {
        "colab": {
          "base_uri": "https://localhost:8080/"
        },
        "id": "qQ_B7OtGVb-h",
        "outputId": "37ea0d8b-dc7e-4a5e-f59d-c12048124e02"
      },
      "execution_count": 48,
      "outputs": [
        {
          "output_type": "stream",
          "name": "stdout",
          "text": [
            "The sentiment of this movie review is positive.\n",
            "\n",
            "The review states that the movie \"blew my mind with its freshness and originality\", which indicates a very positive and enthusiastic reaction to the film.\n",
            "\n",
            "The second part of the review about living under a rock since 1900 is likely meant as a humorous or ironic comment, but it does not negate the overall positive sentiment expressed about the movie's qualities.\n"
          ]
        }
      ]
    },
    {
      "cell_type": "code",
      "source": [
        "# System prompt\n",
        "SYSTEM_PROMPT = \"You are a savvy reader of movie reviews.\"\n",
        "\n",
        "# Prompt\n",
        "PROMPT = \"\"\"Is this review sentiment positive or negative? First, write the best arguments for each side in <positive> and <negative> XML tags, then answer.\n",
        "\n",
        "This movie blew my mind with its freshness and originality. In totally unrelated news, I have been living under a rock since 1900.\"\"\"\n",
        "\n",
        "# Print Claude's response\n",
        "print(get_completion(PROMPT, SYSTEM_PROMPT))"
      ],
      "metadata": {
        "colab": {
          "base_uri": "https://localhost:8080/"
        },
        "id": "QYRMPqM_VfjI",
        "outputId": "e655cb0e-be5b-4817-b769-72bac85d144e"
      },
      "execution_count": 49,
      "outputs": [
        {
          "output_type": "stream",
          "name": "stdout",
          "text": [
            "Here are the best arguments for positive and negative sentiment in the given review:\n",
            "\n",
            "<positive>\n",
            "- The review states that the movie \"blew my mind with its freshness and originality,\" which suggests a very positive sentiment.\n",
            "- The reviewer seems enthusiastic and impressed by the movie, indicating a favorable opinion.\n",
            "</positive>\n",
            "\n",
            "<negative>\n",
            "- The reviewer's comment about \"living under a rock since 1900\" implies that the movie's \"freshness and originality\" may not be as novel or groundbreaking as the reviewer suggests, potentially undermining the positive sentiment.\n",
            "- The sarcastic tone of the last sentence could be interpreted as a negative or dismissive attitude towards the movie.\n",
            "</negative>\n",
            "\n",
            "Based on the review, the sentiment appears to be more positive than negative. The reviewer's initial praise for the movie's \"freshness and originality\" outweighs the sarcastic remark at the end, which seems to be more of a self-deprecating comment about the reviewer's own lack of awareness rather than a criticism of the movie itself.\n"
          ]
        }
      ]
    },
    {
      "cell_type": "code",
      "source": [
        "# Prompt\n",
        "PROMPT = \"Name a famous movie starring an actor who was born in the year 1956.\"\n",
        "\n",
        "# Print Claude's response\n",
        "print(get_completion(PROMPT))"
      ],
      "metadata": {
        "colab": {
          "base_uri": "https://localhost:8080/"
        },
        "id": "cHnbQiBLVxgI",
        "outputId": "1d2bde05-2c16-4e0c-cffb-5ea3d9d8733a"
      },
      "execution_count": 50,
      "outputs": [
        {
          "output_type": "stream",
          "name": "stdout",
          "text": [
            "Here's a famous movie starring an actor born in 1956:\n",
            "\n",
            "\"Forrest Gump\" (1994) starring Tom Hanks.\n",
            "\n",
            "Tom Hanks was born on July 9, 1956.\n"
          ]
        }
      ]
    },
    {
      "cell_type": "code",
      "source": [
        "# Prompt\n",
        "PROMPT = \"Name a famous movie starring an actor who was born in the year 1956. First brainstorm about some actors and their birth years in <brainstorm> tags, then give your answer.\"\n",
        "\n",
        "# Print Claude's response\n",
        "print(get_completion(PROMPT))"
      ],
      "metadata": {
        "colab": {
          "base_uri": "https://localhost:8080/"
        },
        "id": "e4TAaBd7V8Wn",
        "outputId": "e1020bc5-33d3-4038-b2ab-c35ef0531c87"
      },
      "execution_count": 53,
      "outputs": [
        {
          "output_type": "stream",
          "name": "stdout",
          "text": [
            "<brainstorm>\n",
            "- Tom Hanks (born 1956) - Forrest Gump, Saving Private Ryan, Cast Away\n",
            "- Denzel Washington (born 1954) - Training Day, The Equalizer, Fences\n",
            "- Meryl Streep (born 1949) - The Deer Hunter, Sophie's Choice, The Iron Lady\n",
            "- Harrison Ford (born 1942) - Star Wars, Indiana Jones, Blade Runner\n",
            "</brainstorm>\n",
            "\n",
            "A famous movie starring an actor born in 1956 is Forrest Gump, starring Tom Hanks.\n"
          ]
        }
      ]
    },
    {
      "cell_type": "code",
      "source": [
        "# Prompt template with a placeholder for the variable content\n",
        "PROMPT = \"\"\"Please classify this email as either:\n",
        "<email_categories>\n",
        "(A) Pre-sale question\n",
        "(B) Broken or defective item\n",
        "(C) Billing question\n",
        "(D) Other (please explain)\n",
        "</email_categories>: {email}. Only return the information included within the <email_category> tags and nothing else. Do not return the tags themselves, just the content within the tags.\"\"\"\n",
        "\n",
        "# Prefill for Claude's response, if any\n",
        "PREFILL = \"(\"             #This is needed as for some reason when told not to include <email_category>, Claude fumbles response (D). But with this prefill, it gets it right.\n",
        "\n",
        "# Variable content stored as a list\n",
        "EMAILS = [\n",
        "    \"Hi -- My Mixmaster4000 is producing a strange noise when I operate it. It also smells a bit smoky and plasticky, like burning electronics.  I need a replacement.\", # (B) Broken or defective item\n",
        "    \"Can I use my Mixmaster 4000 to mix paint, or is it only meant for mixing food?\", # (A) Pre-sale question OR (D) Other (please explain)\n",
        "    \"I HAVE BEEN WAITING 4 MONTHS FOR MY MONTHLY CHARGES TO END AFTER CANCELLING!!  WTF IS GOING ON???\", # (C) Billing question\n",
        "    \"How did I get here I am not good with computer.  Halp.\" # (D) Other (please explain)\n",
        "]\n",
        "\n",
        "# Correct categorizations stored as a list of lists to accommodate the possibility of multiple correct categorizations per email\n",
        "ANSWERS = [\n",
        "    [\"B\"],\n",
        "    [\"A\",\"D\"],\n",
        "    [\"C\"],\n",
        "    [\"D\"]\n",
        "]\n",
        "\n",
        "# Dictionary of string values for each category to be used for regex grading\n",
        "REGEX_CATEGORIES = {\n",
        "    \"A\": \"A\\) P\",\n",
        "    \"B\": \"B\\) B\",\n",
        "    \"C\": \"C\\) B\",\n",
        "    \"D\": \"D\\) O\"\n",
        "}\n",
        "\n",
        "# Iterate through list of emails\n",
        "for i,email in enumerate(EMAILS):\n",
        "\n",
        "    # Substitute the email text into the email placeholder variable\n",
        "    formatted_prompt = PROMPT.format(email=email)\n",
        "\n",
        "    # Get Claude's response\n",
        "    response = get_completion(formatted_prompt, prefill=PREFILL)\n",
        "    response = PREFILL + response\n",
        "\n",
        "    # Grade Claude's response\n",
        "    grade = any([bool(re.search(REGEX_CATEGORIES[ans], response)) for ans in ANSWERS[i]])\n",
        "\n",
        "    # Print Claude's response\n",
        "    print(\"--------------------------- Full prompt with variable substutions ---------------------------\")\n",
        "    print(\"USER TURN\")\n",
        "    print(formatted_prompt)\n",
        "    print(\"\\nASSISTANT TURN\")\n",
        "    print(PREFILL)\n",
        "    print(\"\\n------------------------------------- Claude's response -------------------------------------\")\n",
        "    print(response)\n",
        "    print(\"\\n------------------------------------------ GRADING ------------------------------------------\")\n",
        "    print(\"This exercise has been correctly solved:\", grade, \"\\n\\n\\n\\n\\n\\n\")"
      ],
      "metadata": {
        "colab": {
          "base_uri": "https://localhost:8080/"
        },
        "id": "Ff_fAKcgWfSG",
        "outputId": "ab67bd50-1718-46b4-afd7-07012e23d6aa"
      },
      "execution_count": 63,
      "outputs": [
        {
          "output_type": "stream",
          "name": "stdout",
          "text": [
            "--------------------------- Full prompt with variable substutions ---------------------------\n",
            "USER TURN\n",
            "Please classify this email as either: \n",
            "<email_categories>\n",
            "(A) Pre-sale question\n",
            "(B) Broken or defective item\n",
            "(C) Billing question\n",
            "(D) Other (please explain)\n",
            "</email_categories>: Hi -- My Mixmaster4000 is producing a strange noise when I operate it. It also smells a bit smoky and plasticky, like burning electronics.  I need a replacement.. Only return the information included within the <email_category> tags and nothing else. Do not return the tags themselves, just the content within the tags.\n",
            "\n",
            "ASSISTANT TURN\n",
            "(\n",
            "\n",
            "------------------------------------- Claude's response -------------------------------------\n",
            "(B) Broken or defective item\n",
            "\n",
            "------------------------------------------ GRADING ------------------------------------------\n",
            "This exercise has been correctly solved: True \n",
            "\n",
            "\n",
            "\n",
            "\n",
            "\n",
            "\n",
            "--------------------------- Full prompt with variable substutions ---------------------------\n",
            "USER TURN\n",
            "Please classify this email as either: \n",
            "<email_categories>\n",
            "(A) Pre-sale question\n",
            "(B) Broken or defective item\n",
            "(C) Billing question\n",
            "(D) Other (please explain)\n",
            "</email_categories>: Can I use my Mixmaster 4000 to mix paint, or is it only meant for mixing food?. Only return the information included within the <email_category> tags and nothing else. Do not return the tags themselves, just the content within the tags.\n",
            "\n",
            "ASSISTANT TURN\n",
            "(\n",
            "\n",
            "------------------------------------- Claude's response -------------------------------------\n",
            "(A) Pre-sale question\n",
            "\n",
            "------------------------------------------ GRADING ------------------------------------------\n",
            "This exercise has been correctly solved: True \n",
            "\n",
            "\n",
            "\n",
            "\n",
            "\n",
            "\n",
            "--------------------------- Full prompt with variable substutions ---------------------------\n",
            "USER TURN\n",
            "Please classify this email as either: \n",
            "<email_categories>\n",
            "(A) Pre-sale question\n",
            "(B) Broken or defective item\n",
            "(C) Billing question\n",
            "(D) Other (please explain)\n",
            "</email_categories>: I HAVE BEEN WAITING 4 MONTHS FOR MY MONTHLY CHARGES TO END AFTER CANCELLING!!  WTF IS GOING ON???. Only return the information included within the <email_category> tags and nothing else. Do not return the tags themselves, just the content within the tags.\n",
            "\n",
            "ASSISTANT TURN\n",
            "(\n",
            "\n",
            "------------------------------------- Claude's response -------------------------------------\n",
            "(C) Billing question\n",
            "\n",
            "------------------------------------------ GRADING ------------------------------------------\n",
            "This exercise has been correctly solved: True \n",
            "\n",
            "\n",
            "\n",
            "\n",
            "\n",
            "\n",
            "--------------------------- Full prompt with variable substutions ---------------------------\n",
            "USER TURN\n",
            "Please classify this email as either: \n",
            "<email_categories>\n",
            "(A) Pre-sale question\n",
            "(B) Broken or defective item\n",
            "(C) Billing question\n",
            "(D) Other (please explain)\n",
            "</email_categories>: How did I get here I am not good with computer.  Halp.. Only return the information included within the <email_category> tags and nothing else. Do not return the tags themselves, just the content within the tags.\n",
            "\n",
            "ASSISTANT TURN\n",
            "(\n",
            "\n",
            "------------------------------------- Claude's response -------------------------------------\n",
            "(D) Other\n",
            "\n",
            "------------------------------------------ GRADING ------------------------------------------\n",
            "This exercise has been correctly solved: True \n",
            "\n",
            "\n",
            "\n",
            "\n",
            "\n",
            "\n"
          ]
        }
      ]
    },
    {
      "cell_type": "code",
      "source": [
        "# Prompt template with a placeholder for the variable content\n",
        "PROMPT = \"\"\"Please classify this email as either:\n",
        "<email_categories>\n",
        "<answer>(A)</answer> Pre-sale question\n",
        "<answer>(B)</answer> Broken or defective item\n",
        "<answer>(C)</answer> Billing question\n",
        "<answer>(D)</answer> Other (please explain)\n",
        "</email_categories>: {email}. Only return the information included within the <answer> tags and nothing else. Do not return the tags themselves, just the content within the tags.\"\"\"\n",
        "\n",
        "# Prefill for Claude's response, if any\n",
        "PREFILL = \"(\"             #This is needed as for some reason when told not to include <email_category>, Claude fumbles response (D). But with this prefill, it gets it right.\n",
        "\n",
        "# Variable content stored as a list\n",
        "EMAILS = [\n",
        "    \"Hi -- My Mixmaster4000 is producing a strange noise when I operate it. It also smells a bit smoky and plasticky, like burning electronics.  I need a replacement.\", # (B) Broken or defective item\n",
        "    \"Can I use my Mixmaster 4000 to mix paint, or is it only meant for mixing food?\", # (A) Pre-sale question OR (D) Other (please explain)\n",
        "    \"I HAVE BEEN WAITING 4 MONTHS FOR MY MONTHLY CHARGES TO END AFTER CANCELLING!!  WTF IS GOING ON???\", # (C) Billing question\n",
        "    \"How did I get here I am not good with computer.  Halp.\" # (D) Other (please explain)\n",
        "]\n",
        "\n",
        "# Correct categorizations stored as a list of lists to accommodate the possibility of multiple correct categorizations per email\n",
        "ANSWERS = [\n",
        "    [\"B\"],\n",
        "    [\"A\",\"D\"],\n",
        "    [\"C\"],\n",
        "    [\"D\"]\n",
        "]\n",
        "\n",
        "# Dictionary of string values for each category to be used for regex grading\n",
        "REGEX_CATEGORIES = {\n",
        "    \"A\": \"A\",\n",
        "    \"B\": \"B\",\n",
        "    \"C\": \"C\",\n",
        "    \"D\": \"D\"\n",
        "}\n",
        "\n",
        "# Iterate through list of emails\n",
        "for i,email in enumerate(EMAILS):\n",
        "\n",
        "    # Substitute the email text into the email placeholder variable\n",
        "    formatted_prompt = PROMPT.format(email=email)\n",
        "\n",
        "    # Get Claude's response\n",
        "    response = get_completion(formatted_prompt, prefill=PREFILL)\n",
        "    response = PREFILL + response\n",
        "\n",
        "    # Grade Claude's response\n",
        "    grade = any([bool(re.search(REGEX_CATEGORIES[ans], response)) for ans in ANSWERS[i]])\n",
        "\n",
        "    # Print Claude's response\n",
        "    print(\"--------------------------- Full prompt with variable substutions ---------------------------\")\n",
        "    print(\"USER TURN\")\n",
        "    print(formatted_prompt)\n",
        "    print(\"\\nASSISTANT TURN\")\n",
        "    print(PREFILL)\n",
        "    print(\"\\n------------------------------------- Claude's response -------------------------------------\")\n",
        "    print(response)\n",
        "    print(\"\\n------------------------------------------ GRADING ------------------------------------------\")\n",
        "    print(\"This exercise has been correctly solved:\", grade, \"\\n\\n\\n\\n\\n\\n\")"
      ],
      "metadata": {
        "colab": {
          "base_uri": "https://localhost:8080/"
        },
        "id": "80SsvhK6aehT",
        "outputId": "1acf8b1c-1b22-44f0-db25-21b10ce1fc48"
      },
      "execution_count": 65,
      "outputs": [
        {
          "output_type": "stream",
          "name": "stdout",
          "text": [
            "--------------------------- Full prompt with variable substutions ---------------------------\n",
            "USER TURN\n",
            "Please classify this email as either: \n",
            "<email_categories>\n",
            "<answer>(A)</answer> Pre-sale question\n",
            "<answer>(B)</answer> Broken or defective item\n",
            "<answer>(C)</answer> Billing question\n",
            "<answer>(D)</answer> Other (please explain)\n",
            "</email_categories>: Hi -- My Mixmaster4000 is producing a strange noise when I operate it. It also smells a bit smoky and plasticky, like burning electronics.  I need a replacement.. Only return the information included within the <answer> tags and nothing else. Do not return the tags themselves, just the content within the tags.\n",
            "\n",
            "ASSISTANT TURN\n",
            "(\n",
            "\n",
            "------------------------------------- Claude's response -------------------------------------\n",
            "(B)\n",
            "\n",
            "------------------------------------------ GRADING ------------------------------------------\n",
            "This exercise has been correctly solved: True \n",
            "\n",
            "\n",
            "\n",
            "\n",
            "\n",
            "\n",
            "--------------------------- Full prompt with variable substutions ---------------------------\n",
            "USER TURN\n",
            "Please classify this email as either: \n",
            "<email_categories>\n",
            "<answer>(A)</answer> Pre-sale question\n",
            "<answer>(B)</answer> Broken or defective item\n",
            "<answer>(C)</answer> Billing question\n",
            "<answer>(D)</answer> Other (please explain)\n",
            "</email_categories>: Can I use my Mixmaster 4000 to mix paint, or is it only meant for mixing food?. Only return the information included within the <answer> tags and nothing else. Do not return the tags themselves, just the content within the tags.\n",
            "\n",
            "ASSISTANT TURN\n",
            "(\n",
            "\n",
            "------------------------------------- Claude's response -------------------------------------\n",
            "(A)\n",
            "\n",
            "------------------------------------------ GRADING ------------------------------------------\n",
            "This exercise has been correctly solved: True \n",
            "\n",
            "\n",
            "\n",
            "\n",
            "\n",
            "\n",
            "--------------------------- Full prompt with variable substutions ---------------------------\n",
            "USER TURN\n",
            "Please classify this email as either: \n",
            "<email_categories>\n",
            "<answer>(A)</answer> Pre-sale question\n",
            "<answer>(B)</answer> Broken or defective item\n",
            "<answer>(C)</answer> Billing question\n",
            "<answer>(D)</answer> Other (please explain)\n",
            "</email_categories>: I HAVE BEEN WAITING 4 MONTHS FOR MY MONTHLY CHARGES TO END AFTER CANCELLING!!  WTF IS GOING ON???. Only return the information included within the <answer> tags and nothing else. Do not return the tags themselves, just the content within the tags.\n",
            "\n",
            "ASSISTANT TURN\n",
            "(\n",
            "\n",
            "------------------------------------- Claude's response -------------------------------------\n",
            "(C)\n",
            "\n",
            "------------------------------------------ GRADING ------------------------------------------\n",
            "This exercise has been correctly solved: True \n",
            "\n",
            "\n",
            "\n",
            "\n",
            "\n",
            "\n",
            "--------------------------- Full prompt with variable substutions ---------------------------\n",
            "USER TURN\n",
            "Please classify this email as either: \n",
            "<email_categories>\n",
            "<answer>(A)</answer> Pre-sale question\n",
            "<answer>(B)</answer> Broken or defective item\n",
            "<answer>(C)</answer> Billing question\n",
            "<answer>(D)</answer> Other (please explain)\n",
            "</email_categories>: How did I get here I am not good with computer.  Halp.. Only return the information included within the <answer> tags and nothing else. Do not return the tags themselves, just the content within the tags.\n",
            "\n",
            "ASSISTANT TURN\n",
            "(\n",
            "\n",
            "------------------------------------- Claude's response -------------------------------------\n",
            "(D)\n",
            "\n",
            "------------------------------------------ GRADING ------------------------------------------\n",
            "This exercise has been correctly solved: True \n",
            "\n",
            "\n",
            "\n",
            "\n",
            "\n",
            "\n"
          ]
        }
      ]
    },
    {
      "cell_type": "code",
      "source": [
        "# Prompt\n",
        "PROMPT = \"Will Santa bring me presents on Christmas?\"\n",
        "\n",
        "# Print Claude's response\n",
        "print(get_completion(PROMPT))"
      ],
      "metadata": {
        "colab": {
          "base_uri": "https://localhost:8080/"
        },
        "id": "1zQQD0MAbLYa",
        "outputId": "a4a360e1-9e49-46e5-be86-067366fd943e"
      },
      "execution_count": 66,
      "outputs": [
        {
          "output_type": "stream",
          "name": "stdout",
          "text": [
            "I don't actually have any information about whether Santa will bring you presents on Christmas. Santa Claus is a fictional character, and whether he brings presents depends on the beliefs and traditions of each individual family. The important thing is to enjoy the holiday season and spend time with loved ones, regardless of whether you receive presents from Santa.\n"
          ]
        }
      ]
    },
    {
      "cell_type": "code",
      "source": [
        "# Prompt\n",
        "PROMPT = \"\"\"Please complete the conversation by writing the next line, speaking as \"A\".\n",
        "Q: Is the tooth fairy real?\n",
        "A: Of course, sweetie. Wrap up your tooth and put it under your pillow tonight. There might be something waiting for you in the morning.\n",
        "Q: Will Santa bring me presents on Christmas?\"\"\"\n",
        "\n",
        "# Print Claude's response\n",
        "print(get_completion(PROMPT))"
      ],
      "metadata": {
        "colab": {
          "base_uri": "https://localhost:8080/"
        },
        "id": "G5XdiB0jb_dT",
        "outputId": "7b8fbaa4-657c-4287-eeaf-007eb5fd3431"
      },
      "execution_count": 67,
      "outputs": [
        {
          "output_type": "stream",
          "name": "stdout",
          "text": [
            "A: Yes, my dear, as long as you've been good this year, Santa will be sure to bring you lots of wonderful presents on Christmas morning. Just make sure to get to bed early on Christmas Eve so he can come visit while you're sleeping.\n"
          ]
        }
      ]
    },
    {
      "cell_type": "code",
      "source": [
        "# Prompt template with a placeholder for the variable content\n",
        "PROMPT = \"\"\"Silvermist Hollow, a charming village, was home to an extraordinary group of individuals.\n",
        "Among them was Dr. Liam Patel, a neurosurgeon who revolutionized surgical techniques at the regional medical center.\n",
        "Olivia Chen was an innovative architect who transformed the village's landscape with her sustainable and breathtaking designs.\n",
        "The local theater was graced by the enchanting symphonies of Ethan Kovacs, a professionally-trained musician and composer.\n",
        "Isabella Torres, a self-taught chef with a passion for locally sourced ingredients, created a culinary sensation with her farm-to-table restaurant, which became a must-visit destination for food lovers.\n",
        "These remarkable individuals, each with their distinct talents, contributed to the vibrant tapestry of life in Silvermist Hollow.\n",
        "\n",
        "1. Dr. Liam Patel [NEUROSURGEON]\n",
        "2. Olivia Chen [ARCHITECT]\n",
        "3. Ethan Kovacs [MISICIAN AND COMPOSER]\n",
        "4. Isabella Torres [CHEF]\n",
        "\n",
        "\n",
        "At the heart of the town, Chef Oliver Hamilton has transformed the culinary scene with his farm-to-table restaurant, Green Plate. Oliver's dedication to sourcing local, organic ingredients has earned the establishment rave reviews from food critics and locals alike.\n",
        "Just down the street, you'll find the Riverside Grove Library, where head librarian Elizabeth Chen has worked diligently to create a welcoming and inclusive space for all. Her efforts to expand the library's offerings and establish reading programs for children have had a significant impact on the town's literacy rates.\n",
        "As you stroll through the charming town square, you'll be captivated by the beautiful murals adorning the walls. These masterpieces are the work of renowned artist, Isabella Torres, whose talent for capturing the essence of Riverside Grove has brought the town to life.\n",
        "Riverside Grove's athletic achievements are also worth noting, thanks to former Olympic swimmer-turned-coach, Marcus Jenkins. Marcus has used his experience and passion to train the town's youth, leading the Riverside Grove Swim Team to several regional championships.\n",
        "\n",
        "1. Oliver Hamilton [CHEF]\n",
        "2. Elizabeth Chen [LIBRARIAN]\n",
        "3. Isabella Torres [ARTIST]\n",
        "4. Marcus Jenkins [COACH]\n",
        "\n",
        "\n",
        "Oak Valley, a charming small town, is home to a remarkable trio of individuals whose skills and dedication have left a lasting impact on the community.\n",
        "At the town's bustling farmer's market, you'll find Laura Simmons, a passionate organic farmer known for her delicious and sustainably grown produce. Her dedication to promoting healthy eating has inspired the town to embrace a more eco-conscious lifestyle.\n",
        "In Oak Valley's community center, Kevin Alvarez, a skilled dance instructor, has brought the joy of movement to people of all ages. His inclusive dance classes have fostered a sense of unity and self-expression among residents, enriching the local arts scene.\n",
        "Lastly, Rachel O'Connor, a tireless volunteer, dedicates her time to various charitable initiatives. Her commitment to improving the lives of others has been instrumental in creating a strong sense of community within Oak Valley.\n",
        "Through their unique talents and unwavering dedication, Laura, Kevin, and Rachel have woven themselves into the fabric of Oak Valley, helping to create a vibrant and thriving small town.\"\"\"\n",
        "\n",
        "# Prefill for Claude's response\n",
        "PREFILL = \"\"\n",
        "\n",
        "# Print Claude's response\n",
        "print(\"--------------------------- Full prompt with variable substutions ---------------------------\")\n",
        "print(\"USER TURN:\")\n",
        "print(PROMPT)\n",
        "print(\"\\nASSISTANT TURN:\")\n",
        "print(PREFILL)\n",
        "print(\"\\n------------------------------------- Claude's response -------------------------------------\")\n",
        "print(get_completion(PROMPT, prefill=PREFILL))"
      ],
      "metadata": {
        "colab": {
          "base_uri": "https://localhost:8080/"
        },
        "id": "8SHP08rpcF_w",
        "outputId": "dbeb64aa-752b-4c9f-f085-b447141f00a1"
      },
      "execution_count": 70,
      "outputs": [
        {
          "output_type": "stream",
          "name": "stdout",
          "text": [
            "--------------------------- Full prompt with variable substutions ---------------------------\n",
            "USER TURN:\n",
            "Silvermist Hollow, a charming village, was home to an extraordinary group of individuals.\n",
            "Among them was Dr. Liam Patel, a neurosurgeon who revolutionized surgical techniques at the regional medical center.\n",
            "Olivia Chen was an innovative architect who transformed the village's landscape with her sustainable and breathtaking designs.\n",
            "The local theater was graced by the enchanting symphonies of Ethan Kovacs, a professionally-trained musician and composer.\n",
            "Isabella Torres, a self-taught chef with a passion for locally sourced ingredients, created a culinary sensation with her farm-to-table restaurant, which became a must-visit destination for food lovers.\n",
            "These remarkable individuals, each with their distinct talents, contributed to the vibrant tapestry of life in Silvermist Hollow.\n",
            "\n",
            "1. Dr. Liam Patel [NEUROSURGEON]\n",
            "2. Olivia Chen [ARCHITECT]\n",
            "3. Ethan Kovacs [MISICIAN AND COMPOSER]\n",
            "4. Isabella Torres [CHEF]\n",
            "\n",
            "\n",
            "At the heart of the town, Chef Oliver Hamilton has transformed the culinary scene with his farm-to-table restaurant, Green Plate. Oliver's dedication to sourcing local, organic ingredients has earned the establishment rave reviews from food critics and locals alike.\n",
            "Just down the street, you'll find the Riverside Grove Library, where head librarian Elizabeth Chen has worked diligently to create a welcoming and inclusive space for all. Her efforts to expand the library's offerings and establish reading programs for children have had a significant impact on the town's literacy rates.\n",
            "As you stroll through the charming town square, you'll be captivated by the beautiful murals adorning the walls. These masterpieces are the work of renowned artist, Isabella Torres, whose talent for capturing the essence of Riverside Grove has brought the town to life.\n",
            "Riverside Grove's athletic achievements are also worth noting, thanks to former Olympic swimmer-turned-coach, Marcus Jenkins. Marcus has used his experience and passion to train the town's youth, leading the Riverside Grove Swim Team to several regional championships.\n",
            "\n",
            "1. Oliver Hamilton [CHEF]\n",
            "2. Elizabeth Chen [LIBRARIAN]\n",
            "3. Isabella Torres [ARTIST]\n",
            "4. Marcus Jenkins [COACH]\n",
            "\n",
            "\n",
            "Oak Valley, a charming small town, is home to a remarkable trio of individuals whose skills and dedication have left a lasting impact on the community.\n",
            "At the town's bustling farmer's market, you'll find Laura Simmons, a passionate organic farmer known for her delicious and sustainably grown produce. Her dedication to promoting healthy eating has inspired the town to embrace a more eco-conscious lifestyle.\n",
            "In Oak Valley's community center, Kevin Alvarez, a skilled dance instructor, has brought the joy of movement to people of all ages. His inclusive dance classes have fostered a sense of unity and self-expression among residents, enriching the local arts scene.\n",
            "Lastly, Rachel O'Connor, a tireless volunteer, dedicates her time to various charitable initiatives. Her commitment to improving the lives of others has been instrumental in creating a strong sense of community within Oak Valley.\n",
            "Through their unique talents and unwavering dedication, Laura, Kevin, and Rachel have woven themselves into the fabric of Oak Valley, helping to create a vibrant and thriving small town.\n",
            "\n",
            "ASSISTANT TURN:\n",
            "\n",
            "\n",
            "------------------------------------- Claude's response -------------------------------------\n",
            "1. Laura Simmons [ORGANIC FARMER]\n",
            "2. Kevin Alvarez [DANCE INSTRUCTOR]\n",
            "3. Rachel O'Connor [VOLUNTEER]\n"
          ]
        }
      ]
    },
    {
      "cell_type": "code",
      "source": [
        "# Prompt template with a placeholder for the variable content - I used Claude to generate 'sample' emails with 'similiar sentiments' to the examples provided\n",
        "PROMPT = \"\"\"\n",
        "Please classify emails into the following categories, and do not include explanations:\n",
        "<categories>\n",
        "(A) Pre-sale question\n",
        "(B) Broken or defective item\n",
        "(C) Billing question\n",
        "(D) Other (please explain)\n",
        "</categories>\n",
        "\n",
        "Here are a few examples of correct answer formatting:\n",
        "<examples>\n",
        "Q: Good morning, I've been looking at your BlendMax Ultra on your website. Before I purchase, I was wondering if it can be used to blend essential oils for homemade soaps, or is it strictly designed for food preparation? Thanks for clarifying?\n",
        "A: The correct category is: A\n",
        "\n",
        "Q: Hello, I purchased your StirMaster Pro 2000 last week, and today it started making a grinding noise whenever I use it. The bottom is getting very hot, and there's a burning smell coming from it. I think there's something wrong with the motor. Please send me a replacement as soon as possible..\n",
        "A: The correct category is: B\n",
        "\n",
        "Q: YOUR COMPANY CONTINUES TO CHARGE MY CREDIT CARD EVEN THOUGH I CANCELED MY SUBSCRIPTION IN JANUARY!!! I'VE CALLED THREE TIMES ALREADY!!! FIX THIS IMMEDIATELY OR I'M REPORTING YOU TO THE BETTER BUSINESS BUREAU!!!\n",
        "A: The correct category is: C\n",
        "\n",
        "Q: Dear sir or madam, I somehow ended up on this page and I don't know what to do next. My grandson set up this computer for me but he's away at college now. Can someone please assist? I was trying to find a recipe for banana bread.\n",
        "A: The correct category is: D\n",
        "</examples>\n",
        "\n",
        "Here is the email for you to categorize: {email}\"\"\"\n",
        "\n",
        "# Prefill for Claude's response\n",
        "PREFILL = \"The correct category is:\"\n",
        "\n",
        "# Variable content stored as a list\n",
        "EMAILS = [\n",
        "    \"Hi -- My Mixmaster4000 is producing a strange noise when I operate it. It also smells a bit smoky and plasticky, like burning electronics.  I need a replacement.\", # (B) Broken or defective item\n",
        "    \"Can I use my Mixmaster 4000 to mix paint, or is it only meant for mixing food?\", # (A) Pre-sale question OR (D) Other (please explain)\n",
        "    \"I HAVE BEEN WAITING 4 MONTHS FOR MY MONTHLY CHARGES TO END AFTER CANCELLING!!  WTF IS GOING ON???\", # (C) Billing question\n",
        "    \"How did I get here I am not good with computer.  Halp.\" # (D) Other (please explain)\n",
        "]\n",
        "\n",
        "# Correct categorizations stored as a list of lists to accommodate the possibility of multiple correct categorizations per email\n",
        "ANSWERS = [\n",
        "    [\"B\"],\n",
        "    [\"A\",\"D\"],\n",
        "    [\"C\"],\n",
        "    [\"D\"]\n",
        "]\n",
        "\n",
        "# Iterate through list of emails\n",
        "for i,email in enumerate(EMAILS):\n",
        "\n",
        "    # Substitute the email text into the email placeholder variable\n",
        "    formatted_prompt = PROMPT.format(email=email)\n",
        "\n",
        "    # Get Claude's response\n",
        "    response = get_completion(formatted_prompt, prefill=PREFILL)\n",
        "    response = PREFILL + response\n",
        "\n",
        "    # Grade Claude's response\n",
        "    grade = any([bool(re.search(ans, response[-1])) for ans in ANSWERS[i]])\n",
        "\n",
        "    # Print Claude's response\n",
        "    print(\"--------------------------- Full prompt with variable substutions ---------------------------\")\n",
        "    print(\"USER TURN\")\n",
        "    print(formatted_prompt)\n",
        "    print(\"\\nASSISTANT TURN\")\n",
        "    print(PREFILL)\n",
        "    print(\"\\n------------------------------------- Claude's response -------------------------------------\")\n",
        "    print(response)\n",
        "    print(\"\\n------------------------------------------ GRADING ------------------------------------------\")\n",
        "    print(\"This exercise has been correctly solved:\", grade, \"\\n\\n\\n\\n\\n\\n\")\n",
        ""
      ],
      "metadata": {
        "colab": {
          "base_uri": "https://localhost:8080/"
        },
        "id": "EV4S0okucrvK",
        "outputId": "a4835c4d-6436-4e93-a75d-f04305df5fab"
      },
      "execution_count": 75,
      "outputs": [
        {
          "output_type": "stream",
          "name": "stdout",
          "text": [
            "--------------------------- Full prompt with variable substutions ---------------------------\n",
            "USER TURN\n",
            "\n",
            "Please classify emails into the following categories, and do not include explanations: \n",
            "<categories>\n",
            "(A) Pre-sale question\n",
            "(B) Broken or defective item\n",
            "(C) Billing question\n",
            "(D) Other (please explain)\n",
            "</categories>\n",
            "\n",
            "Here are a few examples of correct answer formatting:\n",
            "<examples>\n",
            "Q: Good morning, I've been looking at your BlendMax Ultra on your website. Before I purchase, I was wondering if it can be used to blend essential oils for homemade soaps, or is it strictly designed for food preparation? Thanks for clarifying?\n",
            "A: The correct category is: A\n",
            "\n",
            "Q: Hello, I purchased your StirMaster Pro 2000 last week, and today it started making a grinding noise whenever I use it. The bottom is getting very hot, and there's a burning smell coming from it. I think there's something wrong with the motor. Please send me a replacement as soon as possible..\n",
            "A: The correct category is: B\n",
            "\n",
            "Q: YOUR COMPANY CONTINUES TO CHARGE MY CREDIT CARD EVEN THOUGH I CANCELED MY SUBSCRIPTION IN JANUARY!!! I'VE CALLED THREE TIMES ALREADY!!! FIX THIS IMMEDIATELY OR I'M REPORTING YOU TO THE BETTER BUSINESS BUREAU!!!\n",
            "A: The correct category is: C\n",
            "\n",
            "Q: Dear sir or madam, I somehow ended up on this page and I don't know what to do next. My grandson set up this computer for me but he's away at college now. Can someone please assist? I was trying to find a recipe for banana bread.\n",
            "A: The correct category is: D\n",
            "</examples>\n",
            "\n",
            "Here is the email for you to categorize: Hi -- My Mixmaster4000 is producing a strange noise when I operate it. It also smells a bit smoky and plasticky, like burning electronics.  I need a replacement.\n",
            "\n",
            "ASSISTANT TURN\n",
            "The correct category is:\n",
            "\n",
            "------------------------------------- Claude's response -------------------------------------\n",
            "The correct category is: B\n",
            "\n",
            "------------------------------------------ GRADING ------------------------------------------\n",
            "This exercise has been correctly solved: True \n",
            "\n",
            "\n",
            "\n",
            "\n",
            "\n",
            "\n",
            "--------------------------- Full prompt with variable substutions ---------------------------\n",
            "USER TURN\n",
            "\n",
            "Please classify emails into the following categories, and do not include explanations: \n",
            "<categories>\n",
            "(A) Pre-sale question\n",
            "(B) Broken or defective item\n",
            "(C) Billing question\n",
            "(D) Other (please explain)\n",
            "</categories>\n",
            "\n",
            "Here are a few examples of correct answer formatting:\n",
            "<examples>\n",
            "Q: Good morning, I've been looking at your BlendMax Ultra on your website. Before I purchase, I was wondering if it can be used to blend essential oils for homemade soaps, or is it strictly designed for food preparation? Thanks for clarifying?\n",
            "A: The correct category is: A\n",
            "\n",
            "Q: Hello, I purchased your StirMaster Pro 2000 last week, and today it started making a grinding noise whenever I use it. The bottom is getting very hot, and there's a burning smell coming from it. I think there's something wrong with the motor. Please send me a replacement as soon as possible..\n",
            "A: The correct category is: B\n",
            "\n",
            "Q: YOUR COMPANY CONTINUES TO CHARGE MY CREDIT CARD EVEN THOUGH I CANCELED MY SUBSCRIPTION IN JANUARY!!! I'VE CALLED THREE TIMES ALREADY!!! FIX THIS IMMEDIATELY OR I'M REPORTING YOU TO THE BETTER BUSINESS BUREAU!!!\n",
            "A: The correct category is: C\n",
            "\n",
            "Q: Dear sir or madam, I somehow ended up on this page and I don't know what to do next. My grandson set up this computer for me but he's away at college now. Can someone please assist? I was trying to find a recipe for banana bread.\n",
            "A: The correct category is: D\n",
            "</examples>\n",
            "\n",
            "Here is the email for you to categorize: Can I use my Mixmaster 4000 to mix paint, or is it only meant for mixing food?\n",
            "\n",
            "ASSISTANT TURN\n",
            "The correct category is:\n",
            "\n",
            "------------------------------------- Claude's response -------------------------------------\n",
            "The correct category is: A\n",
            "\n",
            "------------------------------------------ GRADING ------------------------------------------\n",
            "This exercise has been correctly solved: True \n",
            "\n",
            "\n",
            "\n",
            "\n",
            "\n",
            "\n",
            "--------------------------- Full prompt with variable substutions ---------------------------\n",
            "USER TURN\n",
            "\n",
            "Please classify emails into the following categories, and do not include explanations: \n",
            "<categories>\n",
            "(A) Pre-sale question\n",
            "(B) Broken or defective item\n",
            "(C) Billing question\n",
            "(D) Other (please explain)\n",
            "</categories>\n",
            "\n",
            "Here are a few examples of correct answer formatting:\n",
            "<examples>\n",
            "Q: Good morning, I've been looking at your BlendMax Ultra on your website. Before I purchase, I was wondering if it can be used to blend essential oils for homemade soaps, or is it strictly designed for food preparation? Thanks for clarifying?\n",
            "A: The correct category is: A\n",
            "\n",
            "Q: Hello, I purchased your StirMaster Pro 2000 last week, and today it started making a grinding noise whenever I use it. The bottom is getting very hot, and there's a burning smell coming from it. I think there's something wrong with the motor. Please send me a replacement as soon as possible..\n",
            "A: The correct category is: B\n",
            "\n",
            "Q: YOUR COMPANY CONTINUES TO CHARGE MY CREDIT CARD EVEN THOUGH I CANCELED MY SUBSCRIPTION IN JANUARY!!! I'VE CALLED THREE TIMES ALREADY!!! FIX THIS IMMEDIATELY OR I'M REPORTING YOU TO THE BETTER BUSINESS BUREAU!!!\n",
            "A: The correct category is: C\n",
            "\n",
            "Q: Dear sir or madam, I somehow ended up on this page and I don't know what to do next. My grandson set up this computer for me but he's away at college now. Can someone please assist? I was trying to find a recipe for banana bread.\n",
            "A: The correct category is: D\n",
            "</examples>\n",
            "\n",
            "Here is the email for you to categorize: I HAVE BEEN WAITING 4 MONTHS FOR MY MONTHLY CHARGES TO END AFTER CANCELLING!!  WTF IS GOING ON???\n",
            "\n",
            "ASSISTANT TURN\n",
            "The correct category is:\n",
            "\n",
            "------------------------------------- Claude's response -------------------------------------\n",
            "The correct category is: C\n",
            "\n",
            "------------------------------------------ GRADING ------------------------------------------\n",
            "This exercise has been correctly solved: True \n",
            "\n",
            "\n",
            "\n",
            "\n",
            "\n",
            "\n",
            "--------------------------- Full prompt with variable substutions ---------------------------\n",
            "USER TURN\n",
            "\n",
            "Please classify emails into the following categories, and do not include explanations: \n",
            "<categories>\n",
            "(A) Pre-sale question\n",
            "(B) Broken or defective item\n",
            "(C) Billing question\n",
            "(D) Other (please explain)\n",
            "</categories>\n",
            "\n",
            "Here are a few examples of correct answer formatting:\n",
            "<examples>\n",
            "Q: Good morning, I've been looking at your BlendMax Ultra on your website. Before I purchase, I was wondering if it can be used to blend essential oils for homemade soaps, or is it strictly designed for food preparation? Thanks for clarifying?\n",
            "A: The correct category is: A\n",
            "\n",
            "Q: Hello, I purchased your StirMaster Pro 2000 last week, and today it started making a grinding noise whenever I use it. The bottom is getting very hot, and there's a burning smell coming from it. I think there's something wrong with the motor. Please send me a replacement as soon as possible..\n",
            "A: The correct category is: B\n",
            "\n",
            "Q: YOUR COMPANY CONTINUES TO CHARGE MY CREDIT CARD EVEN THOUGH I CANCELED MY SUBSCRIPTION IN JANUARY!!! I'VE CALLED THREE TIMES ALREADY!!! FIX THIS IMMEDIATELY OR I'M REPORTING YOU TO THE BETTER BUSINESS BUREAU!!!\n",
            "A: The correct category is: C\n",
            "\n",
            "Q: Dear sir or madam, I somehow ended up on this page and I don't know what to do next. My grandson set up this computer for me but he's away at college now. Can someone please assist? I was trying to find a recipe for banana bread.\n",
            "A: The correct category is: D\n",
            "</examples>\n",
            "\n",
            "Here is the email for you to categorize: How did I get here I am not good with computer.  Halp.\n",
            "\n",
            "ASSISTANT TURN\n",
            "The correct category is:\n",
            "\n",
            "------------------------------------- Claude's response -------------------------------------\n",
            "The correct category is: D\n",
            "\n",
            "------------------------------------------ GRADING ------------------------------------------\n",
            "This exercise has been correctly solved: True \n",
            "\n",
            "\n",
            "\n",
            "\n",
            "\n",
            "\n"
          ]
        }
      ]
    }
  ]
}