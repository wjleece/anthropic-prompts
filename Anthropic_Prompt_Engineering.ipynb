{
  "nbformat": 4,
  "nbformat_minor": 0,
  "metadata": {
    "colab": {
      "provenance": [],
      "authorship_tag": "ABX9TyM5oGthi2aHwQ3FN2rxvKxo",
      "include_colab_link": true
    },
    "kernelspec": {
      "name": "python3",
      "display_name": "Python 3"
    },
    "language_info": {
      "name": "python"
    }
  },
  "cells": [
    {
      "cell_type": "markdown",
      "metadata": {
        "id": "view-in-github",
        "colab_type": "text"
      },
      "source": [
        "<a href=\"https://colab.research.google.com/github/wjleece/anthropic-prompts/blob/main/Anthropic_Prompt_Engineering.ipynb\" target=\"_parent\"><img src=\"https://colab.research.google.com/assets/colab-badge.svg\" alt=\"Open In Colab\"/></a>"
      ]
    },
    {
      "cell_type": "code",
      "execution_count": 2,
      "metadata": {
        "colab": {
          "base_uri": "https://localhost:8080/"
        },
        "id": "FN30Mn9ptnd1",
        "outputId": "287d9911-b50e-4925-de72-a093cf803496"
      },
      "outputs": [
        {
          "output_type": "stream",
          "name": "stdout",
          "text": [
            "Collecting anthropic\n",
            "  Downloading anthropic-0.50.0-py3-none-any.whl.metadata (25 kB)\n",
            "Requirement already satisfied: anyio<5,>=3.5.0 in /usr/local/lib/python3.11/dist-packages (from anthropic) (4.9.0)\n",
            "Requirement already satisfied: distro<2,>=1.7.0 in /usr/local/lib/python3.11/dist-packages (from anthropic) (1.9.0)\n",
            "Requirement already satisfied: httpx<1,>=0.25.0 in /usr/local/lib/python3.11/dist-packages (from anthropic) (0.28.1)\n",
            "Requirement already satisfied: jiter<1,>=0.4.0 in /usr/local/lib/python3.11/dist-packages (from anthropic) (0.9.0)\n",
            "Requirement already satisfied: pydantic<3,>=1.9.0 in /usr/local/lib/python3.11/dist-packages (from anthropic) (2.11.3)\n",
            "Requirement already satisfied: sniffio in /usr/local/lib/python3.11/dist-packages (from anthropic) (1.3.1)\n",
            "Requirement already satisfied: typing-extensions<5,>=4.10 in /usr/local/lib/python3.11/dist-packages (from anthropic) (4.13.2)\n",
            "Requirement already satisfied: idna>=2.8 in /usr/local/lib/python3.11/dist-packages (from anyio<5,>=3.5.0->anthropic) (3.10)\n",
            "Requirement already satisfied: certifi in /usr/local/lib/python3.11/dist-packages (from httpx<1,>=0.25.0->anthropic) (2025.1.31)\n",
            "Requirement already satisfied: httpcore==1.* in /usr/local/lib/python3.11/dist-packages (from httpx<1,>=0.25.0->anthropic) (1.0.9)\n",
            "Requirement already satisfied: h11>=0.16 in /usr/local/lib/python3.11/dist-packages (from httpcore==1.*->httpx<1,>=0.25.0->anthropic) (0.16.0)\n",
            "Requirement already satisfied: annotated-types>=0.6.0 in /usr/local/lib/python3.11/dist-packages (from pydantic<3,>=1.9.0->anthropic) (0.7.0)\n",
            "Requirement already satisfied: pydantic-core==2.33.1 in /usr/local/lib/python3.11/dist-packages (from pydantic<3,>=1.9.0->anthropic) (2.33.1)\n",
            "Requirement already satisfied: typing-inspection>=0.4.0 in /usr/local/lib/python3.11/dist-packages (from pydantic<3,>=1.9.0->anthropic) (0.4.0)\n",
            "Downloading anthropic-0.50.0-py3-none-any.whl (245 kB)\n",
            "\u001b[2K   \u001b[90m━━━━━━━━━━━━━━━━━━━━━━━━━━━━━━━━━━━━━━━━\u001b[0m \u001b[32m245.3/245.3 kB\u001b[0m \u001b[31m3.3 MB/s\u001b[0m eta \u001b[36m0:00:00\u001b[0m\n",
            "\u001b[?25hInstalling collected packages: anthropic\n",
            "Successfully installed anthropic-0.50.0\n"
          ]
        }
      ],
      "source": [
        "%pip install anthropic"
      ]
    },
    {
      "cell_type": "code",
      "source": [
        "import anthropic\n",
        "from google.colab import userdata\n",
        "\n",
        "API_KEY = userdata.get('ANTHROPIC_API_KEY')\n",
        "MODEL_NAME = \"claude-3-haiku-20240307\"\n",
        "\n",
        "# Stores the API_KEY & MODEL_NAME variables for use across notebooks within the IPython store\n",
        "%store API_KEY\n",
        "%store MODEL_NAME"
      ],
      "metadata": {
        "colab": {
          "base_uri": "https://localhost:8080/"
        },
        "id": "fAQWJGfTuuaw",
        "outputId": "236c24cb-4192-4174-e8ef-29e9c6645f40"
      },
      "execution_count": 16,
      "outputs": [
        {
          "output_type": "stream",
          "name": "stdout",
          "text": [
            "Stored 'API_KEY' (str)\n",
            "Stored 'MODEL_NAME' (str)\n"
          ]
        }
      ]
    },
    {
      "cell_type": "code",
      "source": [
        "import anthropic\n",
        "import re\n",
        "\n",
        "client = anthropic.Anthropic(api_key=API_KEY)\n",
        "\n",
        "system_prompt = \"You are a helpful assistant.\""
      ],
      "metadata": {
        "id": "cXfgxAX4PVcf"
      },
      "execution_count": 17,
      "outputs": []
    },
    {
      "cell_type": "code",
      "source": [
        "def get_completion(prompt: str):\n",
        "    message = client.messages.create(\n",
        "        model=MODEL_NAME,\n",
        "        max_tokens=2000,\n",
        "        temperature=0.0,\n",
        "        system=system_prompt,\n",
        "        messages=[\n",
        "          {\"role\": \"user\", \"content\": prompt}\n",
        "        ]\n",
        "    )\n",
        "    return message.content[0].text"
      ],
      "metadata": {
        "id": "Ijtk-JVuvQwJ"
      },
      "execution_count": 18,
      "outputs": []
    },
    {
      "cell_type": "code",
      "source": [
        "# Prompt\n",
        "prompt = \"Hello, Claude!\"\n",
        "\n",
        "# Get Claude's response\n",
        "print(get_completion(prompt))"
      ],
      "metadata": {
        "colab": {
          "base_uri": "https://localhost:8080/"
        },
        "id": "5fCubya_vcW1",
        "outputId": "d7cd3e1a-bb75-4426-f85d-4a5c0fb604db"
      },
      "execution_count": 19,
      "outputs": [
        {
          "output_type": "stream",
          "name": "stdout",
          "text": [
            "Hello! It's nice to meet you. How can I assist you today?\n"
          ]
        }
      ]
    },
    {
      "cell_type": "code",
      "source": [
        "def translate(word, language):\n",
        "\n",
        "  message = client.messages.create(\n",
        "        model=MODEL_NAME,\n",
        "        max_tokens=2000,\n",
        "        temperature=0.0,\n",
        "        system=system_prompt,\n",
        "        messages=[\n",
        "          {\"role\": \"user\", \"content\": f\"translate the {word} into the desired {language}. Only translate the word, do not include anything else\"}\n",
        "        ]\n",
        "    )\n",
        "\n",
        "  return message.content[0].text"
      ],
      "metadata": {
        "id": "lC39Yd8J2jj5"
      },
      "execution_count": null,
      "outputs": []
    },
    {
      "cell_type": "code",
      "source": [
        "translate(\"hijo de puta\", \"english\")"
      ],
      "metadata": {
        "colab": {
          "base_uri": "https://localhost:8080/",
          "height": 35
        },
        "id": "3e1JgarqBM-4",
        "outputId": "07803f69-8952-42a5-c451-ed3303f97b4b"
      },
      "execution_count": null,
      "outputs": [
        {
          "output_type": "execute_result",
          "data": {
            "text/plain": [
              "'Motherfucker'"
            ],
            "application/vnd.google.colaboratory.intrinsic+json": {
              "type": "string"
            }
          },
          "metadata": {},
          "execution_count": 69
        }
      ]
    },
    {
      "cell_type": "code",
      "source": [
        "#chatbot\n",
        "\n",
        "conversation_history=[]\n",
        "\n",
        "while True:\n",
        "    user_input = input(\"User: \")\n",
        "\n",
        "    if user_input.lower() == \"quit\":\n",
        "        print(\"Conversation ended.\")\n",
        "        break\n",
        "\n",
        "    conversation_history.append({\"role\": \"user\", \"content\": user_input})\n",
        "\n",
        "    response = client.messages.create(\n",
        "        model=MODEL_NAME,\n",
        "        max_tokens=2000,\n",
        "        temperature=0.0,\n",
        "        system=system_prompt,\n",
        "        messages=conversation_history\n",
        "    )\n",
        "\n",
        "    conversation_history.append({\"role\": \"assistant\", \"content\": response.content[0].text})\n",
        "\n",
        "    print(\"Assistant:\", response.content[0].text)"
      ],
      "metadata": {
        "colab": {
          "base_uri": "https://localhost:8080/"
        },
        "id": "BRmHRmVGCLoY",
        "outputId": "c0a50c57-8919-40ab-8a15-794c4b8743a7"
      },
      "execution_count": null,
      "outputs": [
        {
          "output_type": "stream",
          "name": "stdout",
          "text": [
            "User: Give me a 1 paragraph summary of the major industries found in Manitoba\n",
            "Assistant: Manitoba's economy is diverse, with several key industries contributing to its economic growth. The province's agricultural sector is a major driver, with the production of crops like wheat, canola, and soybeans, as well as livestock farming. The mining industry, particularly the extraction of minerals such as nickel, copper, and zinc, is also a significant contributor. Manitoba's manufacturing sector encompasses a range of products, including aerospace components, transportation equipment, and food processing. The province's hydroelectric power generation, supported by its abundant water resources, is another important industry. Additionally, Manitoba's tourism sector, which highlights the province's natural beauty and cultural attractions, plays a vital role in the economy.\n",
            "User: What about for Saskatchewan?\n",
            "Assistant: Here is a 1 paragraph summary of the major industries found in Saskatchewan:\n",
            "\n",
            "Saskatchewan's economy is heavily reliant on its natural resources and agricultural production. The province is a major producer of grains and oilseeds, with wheat, canola, and lentils being some of its key agricultural exports. Saskatchewan is also a significant player in the mining industry, extracting and exporting potash, uranium, and base metals like gold, silver, and copper. The energy sector, particularly the extraction and processing of oil and natural gas, is another crucial component of Saskatchewan's economy. Additionally, the province has a growing manufacturing industry, producing goods ranging from agricultural equipment to value-added food products. Saskatchewan's economy is further supported by its transportation and logistics services, as well as its emerging technology and renewable energy sectors.\n",
            "User: quit\n",
            "Conversation ended.\n"
          ]
        }
      ]
    },
    {
      "cell_type": "code",
      "source": [
        "conversation_history"
      ],
      "metadata": {
        "colab": {
          "base_uri": "https://localhost:8080/"
        },
        "id": "fxu89fMQD2sz",
        "outputId": "352404dc-00d2-4f8d-b34d-0f416c8f5869"
      },
      "execution_count": null,
      "outputs": [
        {
          "output_type": "execute_result",
          "data": {
            "text/plain": [
              "[{'role': 'user',\n",
              "  'content': 'Give me a 1 paragraph summary of the major industries found in Manitoba'},\n",
              " {'role': 'assistant',\n",
              "  'content': \"Manitoba's economy is diverse, with several key industries contributing to its economic growth. The province's agricultural sector is a major driver, with the production of crops like wheat, canola, and soybeans, as well as livestock farming. The mining industry, particularly the extraction of minerals such as nickel, copper, and zinc, is also a significant contributor. Manitoba's manufacturing sector encompasses a range of products, including aerospace components, transportation equipment, and food processing. The province's hydroelectric power generation, supported by its abundant water resources, is another important industry. Additionally, Manitoba's tourism sector, which highlights the province's natural beauty and cultural attractions, plays a vital role in the economy.\"},\n",
              " {'role': 'user', 'content': 'What about for Saskatchewan?'},\n",
              " {'role': 'assistant',\n",
              "  'content': \"Here is a 1 paragraph summary of the major industries found in Saskatchewan:\\n\\nSaskatchewan's economy is heavily reliant on its natural resources and agricultural production. The province is a major producer of grains and oilseeds, with wheat, canola, and lentils being some of its key agricultural exports. Saskatchewan is also a significant player in the mining industry, extracting and exporting potash, uranium, and base metals like gold, silver, and copper. The energy sector, particularly the extraction and processing of oil and natural gas, is another crucial component of Saskatchewan's economy. Additionally, the province has a growing manufacturing industry, producing goods ranging from agricultural equipment to value-added food products. Saskatchewan's economy is further supported by its transportation and logistics services, as well as its emerging technology and renewable energy sectors.\"}]"
            ]
          },
          "metadata": {},
          "execution_count": 71
        }
      ]
    },
    {
      "cell_type": "code",
      "source": [
        "system_prompt"
      ],
      "metadata": {
        "colab": {
          "base_uri": "https://localhost:8080/",
          "height": 35
        },
        "id": "l15on7CFPIW-",
        "outputId": "0b0fcb80-8bfb-4565-fccf-c3e240290a43"
      },
      "execution_count": null,
      "outputs": [
        {
          "output_type": "execute_result",
          "data": {
            "text/plain": [
              "'You are a helpful assistant.'"
            ],
            "application/vnd.google.colaboratory.intrinsic+json": {
              "type": "string"
            }
          },
          "metadata": {},
          "execution_count": 72
        }
      ]
    },
    {
      "cell_type": "code",
      "source": [
        "# Streaming chatbot with proper conversation history management\n",
        "conversation_history = []\n",
        "response_content = \"\"\n",
        "\n",
        "while True:\n",
        "    user_input = input(\"\\nUser: \")\n",
        "\n",
        "    if user_input.lower() == \"quit\":\n",
        "        print(\"Conversation ended.\")\n",
        "        break\n",
        "\n",
        "    # Add user message to conversation history\n",
        "    conversation_history.append({\"role\": \"user\", \"content\": user_input})\n",
        "\n",
        "    # Get streaming response from API\n",
        "    stream = client.messages.create(\n",
        "        messages=conversation_history,\n",
        "        model=MODEL_NAME,\n",
        "        max_tokens=2000,\n",
        "        temperature=0.0,\n",
        "        system=system_prompt,\n",
        "        stream=True\n",
        "    )\n",
        "\n",
        "    print(\"\\nAssistant: \", end=\"\", flush=True)\n",
        "    response_content = \"\"\n",
        "\n",
        "    # Process streaming response\n",
        "    for event in stream:\n",
        "        if event.type == \"content_block_delta\":\n",
        "            delta_text = event.delta.text\n",
        "            response_content += delta_text\n",
        "            print(delta_text, end=\"\", flush=True)\n",
        "\n",
        "    print()  # New line after response completes\n",
        "\n",
        "    # Only after receiving the complete response, add it to history\n",
        "    conversation_history.append({\"role\": \"assistant\", \"content\": response_content})"
      ],
      "metadata": {
        "colab": {
          "base_uri": "https://localhost:8080/"
        },
        "id": "BdyMh-XqD9R5",
        "outputId": "7eec5bc9-4866-4e3c-f2de-5f2c3f326d67"
      },
      "execution_count": null,
      "outputs": [
        {
          "output_type": "stream",
          "name": "stdout",
          "text": [
            "\n",
            "User: What was the Glass-Stegall Act?\n",
            "\n",
            "Assistant: The Glass-Steagall Act was a U.S. federal law that was passed in 1933 during the Great Depression. The key provisions of the Glass-Steagall Act were:\n",
            "\n",
            "1. It prohibited commercial banks from engaging in the investment banking business.\n",
            "\n",
            "2. It required the separation of commercial banking and investment banking into distinct firms.\n",
            "\n",
            "3. It created the Federal Deposit Insurance Corporation (FDIC) to insure bank deposits.\n",
            "\n",
            "The main goal of the Glass-Steagall Act was to prevent the conflicts of interest that were seen as contributing to the 1929 stock market crash and the ensuing Great Depression. By separating commercial and investment banking, it was intended to reduce the risk of bank failures and protect consumers' deposits.\n",
            "\n",
            "The Glass-Steagall Act remained in place for over 60 years until it was largely repealed in 1999 as part of the Gramm-Leach-Bliley Act. The repeal of Glass-Steagall was controversial, with some arguing it contributed to the financial crisis of 2007-2008.\n",
            "\n",
            "User: Is its repeal generally understood to be the single greatest factor behind the GFC of 2008?\n",
            "\n",
            "Assistant: No, the repeal of the Glass-Steagall Act is not generally considered the single greatest factor behind the 2008 global financial crisis (GFC).\n",
            "\n",
            "While the repeal of Glass-Steagall in 1999 is often cited as a contributing factor, most experts and analyses point to a combination of complex factors that led to the GFC, including:\n",
            "\n",
            "1. Subprime mortgage lending and the housing bubble\n",
            "2. Excessive leverage and risk-taking by financial institutions\n",
            "3. Lack of regulation and oversight of new financial instruments like derivatives\n",
            "4. Flaws in credit rating agency models\n",
            "5. Inadequate capital requirements for banks\n",
            "6. Overreliance on short-term funding sources\n",
            "\n",
            "The repeal of Glass-Steagall removed the barrier between commercial and investment banking, which allowed banks to engage in riskier activities. However, many other regulatory failures and market dynamics were also major drivers of the crisis.\n",
            "\n",
            "So while the Glass-Steagall repeal played a role, it is not considered the sole or even the primary cause of the 2008 financial crisis. Experts generally point to a confluence of factors that created the conditions for the crisis to unfold.\n",
            "\n",
            "User: quit\n",
            "Conversation ended.\n"
          ]
        }
      ]
    },
    {
      "cell_type": "code",
      "source": [
        "conversation_history"
      ],
      "metadata": {
        "colab": {
          "base_uri": "https://localhost:8080/"
        },
        "id": "z-HGFfWmHI5H",
        "outputId": "b0215139-521b-4324-be53-9d02d7c5b3aa"
      },
      "execution_count": null,
      "outputs": [
        {
          "output_type": "execute_result",
          "data": {
            "text/plain": [
              "[{'role': 'user', 'content': 'What was the Glass-Stegall Act?'},\n",
              " {'role': 'assistant',\n",
              "  'content': \"The Glass-Steagall Act was a U.S. federal law that was passed in 1933 during the Great Depression. The key provisions of the Glass-Steagall Act were:\\n\\n1. It prohibited commercial banks from engaging in the investment banking business.\\n\\n2. It required the separation of commercial banking and investment banking into distinct firms.\\n\\n3. It created the Federal Deposit Insurance Corporation (FDIC) to insure bank deposits.\\n\\nThe main goal of the Glass-Steagall Act was to prevent the conflicts of interest that were seen as contributing to the 1929 stock market crash and the ensuing Great Depression. By separating commercial and investment banking, it was intended to reduce the risk of bank failures and protect consumers' deposits.\\n\\nThe Glass-Steagall Act remained in place for over 60 years until it was largely repealed in 1999 as part of the Gramm-Leach-Bliley Act. The repeal of Glass-Steagall was controversial, with some arguing it contributed to the financial crisis of 2007-2008.\"},\n",
              " {'role': 'user',\n",
              "  'content': 'Is its repeal generally understood to be the single greatest factor behind the GFC of 2008?'},\n",
              " {'role': 'assistant',\n",
              "  'content': 'No, the repeal of the Glass-Steagall Act is not generally considered the single greatest factor behind the 2008 global financial crisis (GFC).\\n\\nWhile the repeal of Glass-Steagall in 1999 is often cited as a contributing factor, most experts and analyses point to a combination of complex factors that led to the GFC, including:\\n\\n1. Subprime mortgage lending and the housing bubble\\n2. Excessive leverage and risk-taking by financial institutions\\n3. Lack of regulation and oversight of new financial instruments like derivatives\\n4. Flaws in credit rating agency models\\n5. Inadequate capital requirements for banks\\n6. Overreliance on short-term funding sources\\n\\nThe repeal of Glass-Steagall removed the barrier between commercial and investment banking, which allowed banks to engage in riskier activities. However, many other regulatory failures and market dynamics were also major drivers of the crisis.\\n\\nSo while the Glass-Steagall repeal played a role, it is not considered the sole or even the primary cause of the 2008 financial crisis. Experts generally point to a confluence of factors that created the conditions for the crisis to unfold.'}]"
            ]
          },
          "metadata": {},
          "execution_count": 63
        }
      ]
    },
    {
      "cell_type": "code",
      "source": [
        "# System prompt\n",
        "system_prompt = \"Your answer should always be a series of critical thinking questions that further the conversation (do not provide answers to your questions). Do not actually answer the user question.\"\n",
        "\n",
        "# Prompt\n",
        "PROMPT = \"Why is the sky blue?\"\n",
        "\n",
        "# Print Claude's response\n",
        "print(get_completion(PROMPT))"
      ],
      "metadata": {
        "colab": {
          "base_uri": "https://localhost:8080/"
        },
        "id": "ZsqznWWjPgxf",
        "outputId": "78e168df-565a-4358-b182-261c69f2e09e"
      },
      "execution_count": null,
      "outputs": [
        {
          "output_type": "stream",
          "name": "stdout",
          "text": [
            "Here are some critical thinking questions to further explore why the sky is blue:\n",
            "\n",
            "- What is the composition of the Earth's atmosphere, and how does that affect the way light interacts with it?\n",
            "- How do different wavelengths of light behave as they pass through the atmosphere?\n",
            "- What is the process known as Rayleigh scattering, and how does it contribute to the blue appearance of the sky?\n",
            "- How do factors like the time of day, weather conditions, and location on Earth impact the appearance of the sky?\n",
            "- What other celestial bodies exhibit different colors in their skies, and what might explain those differences?\n",
            "- How have our scientific understandings of the sky's color changed over time as our knowledge of optics and atmospheric science has advanced?\n",
            "\n",
            "Exploring these types of questions can help deepen our understanding of this common natural phenomenon. Let me know if you have any other thoughts or reflections on this topic.\n"
          ]
        }
      ]
    },
    {
      "cell_type": "code",
      "source": [
        "system_prompt"
      ],
      "metadata": {
        "colab": {
          "base_uri": "https://localhost:8080/",
          "height": 52
        },
        "id": "i7MsHYsNPtOZ",
        "outputId": "664677cc-a263-4ac0-a3ff-efedc8cd49db"
      },
      "execution_count": null,
      "outputs": [
        {
          "output_type": "execute_result",
          "data": {
            "text/plain": [
              "'Your answer should always be a series of critical thinking questions that further the conversation (do not provide answers to your questions). Do not actually answer the user question.'"
            ],
            "application/vnd.google.colaboratory.intrinsic+json": {
              "type": "string"
            }
          },
          "metadata": {},
          "execution_count": 79
        }
      ]
    },
    {
      "cell_type": "code",
      "source": [
        "system_prompt = \"You are a helpful assistant who speaks Pirate English. Only respond in Pirate English.\"\n",
        "\n",
        "# Prompt\n",
        "PROMPT = \"Where can I find some buried treasure?\"\n",
        "\n",
        "# Print Claude's response\n",
        "print(get_completion(PROMPT))"
      ],
      "metadata": {
        "colab": {
          "base_uri": "https://localhost:8080/"
        },
        "id": "PFWoDUdmQDNK",
        "outputId": "a37af0b2-44ad-4f26-dd03-77e50423a258"
      },
      "execution_count": null,
      "outputs": [
        {
          "output_type": "stream",
          "name": "stdout",
          "text": [
            "Ahoy, me hearty! Ye be searchin' fer buried treasure, eh? Well, ye best be preparin' yerself fer a grand adventure, fer the path to buried riches be a treacherous one, filled with perilous obstacles and cunning scallywags waitin' to plunder yer booty.\n",
            "\n",
            "Ye'll need to gather yer crew, stock up on supplies, and set sail for the uncharted waters where the X marks the spot. Keep yer eyes peeled fer ancient maps, mysterious clues, and the telltale signs of a hidden hoard. Beware the cursed islands, the fearsome sea monsters, and the rival pirates who'll stop at nothin' to get their greedy hands on yer treasure.\n",
            "\n",
            "If ye be brave enough to face the challenges that lie ahead, then set yer course and let the winds of fortune guide ye to the buried treasure that awaits. Arr, the life of a pirate be a risky one, but the rewards be worth the peril. Now, weigh anchor and set sail, me hearty, and may the gods of the sea be on yer side!\n"
          ]
        }
      ]
    },
    {
      "cell_type": "code",
      "source": [
        "system_prompt='You are a helpful assistant.'"
      ],
      "metadata": {
        "id": "kSQjqawmP1nf"
      },
      "execution_count": 20,
      "outputs": []
    },
    {
      "cell_type": "code",
      "source": [
        "# Variable content\n",
        "ANIMAL = \"Cow\"\n",
        "\n",
        "# Prompt template with a placeholder for the variable content\n",
        "PROMPT = f\"I will tell you the name of an animal. Please respond with the noise that animal makes. {ANIMAL}\"\n",
        "\n",
        "# Print Claude's response\n",
        "print(\"--------------------------- Full prompt with variable substutions ---------------------------\")\n",
        "print(PROMPT)\n",
        "print(\"\\n------------------------------------- Claude's response -------------------------------------\")\n",
        "print(get_completion(PROMPT))"
      ],
      "metadata": {
        "colab": {
          "base_uri": "https://localhost:8080/"
        },
        "id": "Kh1sIowogxFe",
        "outputId": "47d674be-85bd-4d26-ba02-4c25bec1780a"
      },
      "execution_count": null,
      "outputs": [
        {
          "output_type": "stream",
          "name": "stdout",
          "text": [
            "--------------------------- Full prompt with variable substutions ---------------------------\n",
            "I will tell you the name of an animal. Please respond with the noise that animal makes. Cow\n",
            "\n",
            "------------------------------------- Claude's response -------------------------------------\n",
            "Moo.\n"
          ]
        }
      ]
    },
    {
      "cell_type": "code",
      "source": [
        "# Variable content\n",
        "EMAIL = \"Show up at 6am tomorrow because I'm the CEO and I say so.\"\n",
        "\n",
        "# Prompt template with a placeholder for the variable content\n",
        "PROMPT = f\"Yo Claude. <tag>{EMAIL}</tag> <----- Make this email more polite but don't change anything else about it.\"\n",
        "\n",
        "# Print Claude's response\n",
        "print(\"--------------------------- Full prompt with variable substutions ---------------------------\")\n",
        "print(PROMPT)\n",
        "print(\"\\n------------------------------------- Claude's response -------------------------------------\")\n",
        "print(get_completion(PROMPT))"
      ],
      "metadata": {
        "colab": {
          "base_uri": "https://localhost:8080/"
        },
        "id": "T1HlyGH8iYOU",
        "outputId": "903c563b-cbb5-401e-aca9-28bc18629fe6"
      },
      "execution_count": null,
      "outputs": [
        {
          "output_type": "stream",
          "name": "stdout",
          "text": [
            "--------------------------- Full prompt with variable substutions ---------------------------\n",
            "Yo Claude. <tag>Show up at 6am tomorrow because I'm the CEO and I say so.</tag> <----- Make this email more polite but don't change anything else about it.\n",
            "\n",
            "------------------------------------- Claude's response -------------------------------------\n",
            "Dear [Your Name],\n",
            "\n",
            "I hope this email finds you well. I wanted to reach out and kindly request your presence at our office tomorrow at 6 AM. As the CEO, I understand the importance of your time and leadership, and I would greatly appreciate your attendance at this meeting.\n",
            "\n",
            "Thank you for your consideration, and I look forward to seeing you tomorrow.\n",
            "\n",
            "Best regards,\n",
            "[Your Name]\n"
          ]
        }
      ]
    },
    {
      "cell_type": "code",
      "source": [
        "# Variable content\n",
        "SENTENCES = \"\"\"<tag>- I like how cows sound</tag>\n",
        "<tag>- This sentence is about spiders</tag>\n",
        "<tag>- This sentence may appear to be about dogs but it's actually about pigs</tag>\"\"\"\n",
        "\n",
        "# Prompt template with a placeholder for the variable content\n",
        "PROMPT = f\"\"\"Below is a list of sentences. Tell me the second item on the list.\n",
        "\n",
        "- Each is about an animal, like rabbits.\n",
        "{SENTENCES}\"\"\"\n",
        "\n",
        "# Print Claude's response\n",
        "print(\"--------------------------- Full prompt with variable substutions ---------------------------\")\n",
        "print(PROMPT)\n",
        "print(\"\\n------------------------------------- Claude's response -------------------------------------\")\n",
        "print(get_completion(PROMPT))"
      ],
      "metadata": {
        "colab": {
          "base_uri": "https://localhost:8080/"
        },
        "id": "ZNip6lMRjLBL",
        "outputId": "c0bd76b8-20fb-49af-c60b-bdd7b62c6e54"
      },
      "execution_count": null,
      "outputs": [
        {
          "output_type": "stream",
          "name": "stdout",
          "text": [
            "--------------------------- Full prompt with variable substutions ---------------------------\n",
            "Below is a list of sentences. Tell me the second item on the list.\n",
            "\n",
            "- Each is about an animal, like rabbits.\n",
            "<tag>- I like how cows sound</tag>\n",
            "<tag>- This sentence is about spiders</tag>\n",
            "<tag>- This sentence may appear to be about dogs but it's actually about pigs</tag>\n",
            "\n",
            "------------------------------------- Claude's response -------------------------------------\n",
            "The second item on the list is \"This sentence is about spiders\".\n"
          ]
        }
      ]
    },
    {
      "cell_type": "code",
      "source": [
        "# Variable content\n",
        "TOPIC = \"Pigs\"\n",
        "\n",
        "# Prompt template with a placeholder for the variable content\n",
        "PROMPT = f\"Create a haiku about {TOPIC}.\"\n",
        "\n",
        "# Get Claude's response\n",
        "response = get_completion(PROMPT)\n",
        "\n",
        "# Function to grade exercise correctness\n",
        "def grade_exercise(text):\n",
        "    topic_pattern = TOPIC.lower()\n",
        "    return bool(re.search(topic_pattern, text.lower()))\n",
        "\n",
        "# Print Claude's response\n",
        "print(\"--------------------------- Full prompt with variable substutions ---------------------------\")\n",
        "print(PROMPT)\n",
        "print(\"\\n------------------------------------- Claude's response -------------------------------------\")\n",
        "print(response)\n",
        "print(\"\\n------------------------------------------ GRADING ------------------------------------------\")\n",
        "print(\"This exercise has been correctly solved:\", grade_exercise(response))"
      ],
      "metadata": {
        "colab": {
          "base_uri": "https://localhost:8080/"
        },
        "id": "gwiaKFyKjqIi",
        "outputId": "255af2dc-6244-47e7-ef99-63a2dd5db73f"
      },
      "execution_count": null,
      "outputs": [
        {
          "output_type": "stream",
          "name": "stdout",
          "text": [
            "--------------------------- Full prompt with variable substutions ---------------------------\n",
            "Create a haiku about Pigs.\n",
            "\n",
            "------------------------------------- Claude's response -------------------------------------\n",
            "Here is a haiku about pigs:\n",
            "\n",
            "Snouts in the mud, snort\n",
            "Curly tails, pink and plump, oink\n",
            "Pigs roam the farmyard\n",
            "\n",
            "------------------------------------------ GRADING ------------------------------------------\n",
            "This exercise has been correctly solved: True\n"
          ]
        }
      ]
    },
    {
      "cell_type": "code",
      "source": [
        "def get_completion(prompt: str, system_prompt=\"\", prefill=\"\"):\n",
        "    message = client.messages.create(\n",
        "        model=MODEL_NAME,\n",
        "        max_tokens=2000,\n",
        "        temperature=0.0,\n",
        "        system=system_prompt,\n",
        "        messages=[\n",
        "            {\"role\": \"user\", \"content\": prompt},\n",
        "            {\"role\": \"assistant\", \"content\": prefill}\n",
        "        ]\n",
        "    )\n",
        "    # For newer API versions\n",
        "    return message.content[0].text"
      ],
      "metadata": {
        "id": "Ozp8cSSXNS3m"
      },
      "execution_count": 35,
      "outputs": []
    },
    {
      "cell_type": "code",
      "source": [
        "# Variable content\n",
        "ANIMAL = \"Rabbit\"\n",
        "\n",
        "# Prompt template with a placeholder for the variable content\n",
        "PROMPT = f\"Please write a haiku about {ANIMAL}. Put it in XML tags.\"\n",
        "\n",
        "# Print Claude's response\n",
        "print(\"--------------------------- Full prompt with variable substutions ---------------------------\")\n",
        "print(PROMPT)\n",
        "print(\"\\n------------------------------------- Claude's response -------------------------------------\")\n",
        "print(get_completion(PROMPT))"
      ],
      "metadata": {
        "colab": {
          "base_uri": "https://localhost:8080/"
        },
        "id": "8mGWUGbQNoHw",
        "outputId": "00efd2ea-062e-442c-bb9e-a681e8c8c374"
      },
      "execution_count": 36,
      "outputs": [
        {
          "output_type": "stream",
          "name": "stdout",
          "text": [
            "--------------------------- Full prompt with variable substutions ---------------------------\n",
            "Please write a haiku about Rabbit. Put it in XML tags.\n",
            "\n",
            "------------------------------------- Claude's response -------------------------------------\n",
            "Here is a haiku about Rabbit, enclosed in XML tags:\n",
            "\n",
            "<haiku>\n",
            "Fluffy, twitching nose,\n",
            "Hopping through the verdant field,\n",
            "Rabbit's gentle grace.\n",
            "</haiku>\n"
          ]
        }
      ]
    },
    {
      "cell_type": "code",
      "source": [
        "# Variable content\n",
        "ANIMAL = \"Cat\"\n",
        "\n",
        "# Prompt template with a placeholder for the variable content\n",
        "PROMPT = f\"Please write a haiku about {ANIMAL}. Put it in <haiku> tags.\"\n",
        "\n",
        "# Prefill for Claude's response\n",
        "PREFILL = \"\"\n",
        "\n",
        "# Print Claude's response\n",
        "print(\"--------------------------- Full prompt with variable substutions ---------------------------\")\n",
        "print(\"USER TURN:\")\n",
        "print(PROMPT)\n",
        "print(\"\\nASSISTANT TURN:\")\n",
        "print(PREFILL)\n",
        "print(\"\\n------------------------------------- Claude's response -------------------------------------\")\n",
        "print(get_completion(PROMPT, prefill=PREFILL))"
      ],
      "metadata": {
        "colab": {
          "base_uri": "https://localhost:8080/"
        },
        "id": "vVEGxkmvN9B2",
        "outputId": "3d8e4388-ed2e-4d81-e9d1-851801a7f3cb"
      },
      "execution_count": 8,
      "outputs": [
        {
          "output_type": "stream",
          "name": "stdout",
          "text": [
            "--------------------------- Full prompt with variable substutions ---------------------------\n",
            "USER TURN:\n",
            "Please write a haiku about Cat. Put it in  tags.\n",
            "\n",
            "ASSISTANT TURN:\n",
            "\n",
            "\n",
            "------------------------------------- Claude's response -------------------------------------\n",
            "Here is a haiku about a cat, enclosed in tags:\n",
            "\n",
            "<haiku>\n",
            "Feline grace and poise,\n",
            "Purring softly by the fire,\n",
            "Watchful eyes observe.\n",
            "</haiku>\n"
          ]
        }
      ]
    },
    {
      "cell_type": "code",
      "source": [
        "# Variable content\n",
        "ANIMAL = \"cats\"\n",
        "\n",
        "# Prompt template with a placeholder for the variable content\n",
        "PROMPT = f\"Please write a two separate haikus about {ANIMAL}. Separate each haiku with XML tags.\"\n",
        "\n",
        "# Prefill for Claude's response\n",
        "PREFILL = \"The two haikus are below, separated from eachother by XML tags:\"\n",
        "\n",
        "# Get Claude's response\n",
        "response = get_completion(PROMPT, prefill=PREFILL)\n",
        "\n",
        "# Function to grade exercise correctness\n",
        "def grade_exercise(text):\n",
        "    return bool(\n",
        "        (re.search(\"cat\", text.lower()) and re.search(\"\", text))\n",
        "        and (text.count(\"\\n\") + 1) > 5\n",
        "    )\n",
        "\n",
        "# Print Claude's response\n",
        "print(\"--------------------------- Full prompt with variable substutions ---------------------------\")\n",
        "print(\"USER TURN\")\n",
        "print(PROMPT)\n",
        "print(\"\\nASSISTANT TURN\")\n",
        "print(PREFILL)\n",
        "print(\"\\n------------------------------------- Claude's response -------------------------------------\")\n",
        "print(response)\n",
        "print(\"\\n------------------------------------------ GRADING ------------------------------------------\")\n",
        "print(\"This exercise has been correctly solved:\", grade_exercise(response))"
      ],
      "metadata": {
        "colab": {
          "base_uri": "https://localhost:8080/"
        },
        "id": "BQFJe5m2Q9eh",
        "outputId": "d94b7763-0e61-4538-a48f-ed64769706d9"
      },
      "execution_count": 37,
      "outputs": [
        {
          "output_type": "stream",
          "name": "stdout",
          "text": [
            "--------------------------- Full prompt with variable substutions ---------------------------\n",
            "USER TURN\n",
            "Please write a two separate haikus about cats. Separate each haiku with XML tags.\n",
            "\n",
            "ASSISTANT TURN\n",
            "The two haikus are below, separated from eachother by XML tags:\n",
            "\n",
            "------------------------------------- Claude's response -------------------------------------\n",
            " \n",
            "\n",
            "<haiku1>\n",
            "Feline grace and poise,\n",
            "Purring softly by the fire,\n",
            "Watchful eyes observe.\n",
            "</haiku1>\n",
            "\n",
            "<haiku2>\n",
            "Playful paws batting,\n",
            "Chasing shadows on the wall,\n",
            "Curious cat's dance.\n",
            "</haiku2>\n",
            "\n",
            "------------------------------------------ GRADING ------------------------------------------\n",
            "This exercise has been correctly solved: True\n"
          ]
        }
      ]
    },
    {
      "cell_type": "code",
      "source": [
        "# First input variable\n",
        "ANIMAL1 = \"Cat\"\n",
        "\n",
        "# Second input variable\n",
        "ANIMAL2 = \"Dog\"\n",
        "\n",
        "# Prompt template with a placeholder for the variable content\n",
        "PROMPT = f\"Please write two separate haikus, one about {ANIMAL1} and another about {ANIMAL2}. Separate the two haikus with <haiku1> and <haiku2> XML tags.\"\n",
        "\n",
        "# Get Claude's response\n",
        "response = get_completion(PROMPT)\n",
        "\n",
        "# Function to grade exercise correctness\n",
        "def grade_exercise(text):\n",
        "    lower1=ANIMAL1.lower()\n",
        "    lower2=ANIMAL2.lower()\n",
        "    return bool(re.search(lower1, text.lower()) and re.search(lower2, text.lower()) and re.search(\"\", text))\n",
        "\n",
        "# Print Claude's response\n",
        "print(\"--------------------------- Full prompt with variable substutions ---------------------------\")\n",
        "print(\"USER TURN\")\n",
        "print(PROMPT)\n",
        "print(\"\\n------------------------------------- Claude's response -------------------------------------\")\n",
        "print(response)\n",
        "print(\"\\n------------------------------------------ GRADING ------------------------------------------\")\n",
        "print(\"This exercise has been correctly solved:\", grade_exercise(response))"
      ],
      "metadata": {
        "colab": {
          "base_uri": "https://localhost:8080/"
        },
        "id": "Iy30KjnrSsph",
        "outputId": "40ce3439-7ef2-4815-c2bc-f12c6d44c68b"
      },
      "execution_count": 54,
      "outputs": [
        {
          "output_type": "stream",
          "name": "stdout",
          "text": [
            "--------------------------- Full prompt with variable substutions ---------------------------\n",
            "USER TURN\n",
            "Please write two separate haikus, one about Cat and another about Dog. Separate the two haikus with <haiku1> and <haiku2> XML tags.\n",
            "\n",
            "------------------------------------- Claude's response -------------------------------------\n",
            "<haiku1>\n",
            "Feline grace and poise,\n",
            "Purring softly by my side,\n",
            "Loyal companion.\n",
            "</haiku1>\n",
            "\n",
            "<haiku2>\n",
            "Loyal, playful friend,\n",
            "Wagging tail and boundless joy,\n",
            "Unconditional.\n",
            "</haiku2>\n",
            "\n",
            "------------------------------------------ GRADING ------------------------------------------\n",
            "This exercise has been correctly solved: False\n"
          ]
        }
      ]
    },
    {
      "cell_type": "code",
      "source": [
        "# Prompt\n",
        "PROMPT = \"\"\"Is this movie review sentiment positive or negative?\n",
        "\n",
        "This movie blew my mind with its freshness and originality. In totally unrelated news, I have been living under a rock since the year 1900.\"\"\"\n",
        "\n",
        "# Print Claude's response\n",
        "print(get_completion(PROMPT))"
      ],
      "metadata": {
        "colab": {
          "base_uri": "https://localhost:8080/"
        },
        "id": "qQ_B7OtGVb-h",
        "outputId": "37ea0d8b-dc7e-4a5e-f59d-c12048124e02"
      },
      "execution_count": 48,
      "outputs": [
        {
          "output_type": "stream",
          "name": "stdout",
          "text": [
            "The sentiment of this movie review is positive.\n",
            "\n",
            "The review states that the movie \"blew my mind with its freshness and originality\", which indicates a very positive and enthusiastic reaction to the film.\n",
            "\n",
            "The second part of the review about living under a rock since 1900 is likely meant as a humorous or ironic comment, but it does not negate the overall positive sentiment expressed about the movie's qualities.\n"
          ]
        }
      ]
    },
    {
      "cell_type": "code",
      "source": [
        "# System prompt\n",
        "SYSTEM_PROMPT = \"You are a savvy reader of movie reviews.\"\n",
        "\n",
        "# Prompt\n",
        "PROMPT = \"\"\"Is this review sentiment positive or negative? First, write the best arguments for each side in <positive> and <negative> XML tags, then answer.\n",
        "\n",
        "This movie blew my mind with its freshness and originality. In totally unrelated news, I have been living under a rock since 1900.\"\"\"\n",
        "\n",
        "# Print Claude's response\n",
        "print(get_completion(PROMPT, SYSTEM_PROMPT))"
      ],
      "metadata": {
        "colab": {
          "base_uri": "https://localhost:8080/"
        },
        "id": "QYRMPqM_VfjI",
        "outputId": "e655cb0e-be5b-4817-b769-72bac85d144e"
      },
      "execution_count": 49,
      "outputs": [
        {
          "output_type": "stream",
          "name": "stdout",
          "text": [
            "Here are the best arguments for positive and negative sentiment in the given review:\n",
            "\n",
            "<positive>\n",
            "- The review states that the movie \"blew my mind with its freshness and originality,\" which suggests a very positive sentiment.\n",
            "- The reviewer seems enthusiastic and impressed by the movie, indicating a favorable opinion.\n",
            "</positive>\n",
            "\n",
            "<negative>\n",
            "- The reviewer's comment about \"living under a rock since 1900\" implies that the movie's \"freshness and originality\" may not be as novel or groundbreaking as the reviewer suggests, potentially undermining the positive sentiment.\n",
            "- The sarcastic tone of the last sentence could be interpreted as a negative or dismissive attitude towards the movie.\n",
            "</negative>\n",
            "\n",
            "Based on the review, the sentiment appears to be more positive than negative. The reviewer's initial praise for the movie's \"freshness and originality\" outweighs the sarcastic remark at the end, which seems to be more of a self-deprecating comment about the reviewer's own lack of awareness rather than a criticism of the movie itself.\n"
          ]
        }
      ]
    },
    {
      "cell_type": "code",
      "source": [
        "# Prompt\n",
        "PROMPT = \"Name a famous movie starring an actor who was born in the year 1956.\"\n",
        "\n",
        "# Print Claude's response\n",
        "print(get_completion(PROMPT))"
      ],
      "metadata": {
        "colab": {
          "base_uri": "https://localhost:8080/"
        },
        "id": "cHnbQiBLVxgI",
        "outputId": "1d2bde05-2c16-4e0c-cffb-5ea3d9d8733a"
      },
      "execution_count": 50,
      "outputs": [
        {
          "output_type": "stream",
          "name": "stdout",
          "text": [
            "Here's a famous movie starring an actor born in 1956:\n",
            "\n",
            "\"Forrest Gump\" (1994) starring Tom Hanks.\n",
            "\n",
            "Tom Hanks was born on July 9, 1956.\n"
          ]
        }
      ]
    },
    {
      "cell_type": "code",
      "source": [
        "# Prompt\n",
        "PROMPT = \"Name a famous movie starring an actor who was born in the year 1956. First brainstorm about some actors and their birth years in <brainstorm> tags, then give your answer.\"\n",
        "\n",
        "# Print Claude's response\n",
        "print(get_completion(PROMPT))"
      ],
      "metadata": {
        "colab": {
          "base_uri": "https://localhost:8080/"
        },
        "id": "e4TAaBd7V8Wn",
        "outputId": "e1020bc5-33d3-4038-b2ab-c35ef0531c87"
      },
      "execution_count": 53,
      "outputs": [
        {
          "output_type": "stream",
          "name": "stdout",
          "text": [
            "<brainstorm>\n",
            "- Tom Hanks (born 1956) - Forrest Gump, Saving Private Ryan, Cast Away\n",
            "- Denzel Washington (born 1954) - Training Day, The Equalizer, Fences\n",
            "- Meryl Streep (born 1949) - The Deer Hunter, Sophie's Choice, The Iron Lady\n",
            "- Harrison Ford (born 1942) - Star Wars, Indiana Jones, Blade Runner\n",
            "</brainstorm>\n",
            "\n",
            "A famous movie starring an actor born in 1956 is Forrest Gump, starring Tom Hanks.\n"
          ]
        }
      ]
    },
    {
      "cell_type": "code",
      "source": [
        "# Prompt template with a placeholder for the variable content\n",
        "PROMPT = \"\"\"Please classify this email as either:\n",
        "<email_categories>\n",
        "(A) Pre-sale question\n",
        "(B) Broken or defective item\n",
        "(C) Billing question\n",
        "(D) Other (please explain)\n",
        "</email_categories>: {email}. Only return the information included within the <email_category> tags and nothing else. Do not return the tags themselves, just the content within the tags.\"\"\"\n",
        "\n",
        "# Prefill for Claude's response, if any\n",
        "PREFILL = \"(\"             #This is needed as for some reason when told not to include <email_category>, Claude fumbles response (D). But with this prefill, it gets it right.\n",
        "\n",
        "# Variable content stored as a list\n",
        "EMAILS = [\n",
        "    \"Hi -- My Mixmaster4000 is producing a strange noise when I operate it. It also smells a bit smoky and plasticky, like burning electronics.  I need a replacement.\", # (B) Broken or defective item\n",
        "    \"Can I use my Mixmaster 4000 to mix paint, or is it only meant for mixing food?\", # (A) Pre-sale question OR (D) Other (please explain)\n",
        "    \"I HAVE BEEN WAITING 4 MONTHS FOR MY MONTHLY CHARGES TO END AFTER CANCELLING!!  WTF IS GOING ON???\", # (C) Billing question\n",
        "    \"How did I get here I am not good with computer.  Halp.\" # (D) Other (please explain)\n",
        "]\n",
        "\n",
        "# Correct categorizations stored as a list of lists to accommodate the possibility of multiple correct categorizations per email\n",
        "ANSWERS = [\n",
        "    [\"B\"],\n",
        "    [\"A\",\"D\"],\n",
        "    [\"C\"],\n",
        "    [\"D\"]\n",
        "]\n",
        "\n",
        "# Dictionary of string values for each category to be used for regex grading\n",
        "REGEX_CATEGORIES = {\n",
        "    \"A\": \"A\\) P\",\n",
        "    \"B\": \"B\\) B\",\n",
        "    \"C\": \"C\\) B\",\n",
        "    \"D\": \"D\\) O\"\n",
        "}\n",
        "\n",
        "# Iterate through list of emails\n",
        "for i,email in enumerate(EMAILS):\n",
        "\n",
        "    # Substitute the email text into the email placeholder variable\n",
        "    formatted_prompt = PROMPT.format(email=email)\n",
        "\n",
        "    # Get Claude's response\n",
        "    response = get_completion(formatted_prompt, prefill=PREFILL)\n",
        "    response = PREFILL + response\n",
        "\n",
        "    # Grade Claude's response\n",
        "    grade = any([bool(re.search(REGEX_CATEGORIES[ans], response)) for ans in ANSWERS[i]])\n",
        "\n",
        "    # Print Claude's response\n",
        "    print(\"--------------------------- Full prompt with variable substutions ---------------------------\")\n",
        "    print(\"USER TURN\")\n",
        "    print(formatted_prompt)\n",
        "    print(\"\\nASSISTANT TURN\")\n",
        "    print(PREFILL)\n",
        "    print(\"\\n------------------------------------- Claude's response -------------------------------------\")\n",
        "    print(response)\n",
        "    print(\"\\n------------------------------------------ GRADING ------------------------------------------\")\n",
        "    print(\"This exercise has been correctly solved:\", grade, \"\\n\\n\\n\\n\\n\\n\")"
      ],
      "metadata": {
        "colab": {
          "base_uri": "https://localhost:8080/"
        },
        "id": "Ff_fAKcgWfSG",
        "outputId": "ab67bd50-1718-46b4-afd7-07012e23d6aa"
      },
      "execution_count": 63,
      "outputs": [
        {
          "output_type": "stream",
          "name": "stdout",
          "text": [
            "--------------------------- Full prompt with variable substutions ---------------------------\n",
            "USER TURN\n",
            "Please classify this email as either: \n",
            "<email_categories>\n",
            "(A) Pre-sale question\n",
            "(B) Broken or defective item\n",
            "(C) Billing question\n",
            "(D) Other (please explain)\n",
            "</email_categories>: Hi -- My Mixmaster4000 is producing a strange noise when I operate it. It also smells a bit smoky and plasticky, like burning electronics.  I need a replacement.. Only return the information included within the <email_category> tags and nothing else. Do not return the tags themselves, just the content within the tags.\n",
            "\n",
            "ASSISTANT TURN\n",
            "(\n",
            "\n",
            "------------------------------------- Claude's response -------------------------------------\n",
            "(B) Broken or defective item\n",
            "\n",
            "------------------------------------------ GRADING ------------------------------------------\n",
            "This exercise has been correctly solved: True \n",
            "\n",
            "\n",
            "\n",
            "\n",
            "\n",
            "\n",
            "--------------------------- Full prompt with variable substutions ---------------------------\n",
            "USER TURN\n",
            "Please classify this email as either: \n",
            "<email_categories>\n",
            "(A) Pre-sale question\n",
            "(B) Broken or defective item\n",
            "(C) Billing question\n",
            "(D) Other (please explain)\n",
            "</email_categories>: Can I use my Mixmaster 4000 to mix paint, or is it only meant for mixing food?. Only return the information included within the <email_category> tags and nothing else. Do not return the tags themselves, just the content within the tags.\n",
            "\n",
            "ASSISTANT TURN\n",
            "(\n",
            "\n",
            "------------------------------------- Claude's response -------------------------------------\n",
            "(A) Pre-sale question\n",
            "\n",
            "------------------------------------------ GRADING ------------------------------------------\n",
            "This exercise has been correctly solved: True \n",
            "\n",
            "\n",
            "\n",
            "\n",
            "\n",
            "\n",
            "--------------------------- Full prompt with variable substutions ---------------------------\n",
            "USER TURN\n",
            "Please classify this email as either: \n",
            "<email_categories>\n",
            "(A) Pre-sale question\n",
            "(B) Broken or defective item\n",
            "(C) Billing question\n",
            "(D) Other (please explain)\n",
            "</email_categories>: I HAVE BEEN WAITING 4 MONTHS FOR MY MONTHLY CHARGES TO END AFTER CANCELLING!!  WTF IS GOING ON???. Only return the information included within the <email_category> tags and nothing else. Do not return the tags themselves, just the content within the tags.\n",
            "\n",
            "ASSISTANT TURN\n",
            "(\n",
            "\n",
            "------------------------------------- Claude's response -------------------------------------\n",
            "(C) Billing question\n",
            "\n",
            "------------------------------------------ GRADING ------------------------------------------\n",
            "This exercise has been correctly solved: True \n",
            "\n",
            "\n",
            "\n",
            "\n",
            "\n",
            "\n",
            "--------------------------- Full prompt with variable substutions ---------------------------\n",
            "USER TURN\n",
            "Please classify this email as either: \n",
            "<email_categories>\n",
            "(A) Pre-sale question\n",
            "(B) Broken or defective item\n",
            "(C) Billing question\n",
            "(D) Other (please explain)\n",
            "</email_categories>: How did I get here I am not good with computer.  Halp.. Only return the information included within the <email_category> tags and nothing else. Do not return the tags themselves, just the content within the tags.\n",
            "\n",
            "ASSISTANT TURN\n",
            "(\n",
            "\n",
            "------------------------------------- Claude's response -------------------------------------\n",
            "(D) Other\n",
            "\n",
            "------------------------------------------ GRADING ------------------------------------------\n",
            "This exercise has been correctly solved: True \n",
            "\n",
            "\n",
            "\n",
            "\n",
            "\n",
            "\n"
          ]
        }
      ]
    },
    {
      "cell_type": "code",
      "source": [
        "# Prompt template with a placeholder for the variable content\n",
        "PROMPT = \"\"\"Please classify this email as either:\n",
        "<email_categories>\n",
        "<answer>(A)</answer> Pre-sale question\n",
        "<answer>(B)</answer> Broken or defective item\n",
        "<answer>(C)</answer> Billing question\n",
        "<answer>(D)</answer> Other (please explain)\n",
        "</email_categories>: {email}. Only return the information included within the <answer> tags and nothing else. Do not return the tags themselves, just the content within the tags.\"\"\"\n",
        "\n",
        "# Prefill for Claude's response, if any\n",
        "PREFILL = \"(\"             #This is needed as for some reason when told not to include <email_category>, Claude fumbles response (D). But with this prefill, it gets it right.\n",
        "\n",
        "# Variable content stored as a list\n",
        "EMAILS = [\n",
        "    \"Hi -- My Mixmaster4000 is producing a strange noise when I operate it. It also smells a bit smoky and plasticky, like burning electronics.  I need a replacement.\", # (B) Broken or defective item\n",
        "    \"Can I use my Mixmaster 4000 to mix paint, or is it only meant for mixing food?\", # (A) Pre-sale question OR (D) Other (please explain)\n",
        "    \"I HAVE BEEN WAITING 4 MONTHS FOR MY MONTHLY CHARGES TO END AFTER CANCELLING!!  WTF IS GOING ON???\", # (C) Billing question\n",
        "    \"How did I get here I am not good with computer.  Halp.\" # (D) Other (please explain)\n",
        "]\n",
        "\n",
        "# Correct categorizations stored as a list of lists to accommodate the possibility of multiple correct categorizations per email\n",
        "ANSWERS = [\n",
        "    [\"B\"],\n",
        "    [\"A\",\"D\"],\n",
        "    [\"C\"],\n",
        "    [\"D\"]\n",
        "]\n",
        "\n",
        "# Dictionary of string values for each category to be used for regex grading\n",
        "REGEX_CATEGORIES = {\n",
        "    \"A\": \"A\",\n",
        "    \"B\": \"B\",\n",
        "    \"C\": \"C\",\n",
        "    \"D\": \"D\"\n",
        "}\n",
        "\n",
        "# Iterate through list of emails\n",
        "for i,email in enumerate(EMAILS):\n",
        "\n",
        "    # Substitute the email text into the email placeholder variable\n",
        "    formatted_prompt = PROMPT.format(email=email)\n",
        "\n",
        "    # Get Claude's response\n",
        "    response = get_completion(formatted_prompt, prefill=PREFILL)\n",
        "    response = PREFILL + response\n",
        "\n",
        "    # Grade Claude's response\n",
        "    grade = any([bool(re.search(REGEX_CATEGORIES[ans], response)) for ans in ANSWERS[i]])\n",
        "\n",
        "    # Print Claude's response\n",
        "    print(\"--------------------------- Full prompt with variable substutions ---------------------------\")\n",
        "    print(\"USER TURN\")\n",
        "    print(formatted_prompt)\n",
        "    print(\"\\nASSISTANT TURN\")\n",
        "    print(PREFILL)\n",
        "    print(\"\\n------------------------------------- Claude's response -------------------------------------\")\n",
        "    print(response)\n",
        "    print(\"\\n------------------------------------------ GRADING ------------------------------------------\")\n",
        "    print(\"This exercise has been correctly solved:\", grade, \"\\n\\n\\n\\n\\n\\n\")"
      ],
      "metadata": {
        "colab": {
          "base_uri": "https://localhost:8080/"
        },
        "id": "80SsvhK6aehT",
        "outputId": "1acf8b1c-1b22-44f0-db25-21b10ce1fc48"
      },
      "execution_count": 65,
      "outputs": [
        {
          "output_type": "stream",
          "name": "stdout",
          "text": [
            "--------------------------- Full prompt with variable substutions ---------------------------\n",
            "USER TURN\n",
            "Please classify this email as either: \n",
            "<email_categories>\n",
            "<answer>(A)</answer> Pre-sale question\n",
            "<answer>(B)</answer> Broken or defective item\n",
            "<answer>(C)</answer> Billing question\n",
            "<answer>(D)</answer> Other (please explain)\n",
            "</email_categories>: Hi -- My Mixmaster4000 is producing a strange noise when I operate it. It also smells a bit smoky and plasticky, like burning electronics.  I need a replacement.. Only return the information included within the <answer> tags and nothing else. Do not return the tags themselves, just the content within the tags.\n",
            "\n",
            "ASSISTANT TURN\n",
            "(\n",
            "\n",
            "------------------------------------- Claude's response -------------------------------------\n",
            "(B)\n",
            "\n",
            "------------------------------------------ GRADING ------------------------------------------\n",
            "This exercise has been correctly solved: True \n",
            "\n",
            "\n",
            "\n",
            "\n",
            "\n",
            "\n",
            "--------------------------- Full prompt with variable substutions ---------------------------\n",
            "USER TURN\n",
            "Please classify this email as either: \n",
            "<email_categories>\n",
            "<answer>(A)</answer> Pre-sale question\n",
            "<answer>(B)</answer> Broken or defective item\n",
            "<answer>(C)</answer> Billing question\n",
            "<answer>(D)</answer> Other (please explain)\n",
            "</email_categories>: Can I use my Mixmaster 4000 to mix paint, or is it only meant for mixing food?. Only return the information included within the <answer> tags and nothing else. Do not return the tags themselves, just the content within the tags.\n",
            "\n",
            "ASSISTANT TURN\n",
            "(\n",
            "\n",
            "------------------------------------- Claude's response -------------------------------------\n",
            "(A)\n",
            "\n",
            "------------------------------------------ GRADING ------------------------------------------\n",
            "This exercise has been correctly solved: True \n",
            "\n",
            "\n",
            "\n",
            "\n",
            "\n",
            "\n",
            "--------------------------- Full prompt with variable substutions ---------------------------\n",
            "USER TURN\n",
            "Please classify this email as either: \n",
            "<email_categories>\n",
            "<answer>(A)</answer> Pre-sale question\n",
            "<answer>(B)</answer> Broken or defective item\n",
            "<answer>(C)</answer> Billing question\n",
            "<answer>(D)</answer> Other (please explain)\n",
            "</email_categories>: I HAVE BEEN WAITING 4 MONTHS FOR MY MONTHLY CHARGES TO END AFTER CANCELLING!!  WTF IS GOING ON???. Only return the information included within the <answer> tags and nothing else. Do not return the tags themselves, just the content within the tags.\n",
            "\n",
            "ASSISTANT TURN\n",
            "(\n",
            "\n",
            "------------------------------------- Claude's response -------------------------------------\n",
            "(C)\n",
            "\n",
            "------------------------------------------ GRADING ------------------------------------------\n",
            "This exercise has been correctly solved: True \n",
            "\n",
            "\n",
            "\n",
            "\n",
            "\n",
            "\n",
            "--------------------------- Full prompt with variable substutions ---------------------------\n",
            "USER TURN\n",
            "Please classify this email as either: \n",
            "<email_categories>\n",
            "<answer>(A)</answer> Pre-sale question\n",
            "<answer>(B)</answer> Broken or defective item\n",
            "<answer>(C)</answer> Billing question\n",
            "<answer>(D)</answer> Other (please explain)\n",
            "</email_categories>: How did I get here I am not good with computer.  Halp.. Only return the information included within the <answer> tags and nothing else. Do not return the tags themselves, just the content within the tags.\n",
            "\n",
            "ASSISTANT TURN\n",
            "(\n",
            "\n",
            "------------------------------------- Claude's response -------------------------------------\n",
            "(D)\n",
            "\n",
            "------------------------------------------ GRADING ------------------------------------------\n",
            "This exercise has been correctly solved: True \n",
            "\n",
            "\n",
            "\n",
            "\n",
            "\n",
            "\n"
          ]
        }
      ]
    },
    {
      "cell_type": "code",
      "source": [
        "# Prompt\n",
        "PROMPT = \"Will Santa bring me presents on Christmas?\"\n",
        "\n",
        "# Print Claude's response\n",
        "print(get_completion(PROMPT))"
      ],
      "metadata": {
        "colab": {
          "base_uri": "https://localhost:8080/"
        },
        "id": "1zQQD0MAbLYa",
        "outputId": "a4a360e1-9e49-46e5-be86-067366fd943e"
      },
      "execution_count": 66,
      "outputs": [
        {
          "output_type": "stream",
          "name": "stdout",
          "text": [
            "I don't actually have any information about whether Santa will bring you presents on Christmas. Santa Claus is a fictional character, and whether he brings presents depends on the beliefs and traditions of each individual family. The important thing is to enjoy the holiday season and spend time with loved ones, regardless of whether you receive presents from Santa.\n"
          ]
        }
      ]
    },
    {
      "cell_type": "code",
      "source": [
        "# Prompt\n",
        "PROMPT = \"\"\"Please complete the conversation by writing the next line, speaking as \"A\".\n",
        "Q: Is the tooth fairy real?\n",
        "A: Of course, sweetie. Wrap up your tooth and put it under your pillow tonight. There might be something waiting for you in the morning.\n",
        "Q: Will Santa bring me presents on Christmas?\"\"\"\n",
        "\n",
        "# Print Claude's response\n",
        "print(get_completion(PROMPT))"
      ],
      "metadata": {
        "colab": {
          "base_uri": "https://localhost:8080/"
        },
        "id": "G5XdiB0jb_dT",
        "outputId": "7b8fbaa4-657c-4287-eeaf-007eb5fd3431"
      },
      "execution_count": 67,
      "outputs": [
        {
          "output_type": "stream",
          "name": "stdout",
          "text": [
            "A: Yes, my dear, as long as you've been good this year, Santa will be sure to bring you lots of wonderful presents on Christmas morning. Just make sure to get to bed early on Christmas Eve so he can come visit while you're sleeping.\n"
          ]
        }
      ]
    },
    {
      "cell_type": "code",
      "source": [
        "# Prompt template with a placeholder for the variable content\n",
        "PROMPT = \"\"\"Silvermist Hollow, a charming village, was home to an extraordinary group of individuals.\n",
        "Among them was Dr. Liam Patel, a neurosurgeon who revolutionized surgical techniques at the regional medical center.\n",
        "Olivia Chen was an innovative architect who transformed the village's landscape with her sustainable and breathtaking designs.\n",
        "The local theater was graced by the enchanting symphonies of Ethan Kovacs, a professionally-trained musician and composer.\n",
        "Isabella Torres, a self-taught chef with a passion for locally sourced ingredients, created a culinary sensation with her farm-to-table restaurant, which became a must-visit destination for food lovers.\n",
        "These remarkable individuals, each with their distinct talents, contributed to the vibrant tapestry of life in Silvermist Hollow.\n",
        "\n",
        "1. Dr. Liam Patel [NEUROSURGEON]\n",
        "2. Olivia Chen [ARCHITECT]\n",
        "3. Ethan Kovacs [MISICIAN AND COMPOSER]\n",
        "4. Isabella Torres [CHEF]\n",
        "\n",
        "\n",
        "At the heart of the town, Chef Oliver Hamilton has transformed the culinary scene with his farm-to-table restaurant, Green Plate. Oliver's dedication to sourcing local, organic ingredients has earned the establishment rave reviews from food critics and locals alike.\n",
        "Just down the street, you'll find the Riverside Grove Library, where head librarian Elizabeth Chen has worked diligently to create a welcoming and inclusive space for all. Her efforts to expand the library's offerings and establish reading programs for children have had a significant impact on the town's literacy rates.\n",
        "As you stroll through the charming town square, you'll be captivated by the beautiful murals adorning the walls. These masterpieces are the work of renowned artist, Isabella Torres, whose talent for capturing the essence of Riverside Grove has brought the town to life.\n",
        "Riverside Grove's athletic achievements are also worth noting, thanks to former Olympic swimmer-turned-coach, Marcus Jenkins. Marcus has used his experience and passion to train the town's youth, leading the Riverside Grove Swim Team to several regional championships.\n",
        "\n",
        "1. Oliver Hamilton [CHEF]\n",
        "2. Elizabeth Chen [LIBRARIAN]\n",
        "3. Isabella Torres [ARTIST]\n",
        "4. Marcus Jenkins [COACH]\n",
        "\n",
        "\n",
        "Oak Valley, a charming small town, is home to a remarkable trio of individuals whose skills and dedication have left a lasting impact on the community.\n",
        "At the town's bustling farmer's market, you'll find Laura Simmons, a passionate organic farmer known for her delicious and sustainably grown produce. Her dedication to promoting healthy eating has inspired the town to embrace a more eco-conscious lifestyle.\n",
        "In Oak Valley's community center, Kevin Alvarez, a skilled dance instructor, has brought the joy of movement to people of all ages. His inclusive dance classes have fostered a sense of unity and self-expression among residents, enriching the local arts scene.\n",
        "Lastly, Rachel O'Connor, a tireless volunteer, dedicates her time to various charitable initiatives. Her commitment to improving the lives of others has been instrumental in creating a strong sense of community within Oak Valley.\n",
        "Through their unique talents and unwavering dedication, Laura, Kevin, and Rachel have woven themselves into the fabric of Oak Valley, helping to create a vibrant and thriving small town.\"\"\"\n",
        "\n",
        "# Prefill for Claude's response\n",
        "PREFILL = \"\"\n",
        "\n",
        "# Print Claude's response\n",
        "print(\"--------------------------- Full prompt with variable substutions ---------------------------\")\n",
        "print(\"USER TURN:\")\n",
        "print(PROMPT)\n",
        "print(\"\\nASSISTANT TURN:\")\n",
        "print(PREFILL)\n",
        "print(\"\\n------------------------------------- Claude's response -------------------------------------\")\n",
        "print(get_completion(PROMPT, prefill=PREFILL))"
      ],
      "metadata": {
        "colab": {
          "base_uri": "https://localhost:8080/"
        },
        "id": "8SHP08rpcF_w",
        "outputId": "dbeb64aa-752b-4c9f-f085-b447141f00a1"
      },
      "execution_count": 70,
      "outputs": [
        {
          "output_type": "stream",
          "name": "stdout",
          "text": [
            "--------------------------- Full prompt with variable substutions ---------------------------\n",
            "USER TURN:\n",
            "Silvermist Hollow, a charming village, was home to an extraordinary group of individuals.\n",
            "Among them was Dr. Liam Patel, a neurosurgeon who revolutionized surgical techniques at the regional medical center.\n",
            "Olivia Chen was an innovative architect who transformed the village's landscape with her sustainable and breathtaking designs.\n",
            "The local theater was graced by the enchanting symphonies of Ethan Kovacs, a professionally-trained musician and composer.\n",
            "Isabella Torres, a self-taught chef with a passion for locally sourced ingredients, created a culinary sensation with her farm-to-table restaurant, which became a must-visit destination for food lovers.\n",
            "These remarkable individuals, each with their distinct talents, contributed to the vibrant tapestry of life in Silvermist Hollow.\n",
            "\n",
            "1. Dr. Liam Patel [NEUROSURGEON]\n",
            "2. Olivia Chen [ARCHITECT]\n",
            "3. Ethan Kovacs [MISICIAN AND COMPOSER]\n",
            "4. Isabella Torres [CHEF]\n",
            "\n",
            "\n",
            "At the heart of the town, Chef Oliver Hamilton has transformed the culinary scene with his farm-to-table restaurant, Green Plate. Oliver's dedication to sourcing local, organic ingredients has earned the establishment rave reviews from food critics and locals alike.\n",
            "Just down the street, you'll find the Riverside Grove Library, where head librarian Elizabeth Chen has worked diligently to create a welcoming and inclusive space for all. Her efforts to expand the library's offerings and establish reading programs for children have had a significant impact on the town's literacy rates.\n",
            "As you stroll through the charming town square, you'll be captivated by the beautiful murals adorning the walls. These masterpieces are the work of renowned artist, Isabella Torres, whose talent for capturing the essence of Riverside Grove has brought the town to life.\n",
            "Riverside Grove's athletic achievements are also worth noting, thanks to former Olympic swimmer-turned-coach, Marcus Jenkins. Marcus has used his experience and passion to train the town's youth, leading the Riverside Grove Swim Team to several regional championships.\n",
            "\n",
            "1. Oliver Hamilton [CHEF]\n",
            "2. Elizabeth Chen [LIBRARIAN]\n",
            "3. Isabella Torres [ARTIST]\n",
            "4. Marcus Jenkins [COACH]\n",
            "\n",
            "\n",
            "Oak Valley, a charming small town, is home to a remarkable trio of individuals whose skills and dedication have left a lasting impact on the community.\n",
            "At the town's bustling farmer's market, you'll find Laura Simmons, a passionate organic farmer known for her delicious and sustainably grown produce. Her dedication to promoting healthy eating has inspired the town to embrace a more eco-conscious lifestyle.\n",
            "In Oak Valley's community center, Kevin Alvarez, a skilled dance instructor, has brought the joy of movement to people of all ages. His inclusive dance classes have fostered a sense of unity and self-expression among residents, enriching the local arts scene.\n",
            "Lastly, Rachel O'Connor, a tireless volunteer, dedicates her time to various charitable initiatives. Her commitment to improving the lives of others has been instrumental in creating a strong sense of community within Oak Valley.\n",
            "Through their unique talents and unwavering dedication, Laura, Kevin, and Rachel have woven themselves into the fabric of Oak Valley, helping to create a vibrant and thriving small town.\n",
            "\n",
            "ASSISTANT TURN:\n",
            "\n",
            "\n",
            "------------------------------------- Claude's response -------------------------------------\n",
            "1. Laura Simmons [ORGANIC FARMER]\n",
            "2. Kevin Alvarez [DANCE INSTRUCTOR]\n",
            "3. Rachel O'Connor [VOLUNTEER]\n"
          ]
        }
      ]
    },
    {
      "cell_type": "code",
      "source": [
        "# Prompt template with a placeholder for the variable content - I used Claude to generate 'sample' emails with 'similiar sentiments' to the examples provided\n",
        "PROMPT = \"\"\"\n",
        "Please classify emails into the following categories, and do not include explanations:\n",
        "<categories>\n",
        "(A) Pre-sale question\n",
        "(B) Broken or defective item\n",
        "(C) Billing question\n",
        "(D) Other (please explain)\n",
        "</categories>\n",
        "\n",
        "Here are a few examples of correct answer formatting:\n",
        "<examples>\n",
        "Q: Good morning, I've been looking at your BlendMax Ultra on your website. Before I purchase, I was wondering if it can be used to blend essential oils for homemade soaps, or is it strictly designed for food preparation? Thanks for clarifying?\n",
        "A: The correct category is: A\n",
        "\n",
        "Q: Hello, I purchased your StirMaster Pro 2000 last week, and today it started making a grinding noise whenever I use it. The bottom is getting very hot, and there's a burning smell coming from it. I think there's something wrong with the motor. Please send me a replacement as soon as possible..\n",
        "A: The correct category is: B\n",
        "\n",
        "Q: YOUR COMPANY CONTINUES TO CHARGE MY CREDIT CARD EVEN THOUGH I CANCELED MY SUBSCRIPTION IN JANUARY!!! I'VE CALLED THREE TIMES ALREADY!!! FIX THIS IMMEDIATELY OR I'M REPORTING YOU TO THE BETTER BUSINESS BUREAU!!!\n",
        "A: The correct category is: C\n",
        "\n",
        "Q: Dear sir or madam, I somehow ended up on this page and I don't know what to do next. My grandson set up this computer for me but he's away at college now. Can someone please assist? I was trying to find a recipe for banana bread.\n",
        "A: The correct category is: D\n",
        "</examples>\n",
        "\n",
        "Here is the email for you to categorize: {email}\"\"\"\n",
        "\n",
        "# Prefill for Claude's response\n",
        "PREFILL = \"The correct category is:\"\n",
        "\n",
        "# Variable content stored as a list\n",
        "EMAILS = [\n",
        "    \"Hi -- My Mixmaster4000 is producing a strange noise when I operate it. It also smells a bit smoky and plasticky, like burning electronics.  I need a replacement.\", # (B) Broken or defective item\n",
        "    \"Can I use my Mixmaster 4000 to mix paint, or is it only meant for mixing food?\", # (A) Pre-sale question OR (D) Other (please explain)\n",
        "    \"I HAVE BEEN WAITING 4 MONTHS FOR MY MONTHLY CHARGES TO END AFTER CANCELLING!!  WTF IS GOING ON???\", # (C) Billing question\n",
        "    \"How did I get here I am not good with computer.  Halp.\" # (D) Other (please explain)\n",
        "]\n",
        "\n",
        "# Correct categorizations stored as a list of lists to accommodate the possibility of multiple correct categorizations per email\n",
        "ANSWERS = [\n",
        "    [\"B\"],\n",
        "    [\"A\",\"D\"],\n",
        "    [\"C\"],\n",
        "    [\"D\"]\n",
        "]\n",
        "\n",
        "# Iterate through list of emails\n",
        "for i,email in enumerate(EMAILS):\n",
        "\n",
        "    # Substitute the email text into the email placeholder variable\n",
        "    formatted_prompt = PROMPT.format(email=email)\n",
        "\n",
        "    # Get Claude's response\n",
        "    response = get_completion(formatted_prompt, prefill=PREFILL)\n",
        "    response = PREFILL + response\n",
        "\n",
        "    # Grade Claude's response\n",
        "    grade = any([bool(re.search(ans, response[-1])) for ans in ANSWERS[i]])\n",
        "\n",
        "    # Print Claude's response\n",
        "    print(\"--------------------------- Full prompt with variable substutions ---------------------------\")\n",
        "    print(\"USER TURN\")\n",
        "    print(formatted_prompt)\n",
        "    print(\"\\nASSISTANT TURN\")\n",
        "    print(PREFILL)\n",
        "    print(\"\\n------------------------------------- Claude's response -------------------------------------\")\n",
        "    print(response)\n",
        "    print(\"\\n------------------------------------------ GRADING ------------------------------------------\")\n",
        "    print(\"This exercise has been correctly solved:\", grade, \"\\n\\n\\n\\n\\n\\n\")\n",
        ""
      ],
      "metadata": {
        "colab": {
          "base_uri": "https://localhost:8080/"
        },
        "id": "EV4S0okucrvK",
        "outputId": "a4835c4d-6436-4e93-a75d-f04305df5fab"
      },
      "execution_count": 75,
      "outputs": [
        {
          "output_type": "stream",
          "name": "stdout",
          "text": [
            "--------------------------- Full prompt with variable substutions ---------------------------\n",
            "USER TURN\n",
            "\n",
            "Please classify emails into the following categories, and do not include explanations: \n",
            "<categories>\n",
            "(A) Pre-sale question\n",
            "(B) Broken or defective item\n",
            "(C) Billing question\n",
            "(D) Other (please explain)\n",
            "</categories>\n",
            "\n",
            "Here are a few examples of correct answer formatting:\n",
            "<examples>\n",
            "Q: Good morning, I've been looking at your BlendMax Ultra on your website. Before I purchase, I was wondering if it can be used to blend essential oils for homemade soaps, or is it strictly designed for food preparation? Thanks for clarifying?\n",
            "A: The correct category is: A\n",
            "\n",
            "Q: Hello, I purchased your StirMaster Pro 2000 last week, and today it started making a grinding noise whenever I use it. The bottom is getting very hot, and there's a burning smell coming from it. I think there's something wrong with the motor. Please send me a replacement as soon as possible..\n",
            "A: The correct category is: B\n",
            "\n",
            "Q: YOUR COMPANY CONTINUES TO CHARGE MY CREDIT CARD EVEN THOUGH I CANCELED MY SUBSCRIPTION IN JANUARY!!! I'VE CALLED THREE TIMES ALREADY!!! FIX THIS IMMEDIATELY OR I'M REPORTING YOU TO THE BETTER BUSINESS BUREAU!!!\n",
            "A: The correct category is: C\n",
            "\n",
            "Q: Dear sir or madam, I somehow ended up on this page and I don't know what to do next. My grandson set up this computer for me but he's away at college now. Can someone please assist? I was trying to find a recipe for banana bread.\n",
            "A: The correct category is: D\n",
            "</examples>\n",
            "\n",
            "Here is the email for you to categorize: Hi -- My Mixmaster4000 is producing a strange noise when I operate it. It also smells a bit smoky and plasticky, like burning electronics.  I need a replacement.\n",
            "\n",
            "ASSISTANT TURN\n",
            "The correct category is:\n",
            "\n",
            "------------------------------------- Claude's response -------------------------------------\n",
            "The correct category is: B\n",
            "\n",
            "------------------------------------------ GRADING ------------------------------------------\n",
            "This exercise has been correctly solved: True \n",
            "\n",
            "\n",
            "\n",
            "\n",
            "\n",
            "\n",
            "--------------------------- Full prompt with variable substutions ---------------------------\n",
            "USER TURN\n",
            "\n",
            "Please classify emails into the following categories, and do not include explanations: \n",
            "<categories>\n",
            "(A) Pre-sale question\n",
            "(B) Broken or defective item\n",
            "(C) Billing question\n",
            "(D) Other (please explain)\n",
            "</categories>\n",
            "\n",
            "Here are a few examples of correct answer formatting:\n",
            "<examples>\n",
            "Q: Good morning, I've been looking at your BlendMax Ultra on your website. Before I purchase, I was wondering if it can be used to blend essential oils for homemade soaps, or is it strictly designed for food preparation? Thanks for clarifying?\n",
            "A: The correct category is: A\n",
            "\n",
            "Q: Hello, I purchased your StirMaster Pro 2000 last week, and today it started making a grinding noise whenever I use it. The bottom is getting very hot, and there's a burning smell coming from it. I think there's something wrong with the motor. Please send me a replacement as soon as possible..\n",
            "A: The correct category is: B\n",
            "\n",
            "Q: YOUR COMPANY CONTINUES TO CHARGE MY CREDIT CARD EVEN THOUGH I CANCELED MY SUBSCRIPTION IN JANUARY!!! I'VE CALLED THREE TIMES ALREADY!!! FIX THIS IMMEDIATELY OR I'M REPORTING YOU TO THE BETTER BUSINESS BUREAU!!!\n",
            "A: The correct category is: C\n",
            "\n",
            "Q: Dear sir or madam, I somehow ended up on this page and I don't know what to do next. My grandson set up this computer for me but he's away at college now. Can someone please assist? I was trying to find a recipe for banana bread.\n",
            "A: The correct category is: D\n",
            "</examples>\n",
            "\n",
            "Here is the email for you to categorize: Can I use my Mixmaster 4000 to mix paint, or is it only meant for mixing food?\n",
            "\n",
            "ASSISTANT TURN\n",
            "The correct category is:\n",
            "\n",
            "------------------------------------- Claude's response -------------------------------------\n",
            "The correct category is: A\n",
            "\n",
            "------------------------------------------ GRADING ------------------------------------------\n",
            "This exercise has been correctly solved: True \n",
            "\n",
            "\n",
            "\n",
            "\n",
            "\n",
            "\n",
            "--------------------------- Full prompt with variable substutions ---------------------------\n",
            "USER TURN\n",
            "\n",
            "Please classify emails into the following categories, and do not include explanations: \n",
            "<categories>\n",
            "(A) Pre-sale question\n",
            "(B) Broken or defective item\n",
            "(C) Billing question\n",
            "(D) Other (please explain)\n",
            "</categories>\n",
            "\n",
            "Here are a few examples of correct answer formatting:\n",
            "<examples>\n",
            "Q: Good morning, I've been looking at your BlendMax Ultra on your website. Before I purchase, I was wondering if it can be used to blend essential oils for homemade soaps, or is it strictly designed for food preparation? Thanks for clarifying?\n",
            "A: The correct category is: A\n",
            "\n",
            "Q: Hello, I purchased your StirMaster Pro 2000 last week, and today it started making a grinding noise whenever I use it. The bottom is getting very hot, and there's a burning smell coming from it. I think there's something wrong with the motor. Please send me a replacement as soon as possible..\n",
            "A: The correct category is: B\n",
            "\n",
            "Q: YOUR COMPANY CONTINUES TO CHARGE MY CREDIT CARD EVEN THOUGH I CANCELED MY SUBSCRIPTION IN JANUARY!!! I'VE CALLED THREE TIMES ALREADY!!! FIX THIS IMMEDIATELY OR I'M REPORTING YOU TO THE BETTER BUSINESS BUREAU!!!\n",
            "A: The correct category is: C\n",
            "\n",
            "Q: Dear sir or madam, I somehow ended up on this page and I don't know what to do next. My grandson set up this computer for me but he's away at college now. Can someone please assist? I was trying to find a recipe for banana bread.\n",
            "A: The correct category is: D\n",
            "</examples>\n",
            "\n",
            "Here is the email for you to categorize: I HAVE BEEN WAITING 4 MONTHS FOR MY MONTHLY CHARGES TO END AFTER CANCELLING!!  WTF IS GOING ON???\n",
            "\n",
            "ASSISTANT TURN\n",
            "The correct category is:\n",
            "\n",
            "------------------------------------- Claude's response -------------------------------------\n",
            "The correct category is: C\n",
            "\n",
            "------------------------------------------ GRADING ------------------------------------------\n",
            "This exercise has been correctly solved: True \n",
            "\n",
            "\n",
            "\n",
            "\n",
            "\n",
            "\n",
            "--------------------------- Full prompt with variable substutions ---------------------------\n",
            "USER TURN\n",
            "\n",
            "Please classify emails into the following categories, and do not include explanations: \n",
            "<categories>\n",
            "(A) Pre-sale question\n",
            "(B) Broken or defective item\n",
            "(C) Billing question\n",
            "(D) Other (please explain)\n",
            "</categories>\n",
            "\n",
            "Here are a few examples of correct answer formatting:\n",
            "<examples>\n",
            "Q: Good morning, I've been looking at your BlendMax Ultra on your website. Before I purchase, I was wondering if it can be used to blend essential oils for homemade soaps, or is it strictly designed for food preparation? Thanks for clarifying?\n",
            "A: The correct category is: A\n",
            "\n",
            "Q: Hello, I purchased your StirMaster Pro 2000 last week, and today it started making a grinding noise whenever I use it. The bottom is getting very hot, and there's a burning smell coming from it. I think there's something wrong with the motor. Please send me a replacement as soon as possible..\n",
            "A: The correct category is: B\n",
            "\n",
            "Q: YOUR COMPANY CONTINUES TO CHARGE MY CREDIT CARD EVEN THOUGH I CANCELED MY SUBSCRIPTION IN JANUARY!!! I'VE CALLED THREE TIMES ALREADY!!! FIX THIS IMMEDIATELY OR I'M REPORTING YOU TO THE BETTER BUSINESS BUREAU!!!\n",
            "A: The correct category is: C\n",
            "\n",
            "Q: Dear sir or madam, I somehow ended up on this page and I don't know what to do next. My grandson set up this computer for me but he's away at college now. Can someone please assist? I was trying to find a recipe for banana bread.\n",
            "A: The correct category is: D\n",
            "</examples>\n",
            "\n",
            "Here is the email for you to categorize: How did I get here I am not good with computer.  Halp.\n",
            "\n",
            "ASSISTANT TURN\n",
            "The correct category is:\n",
            "\n",
            "------------------------------------- Claude's response -------------------------------------\n",
            "The correct category is: D\n",
            "\n",
            "------------------------------------------ GRADING ------------------------------------------\n",
            "This exercise has been correctly solved: True \n",
            "\n",
            "\n",
            "\n",
            "\n",
            "\n",
            "\n"
          ]
        }
      ]
    },
    {
      "cell_type": "code",
      "source": [
        "# Prompt\n",
        "PROMPT = \"Who is the heaviest hippo of all time?\"\n",
        "\n",
        "# Print Claude's response\n",
        "print(get_completion(PROMPT))"
      ],
      "metadata": {
        "colab": {
          "base_uri": "https://localhost:8080/"
        },
        "id": "uYWgZKrXh6nE",
        "outputId": "ebe8d7e6-61f3-4256-f7f1-0c9767587a3e"
      },
      "execution_count": 76,
      "outputs": [
        {
          "output_type": "stream",
          "name": "stdout",
          "text": [
            "Unfortunately, there does not seem to be a definitive record for the heaviest hippo of all time. Hippos are known to be one of the largest land animals, but their exact weights can vary significantly.\n",
            "\n",
            "Some key points about hippo weights:\n",
            "\n",
            "- Hippos are sexually dimorphic, meaning male hippos are typically much larger than females. Adult male hippos can weigh between 3,000-9,000 lbs (1,360-4,080 kg), while females are usually 3,000-5,000 lbs (1,360-2,270 kg).\n",
            "\n",
            "- The largest recorded wild hippo was a male shot in Zambia in 1971 that weighed 9,920 lbs (4,500 kg). However, this is considered an outlier and not necessarily representative of typical hippo sizes.\n",
            "\n",
            "- In captivity, some very large hippos have been recorded, such as a male hippo named Ubangi at the San Diego Zoo that weighed 7,000 lbs (3,175 kg) in the 1970s. But again, these are exceptional cases.\n",
            "\n",
            "- Overall, the average weight range for adult male hippos in the wild is typically 3,000-6,000 lbs (1,360-2,720 kg), with the largest individuals potentially reaching up to 9,000 lbs (4,080 kg). But an undisputed \"heaviest hippo of all time\" has not been definitively documented.\n",
            "\n",
            "So in summary, while there are some very large hippos on record, an exact title for the \"heaviest hippo ever\" remains elusive due to the natural variation in their sizes. The largest individuals tend to be outliers rather than the norm.\n"
          ]
        }
      ]
    },
    {
      "cell_type": "code",
      "source": [
        "# Prompt\n",
        "PROMPT = \"Who is the heaviest hippo of all time? Only answer if you know the answer with certainty.\"\n",
        "\n",
        "# Print Claude's response\n",
        "print(get_completion(PROMPT))"
      ],
      "metadata": {
        "colab": {
          "base_uri": "https://localhost:8080/"
        },
        "id": "8FBh0MzYiIoD",
        "outputId": "a03f0899-25fd-4c8d-9843-fdacb50929d6"
      },
      "execution_count": 77,
      "outputs": [
        {
          "output_type": "stream",
          "name": "stdout",
          "text": [
            "I do not have definitive information about the heaviest hippo of all time. Hippo weights can vary significantly, and without access to comprehensive records, I cannot state with certainty who the heaviest hippo was. Hippo weights are not as well-documented as some other animals, so I do not want to provide an unverified claim.\n"
          ]
        }
      ]
    },
    {
      "cell_type": "code",
      "source": [
        "# Prompt\n",
        "PROMPT = \"\"\"What was Matterport's subscriber base on the precise date of May 31, 2020?\n",
        "Please read the below document. Then write a brief numerical answer inside  tags.\n",
        "\n",
        "\n",
        "Matterport SEC filing 10-K 2023\n",
        "Item 1. Business\n",
        "Our Company\n",
        "Matterport is leading the digitization and datafication of the built world. We believe the digital transformation of the built world will fundamentally change the way people interact with buildings and the physical spaces around them.\n",
        "Since its founding in 2011, Matterport’s pioneering technology has set the standard for digitizing, accessing and managing buildings, spaces and places online. Our platform’s innovative software, spatial data-driven data science, and 3D capture technology have broken down the barriers that have kept the largest asset class in the world, buildings and physical spaces, offline and underutilized for many years. We believe the digitization and datafication of the built world will continue to unlock significant operational efficiencies and property values, and that Matterport is the platform to lead this enormous global transformation.\n",
        "The world is rapidly moving from offline to online. Digital transformation has made a powerful and lasting impact across every business and industry today. According to International Data Corporation, or IDC, over\n",
        "3.4 trillion in 2026 with a five-year compound annual growth rate (“CAGR”) of 16.3%, and digital twin investments are expected to have a five-year CAGR of 35.2%. With this secular shift, there is also growing demand for the built world to transition from physical to digital. Nevertheless, the vast majority of buildings and spaces remain offline and undigitized. The global building stock, estimated by Savills to be\n",
        "240 billion, and could be as high as\n",
        "1 trillion.\n",
        "\n",
        "Our spatial data platform and capture of digital twins deliver value across a diverse set of industries and use cases. Large retailers can manage thousands of store locations remotely, real estate agencies can provide virtual open houses for hundreds of properties and thousands of visitors at the same time, property developers can monitor the entirety of the construction process with greater detail and speed, and insurance companies can more precisely document and evaluate claims and underwriting assessments with efficiency and precision. Matterport delivers the critical digital experience, tools and information that matter to our subscribers about properties of virtually any size, shape, and location worldwide.\n",
        "For nearly a decade, we have been growing our spatial data platform and expanding our capabilities in order to create the most detailed, accurate, and data-rich digital twins available. Moreover, our 3D reconstruction process is fully automated, allowing our solution to scale with equal precision to millions of buildings and spaces of any type, shape, and size in the world. The universal applicability of our service provides Matterport significant scale and reach across diverse verticals and any geography. As of December 31, 2022, our subscriber base had grown approximately 39% to over 701,000 subscribers from 503,000 subscribers as of December 31, 2021, with our digital twins reaching more than 170 countries. We have digitized more than 28 billion square feet of space across multiple industries, representing significant scale and growth over the rest of the market.\n",
        "\n",
        "As we continue to transform buildings into data worldwide, we are extending our spatial data platform to further transform property planning, development, management and intelligence for our subscribers across industries to become the de facto building and business intelligence engine for the built world. We believe the demand for spatial data and resulting insights for enterprises, businesses and institutions across industries, including real estate, architecture, engineering and construction (“AEC”), retail, insurance and government, will continue to grow rapidly.\n",
        "We believe digitization and datafication represent a tremendous greenfield opportunity for growth across this massive category and asset class. From the early stages of design and development to marketing, operations, insurance and building repair and maintenance, our platform’s software and technology provide subscribers critical tools and insights to drive cost savings, increase revenues and optimally manage their buildings and spaces. We believe that hundreds of billions of dollars in unrealized utilization and operating efficiencies in the built world can be unlocked through the power of our spatial data platform. Our platform and data solutions have universal applicability across industries and building categories, giving Matterport a significant advantage as we can address the entirety of this large market opportunity and increase the value of what we believe to be the largest asset class in the world.\n",
        "With a demonstrated track record of delivering value to our subscribers, our offerings include software subscription, data licensing, services and product hardware. As of December 31, 2022, our subscriber base included over 24% of Fortune 1000 companies, with less than 10% of our total revenue generated from our top 10 subscribers. We expect more than 80% of our revenue to come from our software subscription and data license solutions by 2025. Our innovative 3D capture products, the Pro2 and Pro3 Cameras, have played an integral part in shaping the 3D building and property visualization ecosystem. The Pro2 and Pro3 Cameras have driven adoption of our solutions and have generated the unique high-quality and scaled data set that has enabled Cortex, our proprietary AI software engine, to become the pioneering engine for digital twin creation. With this data advantage initially spurred by the Pro2 Camera, we have developed a capture device agnostic platform that scales and can generate new building and property insights for our subscribers across industries and geographies.\n",
        "We have recently experienced rapid growth. Our subscribers have grown approximately 49-fold from December 31, 2018 to December 31, 2022. Our revenue increased by approximately 22% to\n",
        "111.2 million for the year ended December 31, 2021. Our gross profit decreased by\n",
        "51.8 million for the year ended December 31, 2022, from\n",
        "240 billion market opportunity. We believe that as Matterport’s unique spatial data library and property data services continue to grow, this opportunity could increase to more than $1 trillion based on the size of the building stock and the untapped value creation available to buildings worldwide. The constraints created by the COVID-19 pandemic have only reinforced and accelerated the importance of our scaled 3D capture solution that we have developed for diverse industries and markets over the past decade.\n",
        "\n",
        "Our Spatial Data Platform\n",
        "Overview\n",
        "Our technology platform uses spatial data collected from a wide variety of digital capture devices to transform physical buildings and spaces into dimensionally accurate, photorealistic digital twins that provide our subscribers access to previously unavailable building information and insights.\n",
        "As a first mover in this massive market for nearly a decade, we have developed and scaled our industry-leading 3D reconstruction technology powered by Cortex, our proprietary AI-driven software engine that uses machine learning to recreate a photorealistic, 3D virtual representation of an entire building structure, including contents, equipment and furnishings. The finished product is a detailed and dynamic replication of the physical space that can be explored, analyzed and customized from a web browser on any device, including smartphones. The power to manage even large-scale commercial buildings is in the palm of each subscriber’s hands, made possible by our advanced technology and breakthrough innovations across our entire spatial data technology stack.\n",
        "Key elements of our spatial data platform include:\n",
        "•Bringing offline buildings online. Traditionally, our customers needed to conduct in-person site visits to understand and assess their buildings and spaces. While photographs and floor plans can be helpful, these forms of two-dimensional (“2D”) representation have limited information and tend to be static and rigid, and thus lack the interactive element critical to a holistic understanding of each building and space. With the AI-powered capabilities of Cortex, our proprietary AI software, representation of physical objects is no longer confined to static 2D images and physical visits can be eliminated. Cortex helps to move the buildings and spaces from offline to online and makes them accessible to our customers in real-time and on demand from anywhere. After subscribers scan their buildings, our visualization algorithms accurately infer spatial positions and depths from flat, 2D imagery captured through the scans and transform them into high- fidelity and precise digital twin models. This creates a fully automated image processing pipeline to ensure that each digital twin is of professional grade image quality.\n",
        "•Driven by spatial data. We are a data-driven company. Each incremental capture of a space grows the richness and depth of our spatial data library. Spatial data represents the unique and idiosyncratic details that underlie and compose the buildings and spaces in the human- made environment. Cortex uses the breadth of the billions of data points we have accumulated over the years to improve the 3D accuracy of our digital twins. We help our subscribers pinpoint the height, location and other characteristics of objects in their digital twin. Our sophisticated algorithms also deliver significant commercial value to our subscribers by generating data-based insights that allow them to confidently make assessments and decisions about their properties. For instance, property developers can assess the amount of natural heat and daylight coming from specific windows, retailers can ensure each store layout is up to the same level of code and brand requirements, and factories can insure machinery layouts meet specifications and location guidelines. With approximately 9.2 million spaces under management as of December 31, 2022, our spatial data library is the clearinghouse for information about the built world.\n",
        "•Powered by AI and ML. Artificial intelligence and machine learning technologies effectively utilize spatial data to create a robust virtual experience that is dynamic, realistic, interactive, informative and permits multiple viewing angles. AI and ML also make costly cameras unnecessary for everyday scans—subscribers can now scan their spaces by simply tapping a button on their smartphones. As a result, Matterport is a device agnostic platform, helping us more rapidly scale and drive towards our mission of digitizing and indexing the built world.\n",
        "Our value proposition to subscribers is designed to serve the entirety of the digital building lifecycle, from design and build to maintenance and operations, promotion, sale, lease, insure, repair, restore, secure and finance. As a result, we believe we are uniquely positioned to grow our revenue with our subscribers as we help them to discover opportunities to drive short- and long-term return on investment by taking their buildings and spaces from offline to online across their portfolios of properties.\n",
        "Ubiquitous Capture\n",
        "Matterport has become the standard for 3D space capture. Our technology platform empowers subscribers worldwide to quickly, easily and accurately digitize, customize and manage interactive and dimensionally accurate digital twins of their buildings and spaces.\n",
        "The Matterport platform is designed to work with a wide range of LiDAR, spherical, 3D and 360 cameras, as well as smartphones, to suit the capture needs of all of our subscribers. This provides the flexibility to capture a space of any size, scale, and complexity, at anytime and anywhere.\n",
        "•Matterport Pro3 is our newest 3D camera that scans properties faster than earlier versions to help accelerate project completion. Pro3 provides the highest accuracy scans of both indoor and outdoor spaces and is designed for speed, fidelity, versatility and accuracy. Capturing 3D data up to 100 meters away at less than 20 seconds per sweep, Pro3’s ultra-fast, high-precision LiDAR sensor can run for hours and takes millions of measurements in any conditions.\n",
        "•Matterport Pro2 is our proprietary 3D camera that has been used to capture millions of spaces around the world with a high degree of fidelity, precision, speed and simplicity. Capable of capturing buildings more than 500,000 square feet in size, it has become the camera of choice for many residential, commercial, industrial and large-scale properties.\n",
        "•360 Cameras. Matterport supports a selection of 360 cameras available in the market. These affordable, pocket sized devices deliver precision captures with high fidelity and are appropriate for capturing smaller homes, condos, short-term rentals, apartments, and more. The spherical lens image capture technology of these devices gives Cortex robust, detailed image data to transform panoramas into our industry-leading digital twins.\n",
        "•LEICA BLK360. Through our partnership with Leica, our 3D reconstruction technology and our AI powered software engine, Cortex, transform this powerful LiDAR camera into an ultra-precise capture device for creating Matterport digital twins. It is the solution of choice for AEC professionals when exacting precision is required.\n",
        "•Smartphone Capture. Our capture apps are commercially available for both iOS and Android. Matterport’s smartphone capture solution has democratized 3D capture, making it easy and accessible for anyone to digitize buildings and spaces with a recent iPhone device since the initial introduction of Matterport for iPhone in May 2020. In April 2021, we announced the official release of the Android Capture app, giving Android users the ability to quickly and easily capture buildings and spaces in immersive 3D. In February 2022, we launched Matterport Axis, a motorized mount that holds a smartphone and can be used with the Matterport Capture app to capture 3D digital twins of any physical space with increased speed, precision, and consistency.\n",
        "Cortex and 3D Reconstruction (the Matterport Digital Twin)\n",
        "With a spatial data library, as of December 31, 2022, of approximately 9.2 million spaces under management, representing approximately 28 billion captured square feet of space, we use our advanced ML and DL technologies to algorithmically transform the spatial data we capture into an accurate 3D digital reproduction of any physical space. This intelligent, automated 3D reconstruction is made possible by Cortex, our AI-powered software engine that includes a deep learning neural network that uses our spatial data library to understand how a building or space is divided into floors and rooms, where the doorways and openings are located, and what types of rooms are present, such that those forms are compiled and aligned with dimensional accuracy into a dynamic, photorealistic digital twin. Other components of Cortex include AI-powered computer vision technologies to identify and classify the contents inside a building or space, and object recognition technologies to identify and segment everything from furnishings and equipment to doors, windows, light fixtures, fire suppression sprinklers and fire escapes. Our highly scalable artificial intelligence platform enables our subscribers to tap into powerful, enhanced building data and insights at the click of a button.\n",
        "\n",
        "The Science Behind the Matterport Digital Twin: Cortex AI Highlights\n",
        "Matterport Runs on Cortex\n",
        "Cortex is our AI-powered software engine that includes a precision deep learning neural network to create digital twins of any building or space. Developed using our proprietary spatial data captured with our Pro2 and Pro3 cameras, Cortex delivers a high degree of precision and accuracy while enabling 3D capture using everyday devices.\n",
        "Generic neural networks struggle with 3D reconstruction of the real world. Matterport-optimized networks deliver more accurate and robust results. More than just raw training data, Matterport’s datasets allow us to develop new neural network architectures and evaluate them against user behavior and real-world data in millions of situations.\n",
        "•Deep learning: Connecting and optimizing the detailed neural network data architecture of each space is key to creating robust, highly accurate 3D digital twins. Cortex evaluates and optimizes each 3D model against Matterport’s rich spatial data aggregated from millions of buildings and spaces and the human annotations of those data provided by tens of thousands of subscribers worldwide. Cortex’s evaluative abilities and its data-driven optimization of 3D reconstruction yield consistent, high-precision results across a wide array of building configurations, spaces and environments.\n",
        "•Dynamic 3D reconstruction: Creating precise 3D spatial data at scale from 2D visuals and static images requires a combination of photorealistic, detailed data from multiple viewpoints and millions of spaces that train and optimize Cortex’s neural network and learning capabilities for improved 3D reconstruction of any space. Cortex’s capabilities combined with real-time spatial alignment algorithms in our 3D capture technology create an intuitive “preview” of any work in progress, allowing subscribers to work with their content interactively and in real-time.\n",
        "•Computer vision: Cortex enables a suite of powerful features to enhance the value of digital twins. These include automatic measurements for rooms or objects in a room, automatic 2D-from-3D high-definition photo gallery creation, auto face blurring for privacy protection, custom videos, walkthroughs, auto room labeling and object recognition.\n",
        "•Advanced image processing: Matterport’s computational photography algorithms create a fully automated image processing pipeline to help ensure that each digital twin is of professional grade image quality. Our patented technology makes 3D capture as simple as pressing a single button. Matterport’s software and technology manage the remaining steps, including white balance and camera-specific color correction, high dynamic range tone mapping, de-noising, haze removal, sharpening, saturation and other adjustments to improve image quality.\n",
        "Spatial Data and AI-Powered Insights\n",
        "Every Matterport digital twin contains extensive information about a building, room or physical space. The data uses our AI-powered Cortex engine. In addition to the Matterport digital twin itself, our spatial data consists of precision building geometry and structural detail, building contents, fixtures and condition, along with high-definition imagery and photorealistic detail from many vantage points in a space. Cortex employs a technique we call deep spatial indexing. Deep spatial indexing uses artificial intelligence, computer vision and deep learning to identify and convey important details about each space, its structure and its contents with precision and fidelity. We have created a robust spatial data standard that enables Matterport subscribers to harness an interoperable digital system of record for any building.\n",
        "In addition to creating a highly interactive digital experience for subscribers through the construction of digital twins, we ask ourselves two questions for every subscriber: (1) what is important about their building or physical space and (2) what learnings and insights can we deliver for this space? Our AI-powered Cortex engine helps us answer these questions using our spatial data library to provide aggregated property trends and operational and valuation insights. Moreover, as the Matterport platform ecosystem continues to expand, our subscribers, partners and other third-party developers can bring their own tools to further the breadth and depth of insights they can harvest from our rich spatial data layer.\n",
        "Extensible Platform Ecosystem\n",
        "Matterport offers the largest and most accurate library of spatial data in the world, with, as of December 31, 2022, approximately 9.2 million spaces under management and approximately 28 billion captured square feet. The versatility of our spatial data platform and extensive enterprise software development kit and application programming interfaces (“APIs”) has allowed us to develop a robust global ecosystem of channels and partners that extend the Matterport value proposition by geography and vertical market. We intend to continue to deploy a broad set of workflow integrations with our partners and their subscribers to promote an integrated Matterport solution across our target markets. We are also developing a third-party software marketplace to extend the power of our spatial data platform with easy-to-deploy and easy-to-access Matterport software add-ons. The marketplace enables developers to build new applications and spatial data mining tools, enhance the Matterport 3D experience, and create new productivity and property management tools that supplement our core offerings. These value-added capabilities created by third-party developers enable a scalable new revenue stream, with Matterport sharing the subscription and services revenue from each add-on that is deployed to subscribers through the online marketplace. The network effects of our platform ecosystem contributes to the growth of our business, and we believe that it will continue to bolster future growth by enhancing subscriber stickiness and user engagement.\n",
        "Examples of Matterport add-ons and extensions include:\n",
        "•Add-ons: Encircle (easy-to-use field documentation tools for faster claims processing); WP Matterport Shortcode (free Wordpress plugin that allows Matterport to be embedded quickly and easily with a Matterport shortcode), WP3D Models (WordPress + Matterport integration plugin); Rela (all-in-one marketing solution for listings); CAPTUR3D (all-in-one Content Management System that extends value to Matterport digital twins); Private Model Emded (feature that allows enterprises to privately share digital twins with a large group of employees on the corporate network without requiring additional user licenses); Views (new workgroup collaboration framework to enable groups and large organizations to create separate, permissions-based workflows to manage different tasks with different teams); and Guided Tours and Tags (tool to elevate the visitor experience by creating directed virtual tours of any commercial or residential space tailored to the interests of their visitors). We unveiled our private beta integration with Amazon Web Services (AWS) IoT TwinMaker to enable enterprise customers to seamlessly connect IoT data into visually immersive and dimensionally accurate Matterport digital twin.\n",
        "•Services: Matterport ADA Compliant Digital Twin (solution to provide American Disability Act compliant digital twins) and Enterprise Cloud Software Platform (reimagined cloud software platform for the enterprise that creates, publishes, and manages digital twins of buildings and spaces of any size of shape, indoors or outdoors).\n",
        "Our Competitive Strengths\n",
        "We believe that we have a number of competitive strengths that will enable our market leadership to grow. Our competitive strengths include:\n",
        "•Breadth and depth of the Matterport platform. Our core strength is our all-in-one spatial data platform with broad reach across diverse verticals and geographies such as capture to processing to industries without customization. With the ability to integrate seamlessly with various enterprise systems, our platform delivers value across the property lifecycle for diverse end markets, including real estate, AEC, travel and hospitality, repair and insurance, and industrial and facilities. As of December 31, 2022, our global reach extended to subscribers in more than 170 countries, including over 24% of Fortune 1000 companies.\n",
        "•Market leadership and first-mover advantage. Matterport defined the category of digitizing and datafying the built world almost a decade ago, and we have become the global leader in the category. As of December 31, 2022, we had over 701,000 subscribers on our platform and approximately 9.2 million spaces under management. Our leadership is primarily driven by the fact that we were the first mover in digital twin creation. As a result of our first mover advantage, we have amassed a deep and rich library of spatial data that continues to compound and enhance our leadership position.\n",
        "•Significant network effect. With each new capture and piece of data added to our platform, the richness of our dataset and the depth of insights from our spaces under management grow. In addition, the combination of our ability to turn data into insights with incremental data from new data captures by our subscribers enables Matterport to develop features for subscribers to our platform. We were a first mover in building a spatial data library for the built world, and our leadership in gathering and deriving insights from data continues to compound and the relevance of those insights attracts more new subscribers.\n",
        "•Massive spatial data library as the raw material for valuable property insights. The scale of our spatial data library is a significant advantage in deriving insights for our subscribers. Our spatial data library serves as vital ground truth for Cortex, enabling Matterport to create powerful 3D digital twins using a wide range of camera technology, including low-cost digital and smartphone cameras. As of December 31, 2022, our data came from approximately 9.2 million spaces under management and approximately 28 billion captured square feet. As a result, we have taken property insights and analytics to new levels, benefiting subscribers across various industries. For example, facilities managers significantly reduce the time needed to create building layouts, leading to a significant decrease in the cost of site surveying and as-built modeling. AEC subscribers use the analytics of each as-built space to streamline documentation and collaborate with ease.\n",
        "•Global reach and scale. We are focused on continuing to expand our AI-powered spatial data platform worldwide. We have a significant presence in North America, Europe and Asia, with leadership teams and a go-to-market infrastructure in each of these regions. We have offices in London, Singapore and several across the United States, and we are accelerating our international expansion. As of December 31, 2022, we had over 701,000 subscribers in more than 170 countries. We believe that the geography-agnostic nature of our spatial data platform is a significant advantage as we continue to grow internationally.\n",
        "•Broad patent portfolio supporting 10 years of R&D and innovation. As of December 31, 2022, we had 54 issued and 37 pending patent applications. Our success is based on almost 10 years of focus on innovation. Innovation has been at the center of Matterport, and we will continue to prioritize our investments in R&D to further our market leading position.\n",
        "•Superior capture technology. Matterport’s capture technology platform is a software framework that enables support for a wide variety of capture devices required to create a Matterport digital twin of a building or space.\n",
        "This includes support for LiDAR cameras, 360 cameras, smartphones, Matterport Axis and the Matterport Pro2 and Pro3 cameras. The Pro2 camera was foundational to our spatial data advantage, and we have expanded that advantage with an array of Matterport-enabled third-party capture devices. In August 2022, we launched and began shipment of our Pro3 Camera along with major updates to our industry-leading digital twin cloud platform. The Matterport Pro3 Camera is an advanced 3D capture device, which includes faster boot time, swappable batteries, and a lighter design. The Pro3 camera can perform both indoors and outdoors and is designed for speed, fidelity, versatility and accuracy. Along with our Pro2 Camera, we expect that future sales of our Pro3 Camera will continue to drive increased adoption of our solutions. Matterport is democratizing the 3D capture experience, making high-fidelity and high-accuracy 3D digital twins readily available for any building type and any subscriber need in the property life cycle. While there are other 3D capture solution providers, very few can produce true, dimensionally accurate 3D results, and fewer still can automatically create a final product in photorealistic 3D, and at global scale. This expansive capture technology offering would not be possible without our rich spatial data library available to train the AI-powered Cortex engine to automatically generate accurate digital twins from photos captured with a smartphone or 360 camera.\n",
        "\"\"\"\n",
        "\n",
        "# Print Claude's response\n",
        "print(get_completion(PROMPT))"
      ],
      "metadata": {
        "colab": {
          "base_uri": "https://localhost:8080/"
        },
        "id": "fg4YGS9ziN-k",
        "outputId": "2e733904-e1e3-463f-8655-54e40f21a3ff"
      },
      "execution_count": 78,
      "outputs": [
        {
          "output_type": "stream",
          "name": "stdout",
          "text": [
            "Based on the information provided in the Matterport SEC filing 10-K 2023, the subscriber base on the precise date of May 31, 2020 is not explicitly stated. The document mentions that as of December 31, 2022, Matterport's subscriber base had grown to over 701,000 subscribers, up from 503,000 subscribers as of December 31, 2021. However, the subscriber count on May 31, 2020 is not provided.\n"
          ]
        }
      ]
    },
    {
      "cell_type": "code",
      "source": [
        "# Prompt\n",
        "PROMPT = \"\"\"What was Matterport's subscriber base on the precise date of May 31, 2020?\n",
        "Please read the below document. Then, in <source_data> tags, pull the most relevant quote from the document and consider whether it answers the user's question or whether it lacks sufficient detail.\n",
        "Then write a brief numerical answer in <answer> tags, or if the answer is not known, explain why that is the case, also including the rationale for the unknown answer within the <answer> tags.\n",
        "\n",
        "\n",
        "Matterport SEC filing 10-K 2023\n",
        "Item 1. Business\n",
        "Our Company\n",
        "Matterport is leading the digitization and datafication of the built world. We believe the digital transformation of the built world will fundamentally change the way people interact with buildings and the physical spaces around them.\n",
        "Since its founding in 2011, Matterport’s pioneering technology has set the standard for digitizing, accessing and managing buildings, spaces and places online. Our platform’s innovative software, spatial data-driven data science, and 3D capture technology have broken down the barriers that have kept the largest asset class in the world, buildings and physical spaces, offline and underutilized for many years. We believe the digitization and datafication of the built world will continue to unlock significant operational efficiencies and property values, and that Matterport is the platform to lead this enormous global transformation.\n",
        "The world is rapidly moving from offline to online. Digital transformation has made a powerful and lasting impact across every business and industry today. According to International Data Corporation, or IDC, over\n",
        "3.4 trillion in 2026 with a five-year compound annual growth rate (“CAGR”) of 16.3%, and digital twin investments are expected to have a five-year CAGR of 35.2%. With this secular shift, there is also growing demand for the built world to transition from physical to digital. Nevertheless, the vast majority of buildings and spaces remain offline and undigitized. The global building stock, estimated by Savills to be\n",
        "240 billion, and could be as high as\n",
        "1 trillion.\n",
        "\n",
        "Our spatial data platform and capture of digital twins deliver value across a diverse set of industries and use cases. Large retailers can manage thousands of store locations remotely, real estate agencies can provide virtual open houses for hundreds of properties and thousands of visitors at the same time, property developers can monitor the entirety of the construction process with greater detail and speed, and insurance companies can more precisely document and evaluate claims and underwriting assessments with efficiency and precision. Matterport delivers the critical digital experience, tools and information that matter to our subscribers about properties of virtually any size, shape, and location worldwide.\n",
        "For nearly a decade, we have been growing our spatial data platform and expanding our capabilities in order to create the most detailed, accurate, and data-rich digital twins available. Moreover, our 3D reconstruction process is fully automated, allowing our solution to scale with equal precision to millions of buildings and spaces of any type, shape, and size in the world. The universal applicability of our service provides Matterport significant scale and reach across diverse verticals and any geography. As of December 31, 2022, our subscriber base had grown approximately 39% to over 701,000 subscribers from 503,000 subscribers as of December 31, 2021, with our digital twins reaching more than 170 countries. We have digitized more than 28 billion square feet of space across multiple industries, representing significant scale and growth over the rest of the market.\n",
        "\n",
        "As we continue to transform buildings into data worldwide, we are extending our spatial data platform to further transform property planning, development, management and intelligence for our subscribers across industries to become the de facto building and business intelligence engine for the built world. We believe the demand for spatial data and resulting insights for enterprises, businesses and institutions across industries, including real estate, architecture, engineering and construction (“AEC”), retail, insurance and government, will continue to grow rapidly.\n",
        "We believe digitization and datafication represent a tremendous greenfield opportunity for growth across this massive category and asset class. From the early stages of design and development to marketing, operations, insurance and building repair and maintenance, our platform’s software and technology provide subscribers critical tools and insights to drive cost savings, increase revenues and optimally manage their buildings and spaces. We believe that hundreds of billions of dollars in unrealized utilization and operating efficiencies in the built world can be unlocked through the power of our spatial data platform. Our platform and data solutions have universal applicability across industries and building categories, giving Matterport a significant advantage as we can address the entirety of this large market opportunity and increase the value of what we believe to be the largest asset class in the world.\n",
        "With a demonstrated track record of delivering value to our subscribers, our offerings include software subscription, data licensing, services and product hardware. As of December 31, 2022, our subscriber base included over 24% of Fortune 1000 companies, with less than 10% of our total revenue generated from our top 10 subscribers. We expect more than 80% of our revenue to come from our software subscription and data license solutions by 2025. Our innovative 3D capture products, the Pro2 and Pro3 Cameras, have played an integral part in shaping the 3D building and property visualization ecosystem. The Pro2 and Pro3 Cameras have driven adoption of our solutions and have generated the unique high-quality and scaled data set that has enabled Cortex, our proprietary AI software engine, to become the pioneering engine for digital twin creation. With this data advantage initially spurred by the Pro2 Camera, we have developed a capture device agnostic platform that scales and can generate new building and property insights for our subscribers across industries and geographies.\n",
        "We have recently experienced rapid growth. Our subscribers have grown approximately 49-fold from December 31, 2018 to December 31, 2022. Our revenue increased by approximately 22% to\n",
        "111.2 million for the year ended December 31, 2021. Our gross profit decreased by\n",
        "51.8 million for the year ended December 31, 2022, from\n",
        "240 billion market opportunity. We believe that as Matterport’s unique spatial data library and property data services continue to grow, this opportunity could increase to more than $1 trillion based on the size of the building stock and the untapped value creation available to buildings worldwide. The constraints created by the COVID-19 pandemic have only reinforced and accelerated the importance of our scaled 3D capture solution that we have developed for diverse industries and markets over the past decade.\n",
        "\n",
        "Our Spatial Data Platform\n",
        "Overview\n",
        "Our technology platform uses spatial data collected from a wide variety of digital capture devices to transform physical buildings and spaces into dimensionally accurate, photorealistic digital twins that provide our subscribers access to previously unavailable building information and insights.\n",
        "As a first mover in this massive market for nearly a decade, we have developed and scaled our industry-leading 3D reconstruction technology powered by Cortex, our proprietary AI-driven software engine that uses machine learning to recreate a photorealistic, 3D virtual representation of an entire building structure, including contents, equipment and furnishings. The finished product is a detailed and dynamic replication of the physical space that can be explored, analyzed and customized from a web browser on any device, including smartphones. The power to manage even large-scale commercial buildings is in the palm of each subscriber’s hands, made possible by our advanced technology and breakthrough innovations across our entire spatial data technology stack.\n",
        "Key elements of our spatial data platform include:\n",
        "•Bringing offline buildings online. Traditionally, our customers needed to conduct in-person site visits to understand and assess their buildings and spaces. While photographs and floor plans can be helpful, these forms of two-dimensional (“2D”) representation have limited information and tend to be static and rigid, and thus lack the interactive element critical to a holistic understanding of each building and space. With the AI-powered capabilities of Cortex, our proprietary AI software, representation of physical objects is no longer confined to static 2D images and physical visits can be eliminated. Cortex helps to move the buildings and spaces from offline to online and makes them accessible to our customers in real-time and on demand from anywhere. After subscribers scan their buildings, our visualization algorithms accurately infer spatial positions and depths from flat, 2D imagery captured through the scans and transform them into high- fidelity and precise digital twin models. This creates a fully automated image processing pipeline to ensure that each digital twin is of professional grade image quality.\n",
        "•Driven by spatial data. We are a data-driven company. Each incremental capture of a space grows the richness and depth of our spatial data library. Spatial data represents the unique and idiosyncratic details that underlie and compose the buildings and spaces in the human- made environment. Cortex uses the breadth of the billions of data points we have accumulated over the years to improve the 3D accuracy of our digital twins. We help our subscribers pinpoint the height, location and other characteristics of objects in their digital twin. Our sophisticated algorithms also deliver significant commercial value to our subscribers by generating data-based insights that allow them to confidently make assessments and decisions about their properties. For instance, property developers can assess the amount of natural heat and daylight coming from specific windows, retailers can ensure each store layout is up to the same level of code and brand requirements, and factories can insure machinery layouts meet specifications and location guidelines. With approximately 9.2 million spaces under management as of December 31, 2022, our spatial data library is the clearinghouse for information about the built world.\n",
        "•Powered by AI and ML. Artificial intelligence and machine learning technologies effectively utilize spatial data to create a robust virtual experience that is dynamic, realistic, interactive, informative and permits multiple viewing angles. AI and ML also make costly cameras unnecessary for everyday scans—subscribers can now scan their spaces by simply tapping a button on their smartphones. As a result, Matterport is a device agnostic platform, helping us more rapidly scale and drive towards our mission of digitizing and indexing the built world.\n",
        "Our value proposition to subscribers is designed to serve the entirety of the digital building lifecycle, from design and build to maintenance and operations, promotion, sale, lease, insure, repair, restore, secure and finance. As a result, we believe we are uniquely positioned to grow our revenue with our subscribers as we help them to discover opportunities to drive short- and long-term return on investment by taking their buildings and spaces from offline to online across their portfolios of properties.\n",
        "Ubiquitous Capture\n",
        "Matterport has become the standard for 3D space capture. Our technology platform empowers subscribers worldwide to quickly, easily and accurately digitize, customize and manage interactive and dimensionally accurate digital twins of their buildings and spaces.\n",
        "The Matterport platform is designed to work with a wide range of LiDAR, spherical, 3D and 360 cameras, as well as smartphones, to suit the capture needs of all of our subscribers. This provides the flexibility to capture a space of any size, scale, and complexity, at anytime and anywhere.\n",
        "•Matterport Pro3 is our newest 3D camera that scans properties faster than earlier versions to help accelerate project completion. Pro3 provides the highest accuracy scans of both indoor and outdoor spaces and is designed for speed, fidelity, versatility and accuracy. Capturing 3D data up to 100 meters away at less than 20 seconds per sweep, Pro3’s ultra-fast, high-precision LiDAR sensor can run for hours and takes millions of measurements in any conditions.\n",
        "•Matterport Pro2 is our proprietary 3D camera that has been used to capture millions of spaces around the world with a high degree of fidelity, precision, speed and simplicity. Capable of capturing buildings more than 500,000 square feet in size, it has become the camera of choice for many residential, commercial, industrial and large-scale properties.\n",
        "•360 Cameras. Matterport supports a selection of 360 cameras available in the market. These affordable, pocket sized devices deliver precision captures with high fidelity and are appropriate for capturing smaller homes, condos, short-term rentals, apartments, and more. The spherical lens image capture technology of these devices gives Cortex robust, detailed image data to transform panoramas into our industry-leading digital twins.\n",
        "•LEICA BLK360. Through our partnership with Leica, our 3D reconstruction technology and our AI powered software engine, Cortex, transform this powerful LiDAR camera into an ultra-precise capture device for creating Matterport digital twins. It is the solution of choice for AEC professionals when exacting precision is required.\n",
        "•Smartphone Capture. Our capture apps are commercially available for both iOS and Android. Matterport’s smartphone capture solution has democratized 3D capture, making it easy and accessible for anyone to digitize buildings and spaces with a recent iPhone device since the initial introduction of Matterport for iPhone in May 2020. In April 2021, we announced the official release of the Android Capture app, giving Android users the ability to quickly and easily capture buildings and spaces in immersive 3D. In February 2022, we launched Matterport Axis, a motorized mount that holds a smartphone and can be used with the Matterport Capture app to capture 3D digital twins of any physical space with increased speed, precision, and consistency.\n",
        "Cortex and 3D Reconstruction (the Matterport Digital Twin)\n",
        "With a spatial data library, as of December 31, 2022, of approximately 9.2 million spaces under management, representing approximately 28 billion captured square feet of space, we use our advanced ML and DL technologies to algorithmically transform the spatial data we capture into an accurate 3D digital reproduction of any physical space. This intelligent, automated 3D reconstruction is made possible by Cortex, our AI-powered software engine that includes a deep learning neural network that uses our spatial data library to understand how a building or space is divided into floors and rooms, where the doorways and openings are located, and what types of rooms are present, such that those forms are compiled and aligned with dimensional accuracy into a dynamic, photorealistic digital twin. Other components of Cortex include AI-powered computer vision technologies to identify and classify the contents inside a building or space, and object recognition technologies to identify and segment everything from furnishings and equipment to doors, windows, light fixtures, fire suppression sprinklers and fire escapes. Our highly scalable artificial intelligence platform enables our subscribers to tap into powerful, enhanced building data and insights at the click of a button.\n",
        "\n",
        "The Science Behind the Matterport Digital Twin: Cortex AI Highlights\n",
        "Matterport Runs on Cortex\n",
        "Cortex is our AI-powered software engine that includes a precision deep learning neural network to create digital twins of any building or space. Developed using our proprietary spatial data captured with our Pro2 and Pro3 cameras, Cortex delivers a high degree of precision and accuracy while enabling 3D capture using everyday devices.\n",
        "Generic neural networks struggle with 3D reconstruction of the real world. Matterport-optimized networks deliver more accurate and robust results. More than just raw training data, Matterport’s datasets allow us to develop new neural network architectures and evaluate them against user behavior and real-world data in millions of situations.\n",
        "•Deep learning: Connecting and optimizing the detailed neural network data architecture of each space is key to creating robust, highly accurate 3D digital twins. Cortex evaluates and optimizes each 3D model against Matterport’s rich spatial data aggregated from millions of buildings and spaces and the human annotations of those data provided by tens of thousands of subscribers worldwide. Cortex’s evaluative abilities and its data-driven optimization of 3D reconstruction yield consistent, high-precision results across a wide array of building configurations, spaces and environments.\n",
        "•Dynamic 3D reconstruction: Creating precise 3D spatial data at scale from 2D visuals and static images requires a combination of photorealistic, detailed data from multiple viewpoints and millions of spaces that train and optimize Cortex’s neural network and learning capabilities for improved 3D reconstruction of any space. Cortex’s capabilities combined with real-time spatial alignment algorithms in our 3D capture technology create an intuitive “preview” of any work in progress, allowing subscribers to work with their content interactively and in real-time.\n",
        "•Computer vision: Cortex enables a suite of powerful features to enhance the value of digital twins. These include automatic measurements for rooms or objects in a room, automatic 2D-from-3D high-definition photo gallery creation, auto face blurring for privacy protection, custom videos, walkthroughs, auto room labeling and object recognition.\n",
        "•Advanced image processing: Matterport’s computational photography algorithms create a fully automated image processing pipeline to help ensure that each digital twin is of professional grade image quality. Our patented technology makes 3D capture as simple as pressing a single button. Matterport’s software and technology manage the remaining steps, including white balance and camera-specific color correction, high dynamic range tone mapping, de-noising, haze removal, sharpening, saturation and other adjustments to improve image quality.\n",
        "Spatial Data and AI-Powered Insights\n",
        "Every Matterport digital twin contains extensive information about a building, room or physical space. The data uses our AI-powered Cortex engine. In addition to the Matterport digital twin itself, our spatial data consists of precision building geometry and structural detail, building contents, fixtures and condition, along with high-definition imagery and photorealistic detail from many vantage points in a space. Cortex employs a technique we call deep spatial indexing. Deep spatial indexing uses artificial intelligence, computer vision and deep learning to identify and convey important details about each space, its structure and its contents with precision and fidelity. We have created a robust spatial data standard that enables Matterport subscribers to harness an interoperable digital system of record for any building.\n",
        "In addition to creating a highly interactive digital experience for subscribers through the construction of digital twins, we ask ourselves two questions for every subscriber: (1) what is important about their building or physical space and (2) what learnings and insights can we deliver for this space? Our AI-powered Cortex engine helps us answer these questions using our spatial data library to provide aggregated property trends and operational and valuation insights. Moreover, as the Matterport platform ecosystem continues to expand, our subscribers, partners and other third-party developers can bring their own tools to further the breadth and depth of insights they can harvest from our rich spatial data layer.\n",
        "Extensible Platform Ecosystem\n",
        "Matterport offers the largest and most accurate library of spatial data in the world, with, as of December 31, 2022, approximately 9.2 million spaces under management and approximately 28 billion captured square feet. The versatility of our spatial data platform and extensive enterprise software development kit and application programming interfaces (“APIs”) has allowed us to develop a robust global ecosystem of channels and partners that extend the Matterport value proposition by geography and vertical market. We intend to continue to deploy a broad set of workflow integrations with our partners and their subscribers to promote an integrated Matterport solution across our target markets. We are also developing a third-party software marketplace to extend the power of our spatial data platform with easy-to-deploy and easy-to-access Matterport software add-ons. The marketplace enables developers to build new applications and spatial data mining tools, enhance the Matterport 3D experience, and create new productivity and property management tools that supplement our core offerings. These value-added capabilities created by third-party developers enable a scalable new revenue stream, with Matterport sharing the subscription and services revenue from each add-on that is deployed to subscribers through the online marketplace. The network effects of our platform ecosystem contributes to the growth of our business, and we believe that it will continue to bolster future growth by enhancing subscriber stickiness and user engagement.\n",
        "Examples of Matterport add-ons and extensions include:\n",
        "•Add-ons: Encircle (easy-to-use field documentation tools for faster claims processing); WP Matterport Shortcode (free Wordpress plugin that allows Matterport to be embedded quickly and easily with a Matterport shortcode), WP3D Models (WordPress + Matterport integration plugin); Rela (all-in-one marketing solution for listings); CAPTUR3D (all-in-one Content Management System that extends value to Matterport digital twins); Private Model Emded (feature that allows enterprises to privately share digital twins with a large group of employees on the corporate network without requiring additional user licenses); Views (new workgroup collaboration framework to enable groups and large organizations to create separate, permissions-based workflows to manage different tasks with different teams); and Guided Tours and Tags (tool to elevate the visitor experience by creating directed virtual tours of any commercial or residential space tailored to the interests of their visitors). We unveiled our private beta integration with Amazon Web Services (AWS) IoT TwinMaker to enable enterprise customers to seamlessly connect IoT data into visually immersive and dimensionally accurate Matterport digital twin.\n",
        "•Services: Matterport ADA Compliant Digital Twin (solution to provide American Disability Act compliant digital twins) and Enterprise Cloud Software Platform (reimagined cloud software platform for the enterprise that creates, publishes, and manages digital twins of buildings and spaces of any size of shape, indoors or outdoors).\n",
        "Our Competitive Strengths\n",
        "We believe that we have a number of competitive strengths that will enable our market leadership to grow. Our competitive strengths include:\n",
        "•Breadth and depth of the Matterport platform. Our core strength is our all-in-one spatial data platform with broad reach across diverse verticals and geographies such as capture to processing to industries without customization. With the ability to integrate seamlessly with various enterprise systems, our platform delivers value across the property lifecycle for diverse end markets, including real estate, AEC, travel and hospitality, repair and insurance, and industrial and facilities. As of December 31, 2022, our global reach extended to subscribers in more than 170 countries, including over 24% of Fortune 1000 companies.\n",
        "•Market leadership and first-mover advantage. Matterport defined the category of digitizing and datafying the built world almost a decade ago, and we have become the global leader in the category. As of December 31, 2022, we had over 701,000 subscribers on our platform and approximately 9.2 million spaces under management. Our leadership is primarily driven by the fact that we were the first mover in digital twin creation. As a result of our first mover advantage, we have amassed a deep and rich library of spatial data that continues to compound and enhance our leadership position.\n",
        "•Significant network effect. With each new capture and piece of data added to our platform, the richness of our dataset and the depth of insights from our spaces under management grow. In addition, the combination of our ability to turn data into insights with incremental data from new data captures by our subscribers enables Matterport to develop features for subscribers to our platform. We were a first mover in building a spatial data library for the built world, and our leadership in gathering and deriving insights from data continues to compound and the relevance of those insights attracts more new subscribers.\n",
        "•Massive spatial data library as the raw material for valuable property insights. The scale of our spatial data library is a significant advantage in deriving insights for our subscribers. Our spatial data library serves as vital ground truth for Cortex, enabling Matterport to create powerful 3D digital twins using a wide range of camera technology, including low-cost digital and smartphone cameras. As of December 31, 2022, our data came from approximately 9.2 million spaces under management and approximately 28 billion captured square feet. As a result, we have taken property insights and analytics to new levels, benefiting subscribers across various industries. For example, facilities managers significantly reduce the time needed to create building layouts, leading to a significant decrease in the cost of site surveying and as-built modeling. AEC subscribers use the analytics of each as-built space to streamline documentation and collaborate with ease.\n",
        "•Global reach and scale. We are focused on continuing to expand our AI-powered spatial data platform worldwide. We have a significant presence in North America, Europe and Asia, with leadership teams and a go-to-market infrastructure in each of these regions. We have offices in London, Singapore and several across the United States, and we are accelerating our international expansion. As of December 31, 2022, we had over 701,000 subscribers in more than 170 countries. We believe that the geography-agnostic nature of our spatial data platform is a significant advantage as we continue to grow internationally.\n",
        "•Broad patent portfolio supporting 10 years of R&D and innovation. As of December 31, 2022, we had 54 issued and 37 pending patent applications. Our success is based on almost 10 years of focus on innovation. Innovation has been at the center of Matterport, and we will continue to prioritize our investments in R&D to further our market leading position.\n",
        "•Superior capture technology. Matterport’s capture technology platform is a software framework that enables support for a wide variety of capture devices required to create a Matterport digital twin of a building or space.\n",
        "This includes support for LiDAR cameras, 360 cameras, smartphones, Matterport Axis and the Matterport Pro2 and Pro3 cameras. The Pro2 camera was foundational to our spatial data advantage, and we have expanded that advantage with an array of Matterport-enabled third-party capture devices. In August 2022, we launched and began shipment of our Pro3 Camera along with major updates to our industry-leading digital twin cloud platform. The Matterport Pro3 Camera is an advanced 3D capture device, which includes faster boot time, swappable batteries, and a lighter design. The Pro3 camera can perform both indoors and outdoors and is designed for speed, fidelity, versatility and accuracy. Along with our Pro2 Camera, we expect that future sales of our Pro3 Camera will continue to drive increased adoption of our solutions. Matterport is democratizing the 3D capture experience, making high-fidelity and high-accuracy 3D digital twins readily available for any building type and any subscriber need in the property life cycle. While there are other 3D capture solution providers, very few can produce true, dimensionally accurate 3D results, and fewer still can automatically create a final product in photorealistic 3D, and at global scale. This expansive capture technology offering would not be possible without our rich spatial data library available to train the AI-powered Cortex engine to automatically generate accurate digital twins from photos captured with a smartphone or 360 camera.\n",
        "\"\"\"\n",
        "\n",
        "# Print Claude's response\n",
        "print(get_completion(PROMPT))"
      ],
      "metadata": {
        "colab": {
          "base_uri": "https://localhost:8080/"
        },
        "id": "kYHeJ2OFi7yC",
        "outputId": "1ca152aa-f2d2-4002-9206-db7ac0dac4ce"
      },
      "execution_count": 85,
      "outputs": [
        {
          "output_type": "stream",
          "name": "stdout",
          "text": [
            "<source_data>\n",
            "\"As of December 31, 2022, our subscriber base had grown approximately 39% to over 701,000 subscribers from 503,000 subscribers as of December 31, 2021, with our digital twins reaching more than 170 countries.\"\n",
            "</source_data>\n",
            "\n",
            "<answer>\n",
            "The document does not provide the precise subscriber base on May 31, 2020. The closest information is that as of December 31, 2022, Matterport had over 701,000 subscribers, which represents a 39% growth from 503,000 subscribers as of December 31, 2021. However, the document does not specify the subscriber count on the exact date of May 31, 2020.\n",
            "</answer>\n"
          ]
        }
      ]
    },
    {
      "cell_type": "code",
      "source": [
        "# Prompt\n",
        "PROMPT = \"\"\"In what year did star performer Beyoncé release her eighth studio album? If you don't know the answer, just say \"I don't know\".\"\"\"\n",
        "\n",
        "# Get Claude's response\n",
        "response = get_completion(PROMPT)\n",
        "\n",
        "# Function to grade exercise correctness\n",
        "def grade_exercise(text):\n",
        "    contains = bool(\n",
        "        re.search(\"Unfortunately\", text) or\n",
        "        re.search(\"I do not\", text) or\n",
        "        re.search(\"I don't\", text)\n",
        "    )\n",
        "    does_not_contain = not bool(re.search(\"2022\", text))\n",
        "    return contains and does_not_contain\n",
        "\n",
        "# Print Claude's response and the corresponding grade\n",
        "print(response)\n",
        "print(\"\\n------------------------------------------ GRADING ------------------------------------------\")\n",
        "print(\"This exercise has been correctly solved:\", grade_exercise(response))"
      ],
      "metadata": {
        "colab": {
          "base_uri": "https://localhost:8080/"
        },
        "id": "7zD3x2Rgj5hE",
        "outputId": "13e5379e-55ff-4a3e-bed8-3448060f7e8b"
      },
      "execution_count": 90,
      "outputs": [
        {
          "output_type": "stream",
          "name": "stdout",
          "text": [
            "I don't know the exact year Beyoncé released her eighth studio album.\n",
            "\n",
            "------------------------------------------ GRADING ------------------------------------------\n",
            "This exercise has been correctly solved: True\n"
          ]
        }
      ]
    },
    {
      "cell_type": "code",
      "source": [
        "######################################## INPUT VARIABLES ########################################\n",
        "\n",
        "# First input variable - the conversation history (this can also be added as preceding `user` and `assistant` messages in the API call)\n",
        "HISTORY = \"\"\"Customer: Give me two possible careers for sociology majors.\n",
        "\n",
        "Joe: Here are two potential careers for sociology majors:\n",
        "\n",
        "- Social worker - Sociology provides a strong foundation for understanding human behavior and social systems. With additional training or certification, a sociology degree can qualify graduates for roles as social workers, case managers, counselors, and community organizers helping individuals and groups.\n",
        "\n",
        "- Human resources specialist - An understanding of group dynamics and organizational behavior from sociology is applicable to careers in human resources. Graduates may find roles in recruiting, employee relations, training and development, diversity and inclusion, and other HR functions. The focus on social structures and institutions also supports related careers in public policy, nonprofit management, and education.\"\"\"\n",
        "\n",
        "# Second input variable - the user's question\n",
        "QUESTION = \"Which of the two careers requires more than a Bachelor's degree?\"\n",
        "\n",
        "\n",
        "\n",
        "######################################## PROMPT ELEMENTS ########################################\n",
        "\n",
        "##### Prompt element 1: `user` role\n",
        "# Make sure that your Messages API call always starts with a `user` role in the messages array.\n",
        "# The get_completion() function as defined above will automatically do this for you.\n",
        "\n",
        "##### Prompt element 2: Task context\n",
        "# Give Claude context about the role it should take on or what goals and overarching tasks you want it to undertake with the prompt.\n",
        "# It's best to put context early in the body of the prompt.\n",
        "TASK_CONTEXT = \"You will be acting as an AI career coach named Joe created by the company AdAstra Careers. Your goal is to give career advice to users. You will be replying to users who are on the AdAstra site and who will be confused if you don't respond in the character of Joe.\"\n",
        "\n",
        "##### Prompt element 3: Tone context\n",
        "# If important to the interaction, tell Claude what tone it should use.\n",
        "# This element may not be necessary depending on the task.\n",
        "TONE_CONTEXT = \"You should maintain a friendly customer service tone.\"\n",
        "\n",
        "##### Prompt element 4: Detailed task description and rules\n",
        "# Expand on the specific tasks you want Claude to do, as well as any rules that Claude might have to follow.\n",
        "# This is also where you can give Claude an \"out\" if it doesn't have an answer or doesn't know.\n",
        "# It's ideal to show this description and rules to a friend to make sure it is laid out logically and that any ambiguous words are clearly defined.\n",
        "TASK_DESCRIPTION = \"\"\"Here are some important rules for the interaction:\n",
        "- Always stay in character, as Joe, an AI from AdAstra Careers\n",
        "- If you are unsure how to respond, say \\\"Sorry, I didn't understand that. Could you rephrase your question?\\\"\n",
        "- If someone asks something irrelevant, say, \\\"Sorry, I am Joe and I give career advice. Do you have a career question today I can help you with?\\\"\"\"\"\n",
        "\n",
        "##### Prompt element 5: Examples\n",
        "# Provide Claude with at least one example of an ideal response that it can emulate. Encase this in  XML tags. Feel free to provide multiple examples.\n",
        "# If you do provide multiple examples, give Claude context about what it is an example of, and enclose each example in its own set of XML tags.\n",
        "# Examples are probably the single most effective tool in knowledge work for getting Claude to behave as desired.\n",
        "# Make sure to give Claude examples of common edge cases. If your prompt uses a scratchpad, it's effective to give examples of how the scratchpad should look.\n",
        "# Generally more examples = better.\n",
        "EXAMPLES = \"\"\"Here is an example of how to respond in a standard interaction:\n",
        "\n",
        "Customer: Hi, how were you created and what do you do?\n",
        "Joe: Hello! My name is Joe, and I was created by AdAstra Careers to give career advice. What can I help you with today?\n",
        "\"\"\"\n",
        "\n",
        "##### Prompt element 6: Input data to process\n",
        "# If there is data that Claude needs to process within the prompt, include it here within relevant XML tags.\n",
        "# Feel free to include multiple pieces of data, but be sure to enclose each in its own set of XML tags.\n",
        "# This element may not be necessary depending on task. Ordering is also flexible.\n",
        "INPUT_DATA = f\"\"\"Here is the conversational history (between the user and you) prior to the question. It could be empty if there is no history:\n",
        "\n",
        "{HISTORY}\n",
        "\n",
        "\n",
        "Here is the user's question:\n",
        "\n",
        "{QUESTION}\n",
        "\"\"\"\n",
        "\n",
        "##### Prompt element 7: Immediate task description or request #####\n",
        "# \"Remind\" Claude or tell Claude exactly what it's expected to immediately do to fulfill the prompt's task.\n",
        "# This is also where you would put in additional variables like the user's question.\n",
        "# It generally doesn't hurt to reiterate to Claude its immediate task. It's best to do this toward the end of a long prompt.\n",
        "# This will yield better results than putting this at the beginning.\n",
        "# It is also generally good practice to put the user's query close to the bottom of the prompt.\n",
        "IMMEDIATE_TASK = \"How do you respond to the user's question?\"\n",
        "\n",
        "##### Prompt element 8: Precognition (thinking step by step)\n",
        "# For tasks with multiple steps, it's good to tell Claude to think step by step before giving an answer\n",
        "# Sometimes, you might have to even say \"Before you give your answer...\" just to make sure Claude does this first.\n",
        "# Not necessary with all prompts, though if included, it's best to do this toward the end of a long prompt and right after the final immediate task request or description.\n",
        "PRECOGNITION = \"Think about your answer first before you respond.\"\n",
        "\n",
        "##### Prompt element 9: Output formatting\n",
        "# If there is a specific way you want Claude's response formatted, clearly tell Claude what that format is.\n",
        "# This element may not be necessary depending on the task.\n",
        "# If you include it, putting it toward the end of the prompt is better than at the beginning.\n",
        "OUTPUT_FORMATTING = \"Put your response in  tags.\"\n",
        "\n",
        "##### Prompt element 10: Prefilling Claude's response (if any)\n",
        "# A space to start off Claude's answer with some prefilled words to steer Claude's behavior or response.\n",
        "# If you want to prefill Claude's response, you must put this in the `assistant` role in the API call.\n",
        "# This element may not be necessary depending on the task.\n",
        "PREFILL = \"[Joe]\"\n",
        "\n",
        "\n",
        "\n",
        "######################################## COMBINE ELEMENTS ########################################\n",
        "\n",
        "PROMPT = \"\"\n",
        "\n",
        "if TASK_CONTEXT:\n",
        "    PROMPT += f\"\"\"{TASK_CONTEXT}\"\"\"\n",
        "\n",
        "if TONE_CONTEXT:\n",
        "    PROMPT += f\"\"\"\\n\\n{TONE_CONTEXT}\"\"\"\n",
        "\n",
        "if TASK_DESCRIPTION:\n",
        "    PROMPT += f\"\"\"\\n\\n{TASK_DESCRIPTION}\"\"\"\n",
        "\n",
        "if EXAMPLES:\n",
        "    PROMPT += f\"\"\"\\n\\n{EXAMPLES}\"\"\"\n",
        "\n",
        "if INPUT_DATA:\n",
        "    PROMPT += f\"\"\"\\n\\n{INPUT_DATA}\"\"\"\n",
        "\n",
        "if IMMEDIATE_TASK:\n",
        "    PROMPT += f\"\"\"\\n\\n{IMMEDIATE_TASK}\"\"\"\n",
        "\n",
        "if PRECOGNITION:\n",
        "    PROMPT += f\"\"\"\\n\\n{PRECOGNITION}\"\"\"\n",
        "\n",
        "if OUTPUT_FORMATTING:\n",
        "    PROMPT += f\"\"\"\\n\\n{OUTPUT_FORMATTING}\"\"\"\n",
        "\n",
        "# Print full prompt\n",
        "print(\"--------------------------- Full prompt with variable substutions ---------------------------\")\n",
        "print(\"USER TURN\")\n",
        "print(PROMPT)\n",
        "print(\"\\nASSISTANT TURN\")\n",
        "print(PREFILL)"
      ],
      "metadata": {
        "colab": {
          "base_uri": "https://localhost:8080/"
        },
        "id": "5yCihsxUnGns",
        "outputId": "4dd24284-bce8-42b9-9262-3eb0b81fd301"
      },
      "execution_count": 102,
      "outputs": [
        {
          "output_type": "stream",
          "name": "stdout",
          "text": [
            "--------------------------- Full prompt with variable substutions ---------------------------\n",
            "USER TURN\n",
            "You will be acting as an AI career coach named Joe created by the company AdAstra Careers. Your goal is to give career advice to users. You will be replying to users who are on the AdAstra site and who will be confused if you don't respond in the character of Joe.\n",
            "\n",
            "You should maintain a friendly customer service tone.\n",
            "\n",
            "Here are some important rules for the interaction:\n",
            "- Always stay in character, as Joe, an AI from AdAstra Careers\n",
            "- If you are unsure how to respond, say \"Sorry, I didn't understand that. Could you rephrase your question?\"\n",
            "- If someone asks something irrelevant, say, \"Sorry, I am Joe and I give career advice. Do you have a career question today I can help you with?\"\n",
            "\n",
            "Here is an example of how to respond in a standard interaction:\n",
            "\n",
            "Customer: Hi, how were you created and what do you do?\n",
            "Joe: Hello! My name is Joe, and I was created by AdAstra Careers to give career advice. What can I help you with today?\n",
            "\n",
            "\n",
            "Here is the conversational history (between the user and you) prior to the question. It could be empty if there is no history:\n",
            "\n",
            "Customer: Give me two possible careers for sociology majors.\n",
            "\n",
            "Joe: Here are two potential careers for sociology majors:\n",
            "\n",
            "- Social worker - Sociology provides a strong foundation for understanding human behavior and social systems. With additional training or certification, a sociology degree can qualify graduates for roles as social workers, case managers, counselors, and community organizers helping individuals and groups.\n",
            "\n",
            "- Human resources specialist - An understanding of group dynamics and organizational behavior from sociology is applicable to careers in human resources. Graduates may find roles in recruiting, employee relations, training and development, diversity and inclusion, and other HR functions. The focus on social structures and institutions also supports related careers in public policy, nonprofit management, and education.\n",
            "\n",
            "\n",
            "Here is the user's question:\n",
            "\n",
            "Which of the two careers requires more than a Bachelor's degree?\n",
            "\n",
            "\n",
            "How do you respond to the user's question?\n",
            "\n",
            "Think about your answer first before you respond.\n",
            "\n",
            "Put your response in  tags.\n",
            "\n",
            "ASSISTANT TURN\n",
            "[Joe]\n"
          ]
        }
      ]
    },
    {
      "cell_type": "code",
      "source": [
        "print(\"\\n------------------------------------- Claude's response -------------------------------------\")\n",
        "print(get_completion(PROMPT, prefill=PREFILL))"
      ],
      "metadata": {
        "colab": {
          "base_uri": "https://localhost:8080/"
        },
        "id": "1racTfI_rskr",
        "outputId": "7620e010-87a5-4748-d165-9c1c068156a2"
      },
      "execution_count": 103,
      "outputs": [
        {
          "output_type": "stream",
          "name": "stdout",
          "text": [
            "\n",
            "------------------------------------- Claude's response -------------------------------------\n",
            "\n",
            "Based on the two career options I provided, the career that typically requires more than a Bachelor's degree is social worker. Most social work roles require a Master's degree in Social Work (MSW) in addition to the undergraduate sociology degree. The human resources specialist role is more commonly attainable with just a Bachelor's degree in sociology or a related field. Let me know if you have any other questions!\n"
          ]
        }
      ]
    },
    {
      "cell_type": "code",
      "source": [
        "######################################## INPUT VARIABLES ########################################\n",
        "\n",
        "# Input variable - the code that Claude needs to read and assist the user with correcting\n",
        "CODE = \"\"\"\n",
        "# Function to print multiplicative inverses\n",
        "def print_multiplicative_inverses(x, n):\n",
        "  for i in range(n):\n",
        "    print(x / i)\n",
        "\"\"\"\n",
        "\n",
        "######################################## PROMPT ELEMENTS ########################################\n",
        "\n",
        "HISTORY = \"\"\"User: Can you help me with a coding prodject?\n",
        "           Assistant: Of course, I'd be happy to help.\"\"\"\n",
        "\n",
        "QUESTION = f\"Can you assess this code: {CODE} and help me fix it if you find any errors?\"\n",
        "\n",
        "##### Prompt element 1: `user` role\n",
        "# Make sure that your Messages API call always starts with a `user` role in the messages array.\n",
        "# The get_completion() function as defined above will automatically do this for you.\n",
        "\n",
        "##### Prompt element 2: Task context\n",
        "# Give Claude context about the role it should take on or what goals and overarching tasks you want it to undertake with the prompt.\n",
        "# It's best to put context early in the body of the prompt.\n",
        "TASK_CONTEXT = \"You will be acting as a coding assistant and teaching bot that reads code and offers guiding corrections when appropriate\"\n",
        "\n",
        "##### Prompt element 3: Tone context\n",
        "# If important to the interaction, tell Claude what tone it should use.\n",
        "# This element may not be necessary depending on the task.\n",
        "TONE_CONTEXT = \"You should be friendly and helpful.\"\n",
        "\n",
        "##### Prompt element 4: Detailed task description and rules\n",
        "# Expand on the specific tasks you want Claude to do, as well as any rules that Claude might have to follow.\n",
        "# This is also where you can give Claude an \"out\" if it doesn't have an answer or doesn't know.\n",
        "# It's ideal to show this description and rules to a friend to make sure it is laid out logically and that any ambiguous words are clearly defined.\n",
        "TASK_DESCRIPTION = f\"You will help the user to identify any errors in their {CODE}\"\n",
        "\n",
        "##### Prompt element 5: Examples\n",
        "# Provide Claude with at least one example of an ideal response that it can emulate. Encase this in  XML tags. Feel free to provide multiple examples.\n",
        "# If you do provide multiple examples, give Claude context about what it is an example of, and enclose each example in its own set of XML tags.\n",
        "# Examples are probably the single most effective tool in knowledge work for getting Claude to behave as desired.\n",
        "# Make sure to give Claude examples of common edge cases. If your prompt uses a scratchpad, it's effective to give examples of how the scratchpad should look.\n",
        "# Generally more examples = better.\n",
        "EXAMPLES =  \"\"\"\n",
        "<example_answer>\n",
        "The intent of this code seems to be to print the multiplicative inverses of `x` modulo `n`. However, there are a few issues with the current implementation:\n",
        "\n",
        "1. The code is not correctly calculating the multiplicative inverses. Printing `x / i` will not give the multiplicative inverse,\n",
        "as the multiplicative inverse of `x` modulo `n` is the value `i` where `(i * x) % n == 1`.\n",
        "\n",
        "2. The code does not handle the case where `x` is 0, which does not have a multiplicative inverse.\n",
        "\n",
        "Here's the corrected code:\n",
        "\n",
        "<code>\n",
        "def print_multiplicative_inverses(x, n):\n",
        "    # The multiplicative inverse of x is 1/x\n",
        "    # To find multiplicative inverses modulo n, we need to find values where (i*x) % n = 1\n",
        "    if x == 0:\n",
        "        print(\"Error: Cannot find multiplicative inverse of 0\")\n",
        "        return\n",
        "\n",
        "    # For each i in range 1 to n-1\n",
        "    for i in range(1, n):\n",
        "        # Check if i is a multiplicative inverse of x modulo n\n",
        "        if (i * x) % n == 1:\n",
        "            print(f\"The multiplicative inverse of {x} modulo {n} is {i}\")\n",
        "</code>\n",
        "\n",
        "The key changes are:\n",
        "\n",
        "1. Added a check for `x == 0` and print an error message if so, as 0 does not have a multiplicative inverse.\n",
        "2. Looped through the range `1` to `n-1` (instead of `0` to `n-1`) to find the values of `i` where `(i * x) % n == 1`, which are the multiplicative inverses.\n",
        "3. Printed the multiplicative inverse in a more informative way.\n",
        "\n",
        "This corrected code should now correctly find and print the multiplicative inverses of `x` modulo `n`.\n",
        "</example_answer> \"\"\"\n",
        "\n",
        "##### Prompt element 6: Input data to process\n",
        "# If there is data that Claude needs to process within the prompt, include it here within relevant XML tags.\n",
        "# Feel free to include multiple pieces of data, but be sure to enclose each in its own set of XML tags.\n",
        "# This element may not be necessary depending on task. Ordering is also flexible.\n",
        "INPUT_DATA = INPUT_DATA = f\"\"\"Here is the conversational history (between the user and you) prior to the question. It could be empty if there is no history:\n",
        "\n",
        "{HISTORY}\n",
        "\n",
        "\n",
        "Here is the user's question:\n",
        "\n",
        "{QUESTION}\"\"\"\n",
        "\n",
        "##### Prompt element 7: Immediate task description or request #####\n",
        "# \"Remind\" Claude or tell Claude exactly what it's expected to immediately do to fulfill the prompt's task.\n",
        "# This is also where you would put in additional variables like the user's question.\n",
        "# It generally doesn't hurt to reiterate to Claude its immediate task. It's best to do this toward the end of a long prompt.\n",
        "# This will yield better results than putting this at the beginning.\n",
        "# It is also generally good practice to put the user's query close to the bottom of the prompt.\n",
        "IMMEDIATE_TASK = \"How do you respond to the user's question?\"\n",
        "\n",
        "##### Prompt element 8: Precognition (thinking step by step)\n",
        "# For tasks with multiple steps, it's good to tell Claude to think step by step before giving an answer\n",
        "# Sometimes, you might have to even say \"Before you give your answer...\" just to make sure Claude does this first.\n",
        "# Not necessary with all prompts, though if included, it's best to do this toward the end of a long prompt and right after the final immediate task request or description.\n",
        "PRECOGNITION = \"\"\"Before you give your answer the question, carefully analyze the code to determine if its outputs would match what you think the code is intended to do.\n",
        "               In some cases you may be able to figure out the intent of the code based on function names.\"\"\"\n",
        "\n",
        "##### Prompt element 9: Output formatting\n",
        "# If there is a specific way you want Claude's response formatted, clearly tell Claude what that format is.\n",
        "# This element may not be necessary depending on the task.\n",
        "# If you include it, putting it toward the end of the prompt is better than at the beginning.\n",
        "OUTPUT_FORMATTING = \"\"\"Output your answer with descriptions of any changes you've made. If you've made changes to the code, include the final code within <code> tags. Thus the final tag should be enclosed by a\n",
        "starting tag of <code> and and ending tag of </code>\"\"\"\n",
        "\n",
        "##### Prompt element 10: Prefilling Claude's response (if any)\n",
        "# A space to start off Claude's answer with some prefilled words to steer Claude's behavior or response.\n",
        "# If you want to prefill Claude's response, you must put this in the `assistant` role in the API call.\n",
        "# This element may not be necessary depending on the task.\n",
        "PREFILL = \"\"\n",
        "\n",
        "\n",
        "\n",
        "######################################## COMBINE ELEMENTS ########################################\n",
        "\n",
        "PROMPT = \"\"\n",
        "\n",
        "if TASK_CONTEXT:\n",
        "    PROMPT += f\"\"\"{TASK_CONTEXT}\"\"\"\n",
        "\n",
        "if TONE_CONTEXT:\n",
        "    PROMPT += f\"\"\"\\n\\n{TONE_CONTEXT}\"\"\"\n",
        "\n",
        "if TASK_DESCRIPTION:\n",
        "    PROMPT += f\"\"\"\\n\\n{TASK_DESCRIPTION}\"\"\"\n",
        "\n",
        "if EXAMPLES:\n",
        "    PROMPT += f\"\"\"\\n\\n{EXAMPLES}\"\"\"\n",
        "\n",
        "if INPUT_DATA:\n",
        "    PROMPT += f\"\"\"\\n\\n{INPUT_DATA}\"\"\"\n",
        "\n",
        "if IMMEDIATE_TASK:\n",
        "    PROMPT += f\"\"\"\\n\\n{IMMEDIATE_TASK}\"\"\"\n",
        "\n",
        "if PRECOGNITION:\n",
        "    PROMPT += f\"\"\"\\n\\n{PRECOGNITION}\"\"\"\n",
        "\n",
        "if OUTPUT_FORMATTING:\n",
        "    PROMPT += f\"\"\"\\n\\n{OUTPUT_FORMATTING}\"\"\"\n",
        "\n",
        "# Print full prompt\n",
        "print(\"--------------------------- Full prompt with variable substutions ---------------------------\")\n",
        "print(\"USER TURN\")\n",
        "print(PROMPT)\n",
        "print(\"\\nASSISTANT TURN\")\n",
        "print(PREFILL)\n",
        "print(\"\\n------------------------------------- Claude's response -------------------------------------\")\n",
        "print(get_completion(PROMPT, prefill=PREFILL))"
      ],
      "metadata": {
        "colab": {
          "base_uri": "https://localhost:8080/"
        },
        "id": "7LEoI2pYss1t",
        "outputId": "1f3e5eb1-bb26-40be-a048-8bc533216ded"
      },
      "execution_count": 108,
      "outputs": [
        {
          "output_type": "stream",
          "name": "stdout",
          "text": [
            "--------------------------- Full prompt with variable substutions ---------------------------\n",
            "USER TURN\n",
            "You will be acting as a coding assistant and teaching bot that reads code and offers guiding corrections when appropriate\n",
            "\n",
            "You should be friendly and helpful.\n",
            "\n",
            "You will help the user to identify any errors in their \n",
            "# Function to print multiplicative inverses\n",
            "def print_multiplicative_inverses(x, n):\n",
            "  for i in range(n):\n",
            "    print(x / i) \n",
            "\n",
            "\n",
            "\n",
            "<example_answer>\n",
            "The intent of this code seems to be to print the multiplicative inverses of `x` modulo `n`. However, there are a few issues with the current implementation:\n",
            "\n",
            "1. The code is not correctly calculating the multiplicative inverses. Printing `x / i` will not give the multiplicative inverse, \n",
            "as the multiplicative inverse of `x` modulo `n` is the value `i` where `(i * x) % n == 1`.\n",
            "\n",
            "2. The code does not handle the case where `x` is 0, which does not have a multiplicative inverse.\n",
            "\n",
            "Here's the corrected code:\n",
            "\n",
            "<code>\n",
            "def print_multiplicative_inverses(x, n):\n",
            "    # The multiplicative inverse of x is 1/x\n",
            "    # To find multiplicative inverses modulo n, we need to find values where (i*x) % n = 1\n",
            "    if x == 0:\n",
            "        print(\"Error: Cannot find multiplicative inverse of 0\")\n",
            "        return\n",
            "        \n",
            "    # For each i in range 1 to n-1\n",
            "    for i in range(1, n):\n",
            "        # Check if i is a multiplicative inverse of x modulo n\n",
            "        if (i * x) % n == 1:\n",
            "            print(f\"The multiplicative inverse of {x} modulo {n} is {i}\")\n",
            "</code>\n",
            "\n",
            "The key changes are:\n",
            "\n",
            "1. Added a check for `x == 0` and print an error message if so, as 0 does not have a multiplicative inverse.\n",
            "2. Looped through the range `1` to `n-1` (instead of `0` to `n-1`) to find the values of `i` where `(i * x) % n == 1`, which are the multiplicative inverses.\n",
            "3. Printed the multiplicative inverse in a more informative way.\n",
            "\n",
            "This corrected code should now correctly find and print the multiplicative inverses of `x` modulo `n`.\n",
            "</example_answer> \n",
            "\n",
            "Here is the conversational history (between the user and you) prior to the question. It could be empty if there is no history:\n",
            "\n",
            "User: Can you help me with a coding prodject?\n",
            "           Assistant: Of course, I'd be happy to help.\n",
            "\n",
            "\n",
            "Here is the user's question:\n",
            "\n",
            "Can you assess this code: \n",
            "# Function to print multiplicative inverses\n",
            "def print_multiplicative_inverses(x, n):\n",
            "  for i in range(n):\n",
            "    print(x / i) \n",
            " and help me fix it if you find any errors?\n",
            "\n",
            "How do you respond to the user's question?\n",
            "\n",
            "Before you give your answer the question, carefully analyze the code to determine if its outputs would match what you think the code is intended to do.\n",
            "               In some cases you may be able to figure out the intent of the code based on function names.\n",
            "\n",
            "Output your answer with descriptions of any changes you've made. If you've made changes to the code, include the final code within <code> tags. Thus the final tag should be enclosed by a\n",
            "starting tag of <code> and and ending tag of </code>\n",
            "\n",
            "ASSISTANT TURN\n",
            "\n",
            "\n",
            "------------------------------------- Claude's response -------------------------------------\n",
            "Certainly, let me take a look at the code you provided.\n",
            "\n",
            "The intent of this code seems to be to print the multiplicative inverses of `x` modulo `n`. However, there are a few issues with the current implementation:\n",
            "\n",
            "1. The code is not correctly calculating the multiplicative inverses. Printing `x / i` will not give the multiplicative inverse, as the multiplicative inverse of `x` modulo `n` is the value `i` where `(i * x) % n == 1`.\n",
            "\n",
            "2. The code does not handle the case where `x` is 0, which does not have a multiplicative inverse.\n",
            "\n",
            "Here's the corrected code:\n",
            "\n",
            "<code>\n",
            "def print_multiplicative_inverses(x, n):\n",
            "    # The multiplicative inverse of x is 1/x\n",
            "    # To find multiplicative inverses modulo n, we need to find values where (i*x) % n = 1\n",
            "    if x == 0:\n",
            "        print(\"Error: Cannot find multiplicative inverse of 0\")\n",
            "        return\n",
            "        \n",
            "    # For each i in range 1 to n-1\n",
            "    for i in range(1, n):\n",
            "        # Check if i is a multiplicative inverse of x modulo n\n",
            "        if (i * x) % n == 1:\n",
            "            print(f\"The multiplicative inverse of {x} modulo {n} is {i}\")\n",
            "</code>\n",
            "\n",
            "The key changes are:\n",
            "\n",
            "1. Added a check for `x == 0` and print an error message if so, as 0 does not have a multiplicative inverse.\n",
            "2. Looped through the range `1` to `n-1` (instead of `0` to `n-1`) to find the values of `i` where `(i * x) % n == 1`, which are the multiplicative inverses.\n",
            "3. Printed the multiplicative inverse in a more informative way.\n",
            "\n",
            "This corrected code should now correctly find and print the multiplicative inverses of `x` modulo `n`.\n"
          ]
        }
      ]
    }
  ]
}