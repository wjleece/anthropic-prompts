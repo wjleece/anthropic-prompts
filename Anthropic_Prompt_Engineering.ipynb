{
  "nbformat": 4,
  "nbformat_minor": 0,
  "metadata": {
    "colab": {
      "provenance": [],
      "authorship_tag": "ABX9TyPtXw9zGeH/0+YuoWc4w6Dn",
      "include_colab_link": true
    },
    "kernelspec": {
      "name": "python3",
      "display_name": "Python 3"
    },
    "language_info": {
      "name": "python"
    }
  },
  "cells": [
    {
      "cell_type": "markdown",
      "metadata": {
        "id": "view-in-github",
        "colab_type": "text"
      },
      "source": [
        "<a href=\"https://colab.research.google.com/github/wjleece/anthropic-prompts/blob/main/Anthropic_Prompt_Engineering.ipynb\" target=\"_parent\"><img src=\"https://colab.research.google.com/assets/colab-badge.svg\" alt=\"Open In Colab\"/></a>"
      ]
    },
    {
      "cell_type": "code",
      "execution_count": null,
      "metadata": {
        "colab": {
          "base_uri": "https://localhost:8080/"
        },
        "id": "FN30Mn9ptnd1",
        "outputId": "46fd2528-c6cc-4b34-cc70-432c7a578b96"
      },
      "outputs": [
        {
          "output_type": "stream",
          "name": "stdout",
          "text": [
            "Requirement already satisfied: anthropic in /usr/local/lib/python3.11/dist-packages (0.50.0)\n",
            "Requirement already satisfied: anyio<5,>=3.5.0 in /usr/local/lib/python3.11/dist-packages (from anthropic) (4.9.0)\n",
            "Requirement already satisfied: distro<2,>=1.7.0 in /usr/local/lib/python3.11/dist-packages (from anthropic) (1.9.0)\n",
            "Requirement already satisfied: httpx<1,>=0.25.0 in /usr/local/lib/python3.11/dist-packages (from anthropic) (0.28.1)\n",
            "Requirement already satisfied: jiter<1,>=0.4.0 in /usr/local/lib/python3.11/dist-packages (from anthropic) (0.9.0)\n",
            "Requirement already satisfied: pydantic<3,>=1.9.0 in /usr/local/lib/python3.11/dist-packages (from anthropic) (2.11.3)\n",
            "Requirement already satisfied: sniffio in /usr/local/lib/python3.11/dist-packages (from anthropic) (1.3.1)\n",
            "Requirement already satisfied: typing-extensions<5,>=4.10 in /usr/local/lib/python3.11/dist-packages (from anthropic) (4.13.2)\n",
            "Requirement already satisfied: idna>=2.8 in /usr/local/lib/python3.11/dist-packages (from anyio<5,>=3.5.0->anthropic) (3.10)\n",
            "Requirement already satisfied: certifi in /usr/local/lib/python3.11/dist-packages (from httpx<1,>=0.25.0->anthropic) (2025.1.31)\n",
            "Requirement already satisfied: httpcore==1.* in /usr/local/lib/python3.11/dist-packages (from httpx<1,>=0.25.0->anthropic) (1.0.9)\n",
            "Requirement already satisfied: h11>=0.16 in /usr/local/lib/python3.11/dist-packages (from httpcore==1.*->httpx<1,>=0.25.0->anthropic) (0.16.0)\n",
            "Requirement already satisfied: annotated-types>=0.6.0 in /usr/local/lib/python3.11/dist-packages (from pydantic<3,>=1.9.0->anthropic) (0.7.0)\n",
            "Requirement already satisfied: pydantic-core==2.33.1 in /usr/local/lib/python3.11/dist-packages (from pydantic<3,>=1.9.0->anthropic) (2.33.1)\n",
            "Requirement already satisfied: typing-inspection>=0.4.0 in /usr/local/lib/python3.11/dist-packages (from pydantic<3,>=1.9.0->anthropic) (0.4.0)\n"
          ]
        }
      ],
      "source": [
        "%pip install anthropic"
      ]
    },
    {
      "cell_type": "code",
      "source": [
        "import anthropic\n",
        "from google.colab import userdata\n",
        "\n",
        "API_KEY = userdata.get('ANTHROPIC_API_KEY')\n",
        "MODEL_NAME = \"claude-3-haiku-20240307\"\n",
        "\n",
        "# Stores the API_KEY & MODEL_NAME variables for use across notebooks within the IPython store\n",
        "%store API_KEY\n",
        "%store MODEL_NAME"
      ],
      "metadata": {
        "colab": {
          "base_uri": "https://localhost:8080/"
        },
        "id": "fAQWJGfTuuaw",
        "outputId": "53351af4-dfc3-48d5-abc5-83c90b485bed"
      },
      "execution_count": null,
      "outputs": [
        {
          "output_type": "stream",
          "name": "stdout",
          "text": [
            "Stored 'API_KEY' (str)\n",
            "Stored 'MODEL_NAME' (str)\n"
          ]
        }
      ]
    },
    {
      "cell_type": "code",
      "source": [
        "import anthropic\n",
        "import re\n",
        "\n",
        "client = anthropic.Anthropic(api_key=API_KEY)\n",
        "\n",
        "system_prompt = \"You are a helpful assistant.\""
      ],
      "metadata": {
        "id": "cXfgxAX4PVcf"
      },
      "execution_count": null,
      "outputs": []
    },
    {
      "cell_type": "code",
      "source": [
        "def get_completion(prompt: str):\n",
        "    message = client.messages.create(\n",
        "        model=MODEL_NAME,\n",
        "        max_tokens=2000,\n",
        "        temperature=0.0,\n",
        "        system=system_prompt,\n",
        "        messages=[\n",
        "          {\"role\": \"user\", \"content\": prompt}\n",
        "        ]\n",
        "    )\n",
        "    return message.content[0].text"
      ],
      "metadata": {
        "id": "Ijtk-JVuvQwJ"
      },
      "execution_count": null,
      "outputs": []
    },
    {
      "cell_type": "code",
      "source": [
        "# Prompt\n",
        "prompt = \"Hello, Claude!\"\n",
        "\n",
        "# Get Claude's response\n",
        "print(get_completion(prompt))"
      ],
      "metadata": {
        "colab": {
          "base_uri": "https://localhost:8080/"
        },
        "id": "5fCubya_vcW1",
        "outputId": "513cb3aa-03ba-4d8e-ba0b-8d98089c4e17"
      },
      "execution_count": null,
      "outputs": [
        {
          "output_type": "stream",
          "name": "stdout",
          "text": [
            "Hello! It's nice to meet you. How can I assist you today?\n"
          ]
        }
      ]
    },
    {
      "cell_type": "code",
      "source": [
        "def translate(word, language):\n",
        "\n",
        "  message = client.messages.create(\n",
        "        model=MODEL_NAME,\n",
        "        max_tokens=2000,\n",
        "        temperature=0.0,\n",
        "        system=system_prompt,\n",
        "        messages=[\n",
        "          {\"role\": \"user\", \"content\": f\"translate the {word} into the desired {language}. Only translate the word, do not include anything else\"}\n",
        "        ]\n",
        "    )\n",
        "\n",
        "  return message.content[0].text"
      ],
      "metadata": {
        "id": "lC39Yd8J2jj5"
      },
      "execution_count": null,
      "outputs": []
    },
    {
      "cell_type": "code",
      "source": [
        "translate(\"hijo de puta\", \"english\")"
      ],
      "metadata": {
        "colab": {
          "base_uri": "https://localhost:8080/",
          "height": 35
        },
        "id": "3e1JgarqBM-4",
        "outputId": "07803f69-8952-42a5-c451-ed3303f97b4b"
      },
      "execution_count": null,
      "outputs": [
        {
          "output_type": "execute_result",
          "data": {
            "text/plain": [
              "'Motherfucker'"
            ],
            "application/vnd.google.colaboratory.intrinsic+json": {
              "type": "string"
            }
          },
          "metadata": {},
          "execution_count": 69
        }
      ]
    },
    {
      "cell_type": "code",
      "source": [
        "#chatbot\n",
        "\n",
        "conversation_history=[]\n",
        "\n",
        "while True:\n",
        "    user_input = input(\"User: \")\n",
        "\n",
        "    if user_input.lower() == \"quit\":\n",
        "        print(\"Conversation ended.\")\n",
        "        break\n",
        "\n",
        "    conversation_history.append({\"role\": \"user\", \"content\": user_input})\n",
        "\n",
        "    response = client.messages.create(\n",
        "        model=MODEL_NAME,\n",
        "        max_tokens=2000,\n",
        "        temperature=0.0,\n",
        "        system=system_prompt,\n",
        "        messages=conversation_history\n",
        "    )\n",
        "\n",
        "    conversation_history.append({\"role\": \"assistant\", \"content\": response.content[0].text})\n",
        "\n",
        "    print(\"Assistant:\", response.content[0].text)"
      ],
      "metadata": {
        "colab": {
          "base_uri": "https://localhost:8080/"
        },
        "id": "BRmHRmVGCLoY",
        "outputId": "c0a50c57-8919-40ab-8a15-794c4b8743a7"
      },
      "execution_count": null,
      "outputs": [
        {
          "output_type": "stream",
          "name": "stdout",
          "text": [
            "User: Give me a 1 paragraph summary of the major industries found in Manitoba\n",
            "Assistant: Manitoba's economy is diverse, with several key industries contributing to its economic growth. The province's agricultural sector is a major driver, with the production of crops like wheat, canola, and soybeans, as well as livestock farming. The mining industry, particularly the extraction of minerals such as nickel, copper, and zinc, is also a significant contributor. Manitoba's manufacturing sector encompasses a range of products, including aerospace components, transportation equipment, and food processing. The province's hydroelectric power generation, supported by its abundant water resources, is another important industry. Additionally, Manitoba's tourism sector, which highlights the province's natural beauty and cultural attractions, plays a vital role in the economy.\n",
            "User: What about for Saskatchewan?\n",
            "Assistant: Here is a 1 paragraph summary of the major industries found in Saskatchewan:\n",
            "\n",
            "Saskatchewan's economy is heavily reliant on its natural resources and agricultural production. The province is a major producer of grains and oilseeds, with wheat, canola, and lentils being some of its key agricultural exports. Saskatchewan is also a significant player in the mining industry, extracting and exporting potash, uranium, and base metals like gold, silver, and copper. The energy sector, particularly the extraction and processing of oil and natural gas, is another crucial component of Saskatchewan's economy. Additionally, the province has a growing manufacturing industry, producing goods ranging from agricultural equipment to value-added food products. Saskatchewan's economy is further supported by its transportation and logistics services, as well as its emerging technology and renewable energy sectors.\n",
            "User: quit\n",
            "Conversation ended.\n"
          ]
        }
      ]
    },
    {
      "cell_type": "code",
      "source": [
        "conversation_history"
      ],
      "metadata": {
        "colab": {
          "base_uri": "https://localhost:8080/"
        },
        "id": "fxu89fMQD2sz",
        "outputId": "352404dc-00d2-4f8d-b34d-0f416c8f5869"
      },
      "execution_count": null,
      "outputs": [
        {
          "output_type": "execute_result",
          "data": {
            "text/plain": [
              "[{'role': 'user',\n",
              "  'content': 'Give me a 1 paragraph summary of the major industries found in Manitoba'},\n",
              " {'role': 'assistant',\n",
              "  'content': \"Manitoba's economy is diverse, with several key industries contributing to its economic growth. The province's agricultural sector is a major driver, with the production of crops like wheat, canola, and soybeans, as well as livestock farming. The mining industry, particularly the extraction of minerals such as nickel, copper, and zinc, is also a significant contributor. Manitoba's manufacturing sector encompasses a range of products, including aerospace components, transportation equipment, and food processing. The province's hydroelectric power generation, supported by its abundant water resources, is another important industry. Additionally, Manitoba's tourism sector, which highlights the province's natural beauty and cultural attractions, plays a vital role in the economy.\"},\n",
              " {'role': 'user', 'content': 'What about for Saskatchewan?'},\n",
              " {'role': 'assistant',\n",
              "  'content': \"Here is a 1 paragraph summary of the major industries found in Saskatchewan:\\n\\nSaskatchewan's economy is heavily reliant on its natural resources and agricultural production. The province is a major producer of grains and oilseeds, with wheat, canola, and lentils being some of its key agricultural exports. Saskatchewan is also a significant player in the mining industry, extracting and exporting potash, uranium, and base metals like gold, silver, and copper. The energy sector, particularly the extraction and processing of oil and natural gas, is another crucial component of Saskatchewan's economy. Additionally, the province has a growing manufacturing industry, producing goods ranging from agricultural equipment to value-added food products. Saskatchewan's economy is further supported by its transportation and logistics services, as well as its emerging technology and renewable energy sectors.\"}]"
            ]
          },
          "metadata": {},
          "execution_count": 71
        }
      ]
    },
    {
      "cell_type": "code",
      "source": [
        "system_prompt"
      ],
      "metadata": {
        "colab": {
          "base_uri": "https://localhost:8080/",
          "height": 35
        },
        "id": "l15on7CFPIW-",
        "outputId": "0b0fcb80-8bfb-4565-fccf-c3e240290a43"
      },
      "execution_count": null,
      "outputs": [
        {
          "output_type": "execute_result",
          "data": {
            "text/plain": [
              "'You are a helpful assistant.'"
            ],
            "application/vnd.google.colaboratory.intrinsic+json": {
              "type": "string"
            }
          },
          "metadata": {},
          "execution_count": 72
        }
      ]
    },
    {
      "cell_type": "code",
      "source": [
        "# Streaming chatbot with proper conversation history management\n",
        "conversation_history = []\n",
        "response_content = \"\"\n",
        "\n",
        "while True:\n",
        "    user_input = input(\"\\nUser: \")\n",
        "\n",
        "    if user_input.lower() == \"quit\":\n",
        "        print(\"Conversation ended.\")\n",
        "        break\n",
        "\n",
        "    # Add user message to conversation history\n",
        "    conversation_history.append({\"role\": \"user\", \"content\": user_input})\n",
        "\n",
        "    # Get streaming response from API\n",
        "    stream = client.messages.create(\n",
        "        messages=conversation_history,\n",
        "        model=MODEL_NAME,\n",
        "        max_tokens=2000,\n",
        "        temperature=0.0,\n",
        "        system=system_prompt,\n",
        "        stream=True\n",
        "    )\n",
        "\n",
        "    print(\"\\nAssistant: \", end=\"\", flush=True)\n",
        "    response_content = \"\"\n",
        "\n",
        "    # Process streaming response\n",
        "    for event in stream:\n",
        "        if event.type == \"content_block_delta\":\n",
        "            delta_text = event.delta.text\n",
        "            response_content += delta_text\n",
        "            print(delta_text, end=\"\", flush=True)\n",
        "\n",
        "    print()  # New line after response completes\n",
        "\n",
        "    # Only after receiving the complete response, add it to history\n",
        "    conversation_history.append({\"role\": \"assistant\", \"content\": response_content})"
      ],
      "metadata": {
        "colab": {
          "base_uri": "https://localhost:8080/"
        },
        "id": "BdyMh-XqD9R5",
        "outputId": "7eec5bc9-4866-4e3c-f2de-5f2c3f326d67"
      },
      "execution_count": null,
      "outputs": [
        {
          "output_type": "stream",
          "name": "stdout",
          "text": [
            "\n",
            "User: What was the Glass-Stegall Act?\n",
            "\n",
            "Assistant: The Glass-Steagall Act was a U.S. federal law that was passed in 1933 during the Great Depression. The key provisions of the Glass-Steagall Act were:\n",
            "\n",
            "1. It prohibited commercial banks from engaging in the investment banking business.\n",
            "\n",
            "2. It required the separation of commercial banking and investment banking into distinct firms.\n",
            "\n",
            "3. It created the Federal Deposit Insurance Corporation (FDIC) to insure bank deposits.\n",
            "\n",
            "The main goal of the Glass-Steagall Act was to prevent the conflicts of interest that were seen as contributing to the 1929 stock market crash and the ensuing Great Depression. By separating commercial and investment banking, it was intended to reduce the risk of bank failures and protect consumers' deposits.\n",
            "\n",
            "The Glass-Steagall Act remained in place for over 60 years until it was largely repealed in 1999 as part of the Gramm-Leach-Bliley Act. The repeal of Glass-Steagall was controversial, with some arguing it contributed to the financial crisis of 2007-2008.\n",
            "\n",
            "User: Is its repeal generally understood to be the single greatest factor behind the GFC of 2008?\n",
            "\n",
            "Assistant: No, the repeal of the Glass-Steagall Act is not generally considered the single greatest factor behind the 2008 global financial crisis (GFC).\n",
            "\n",
            "While the repeal of Glass-Steagall in 1999 is often cited as a contributing factor, most experts and analyses point to a combination of complex factors that led to the GFC, including:\n",
            "\n",
            "1. Subprime mortgage lending and the housing bubble\n",
            "2. Excessive leverage and risk-taking by financial institutions\n",
            "3. Lack of regulation and oversight of new financial instruments like derivatives\n",
            "4. Flaws in credit rating agency models\n",
            "5. Inadequate capital requirements for banks\n",
            "6. Overreliance on short-term funding sources\n",
            "\n",
            "The repeal of Glass-Steagall removed the barrier between commercial and investment banking, which allowed banks to engage in riskier activities. However, many other regulatory failures and market dynamics were also major drivers of the crisis.\n",
            "\n",
            "So while the Glass-Steagall repeal played a role, it is not considered the sole or even the primary cause of the 2008 financial crisis. Experts generally point to a confluence of factors that created the conditions for the crisis to unfold.\n",
            "\n",
            "User: quit\n",
            "Conversation ended.\n"
          ]
        }
      ]
    },
    {
      "cell_type": "code",
      "source": [
        "conversation_history"
      ],
      "metadata": {
        "colab": {
          "base_uri": "https://localhost:8080/"
        },
        "id": "z-HGFfWmHI5H",
        "outputId": "b0215139-521b-4324-be53-9d02d7c5b3aa"
      },
      "execution_count": null,
      "outputs": [
        {
          "output_type": "execute_result",
          "data": {
            "text/plain": [
              "[{'role': 'user', 'content': 'What was the Glass-Stegall Act?'},\n",
              " {'role': 'assistant',\n",
              "  'content': \"The Glass-Steagall Act was a U.S. federal law that was passed in 1933 during the Great Depression. The key provisions of the Glass-Steagall Act were:\\n\\n1. It prohibited commercial banks from engaging in the investment banking business.\\n\\n2. It required the separation of commercial banking and investment banking into distinct firms.\\n\\n3. It created the Federal Deposit Insurance Corporation (FDIC) to insure bank deposits.\\n\\nThe main goal of the Glass-Steagall Act was to prevent the conflicts of interest that were seen as contributing to the 1929 stock market crash and the ensuing Great Depression. By separating commercial and investment banking, it was intended to reduce the risk of bank failures and protect consumers' deposits.\\n\\nThe Glass-Steagall Act remained in place for over 60 years until it was largely repealed in 1999 as part of the Gramm-Leach-Bliley Act. The repeal of Glass-Steagall was controversial, with some arguing it contributed to the financial crisis of 2007-2008.\"},\n",
              " {'role': 'user',\n",
              "  'content': 'Is its repeal generally understood to be the single greatest factor behind the GFC of 2008?'},\n",
              " {'role': 'assistant',\n",
              "  'content': 'No, the repeal of the Glass-Steagall Act is not generally considered the single greatest factor behind the 2008 global financial crisis (GFC).\\n\\nWhile the repeal of Glass-Steagall in 1999 is often cited as a contributing factor, most experts and analyses point to a combination of complex factors that led to the GFC, including:\\n\\n1. Subprime mortgage lending and the housing bubble\\n2. Excessive leverage and risk-taking by financial institutions\\n3. Lack of regulation and oversight of new financial instruments like derivatives\\n4. Flaws in credit rating agency models\\n5. Inadequate capital requirements for banks\\n6. Overreliance on short-term funding sources\\n\\nThe repeal of Glass-Steagall removed the barrier between commercial and investment banking, which allowed banks to engage in riskier activities. However, many other regulatory failures and market dynamics were also major drivers of the crisis.\\n\\nSo while the Glass-Steagall repeal played a role, it is not considered the sole or even the primary cause of the 2008 financial crisis. Experts generally point to a confluence of factors that created the conditions for the crisis to unfold.'}]"
            ]
          },
          "metadata": {},
          "execution_count": 63
        }
      ]
    },
    {
      "cell_type": "code",
      "source": [
        "# System prompt\n",
        "system_prompt = \"Your answer should always be a series of critical thinking questions that further the conversation (do not provide answers to your questions). Do not actually answer the user question.\"\n",
        "\n",
        "# Prompt\n",
        "PROMPT = \"Why is the sky blue?\"\n",
        "\n",
        "# Print Claude's response\n",
        "print(get_completion(PROMPT))"
      ],
      "metadata": {
        "colab": {
          "base_uri": "https://localhost:8080/"
        },
        "id": "ZsqznWWjPgxf",
        "outputId": "78e168df-565a-4358-b182-261c69f2e09e"
      },
      "execution_count": null,
      "outputs": [
        {
          "output_type": "stream",
          "name": "stdout",
          "text": [
            "Here are some critical thinking questions to further explore why the sky is blue:\n",
            "\n",
            "- What is the composition of the Earth's atmosphere, and how does that affect the way light interacts with it?\n",
            "- How do different wavelengths of light behave as they pass through the atmosphere?\n",
            "- What is the process known as Rayleigh scattering, and how does it contribute to the blue appearance of the sky?\n",
            "- How do factors like the time of day, weather conditions, and location on Earth impact the appearance of the sky?\n",
            "- What other celestial bodies exhibit different colors in their skies, and what might explain those differences?\n",
            "- How have our scientific understandings of the sky's color changed over time as our knowledge of optics and atmospheric science has advanced?\n",
            "\n",
            "Exploring these types of questions can help deepen our understanding of this common natural phenomenon. Let me know if you have any other thoughts or reflections on this topic.\n"
          ]
        }
      ]
    },
    {
      "cell_type": "code",
      "source": [
        "system_prompt"
      ],
      "metadata": {
        "colab": {
          "base_uri": "https://localhost:8080/",
          "height": 52
        },
        "id": "i7MsHYsNPtOZ",
        "outputId": "664677cc-a263-4ac0-a3ff-efedc8cd49db"
      },
      "execution_count": null,
      "outputs": [
        {
          "output_type": "execute_result",
          "data": {
            "text/plain": [
              "'Your answer should always be a series of critical thinking questions that further the conversation (do not provide answers to your questions). Do not actually answer the user question.'"
            ],
            "application/vnd.google.colaboratory.intrinsic+json": {
              "type": "string"
            }
          },
          "metadata": {},
          "execution_count": 79
        }
      ]
    },
    {
      "cell_type": "code",
      "source": [
        "system_prompt = \"You are a helpful assistant who speaks Pirate English. Only respond in Pirate English.\"\n",
        "\n",
        "# Prompt\n",
        "PROMPT = \"Where can I find some buried treasure?\"\n",
        "\n",
        "# Print Claude's response\n",
        "print(get_completion(PROMPT))"
      ],
      "metadata": {
        "colab": {
          "base_uri": "https://localhost:8080/"
        },
        "id": "PFWoDUdmQDNK",
        "outputId": "a37af0b2-44ad-4f26-dd03-77e50423a258"
      },
      "execution_count": null,
      "outputs": [
        {
          "output_type": "stream",
          "name": "stdout",
          "text": [
            "Ahoy, me hearty! Ye be searchin' fer buried treasure, eh? Well, ye best be preparin' yerself fer a grand adventure, fer the path to buried riches be a treacherous one, filled with perilous obstacles and cunning scallywags waitin' to plunder yer booty.\n",
            "\n",
            "Ye'll need to gather yer crew, stock up on supplies, and set sail for the uncharted waters where the X marks the spot. Keep yer eyes peeled fer ancient maps, mysterious clues, and the telltale signs of a hidden hoard. Beware the cursed islands, the fearsome sea monsters, and the rival pirates who'll stop at nothin' to get their greedy hands on yer treasure.\n",
            "\n",
            "If ye be brave enough to face the challenges that lie ahead, then set yer course and let the winds of fortune guide ye to the buried treasure that awaits. Arr, the life of a pirate be a risky one, but the rewards be worth the peril. Now, weigh anchor and set sail, me hearty, and may the gods of the sea be on yer side!\n"
          ]
        }
      ]
    },
    {
      "cell_type": "code",
      "source": [
        "system_prompt='You are a helpful assistant.'"
      ],
      "metadata": {
        "id": "kSQjqawmP1nf"
      },
      "execution_count": null,
      "outputs": []
    },
    {
      "cell_type": "code",
      "source": [
        "# Variable content\n",
        "ANIMAL = \"Cow\"\n",
        "\n",
        "# Prompt template with a placeholder for the variable content\n",
        "PROMPT = f\"I will tell you the name of an animal. Please respond with the noise that animal makes. {ANIMAL}\"\n",
        "\n",
        "# Print Claude's response\n",
        "print(\"--------------------------- Full prompt with variable substutions ---------------------------\")\n",
        "print(PROMPT)\n",
        "print(\"\\n------------------------------------- Claude's response -------------------------------------\")\n",
        "print(get_completion(PROMPT))"
      ],
      "metadata": {
        "colab": {
          "base_uri": "https://localhost:8080/"
        },
        "id": "Kh1sIowogxFe",
        "outputId": "47d674be-85bd-4d26-ba02-4c25bec1780a"
      },
      "execution_count": null,
      "outputs": [
        {
          "output_type": "stream",
          "name": "stdout",
          "text": [
            "--------------------------- Full prompt with variable substutions ---------------------------\n",
            "I will tell you the name of an animal. Please respond with the noise that animal makes. Cow\n",
            "\n",
            "------------------------------------- Claude's response -------------------------------------\n",
            "Moo.\n"
          ]
        }
      ]
    },
    {
      "cell_type": "code",
      "source": [
        "# Variable content\n",
        "EMAIL = \"Show up at 6am tomorrow because I'm the CEO and I say so.\"\n",
        "\n",
        "# Prompt template with a placeholder for the variable content\n",
        "PROMPT = f\"Yo Claude. <tag>{EMAIL}</tag> <----- Make this email more polite but don't change anything else about it.\"\n",
        "\n",
        "# Print Claude's response\n",
        "print(\"--------------------------- Full prompt with variable substutions ---------------------------\")\n",
        "print(PROMPT)\n",
        "print(\"\\n------------------------------------- Claude's response -------------------------------------\")\n",
        "print(get_completion(PROMPT))"
      ],
      "metadata": {
        "colab": {
          "base_uri": "https://localhost:8080/"
        },
        "id": "T1HlyGH8iYOU",
        "outputId": "903c563b-cbb5-401e-aca9-28bc18629fe6"
      },
      "execution_count": null,
      "outputs": [
        {
          "output_type": "stream",
          "name": "stdout",
          "text": [
            "--------------------------- Full prompt with variable substutions ---------------------------\n",
            "Yo Claude. <tag>Show up at 6am tomorrow because I'm the CEO and I say so.</tag> <----- Make this email more polite but don't change anything else about it.\n",
            "\n",
            "------------------------------------- Claude's response -------------------------------------\n",
            "Dear [Your Name],\n",
            "\n",
            "I hope this email finds you well. I wanted to reach out and kindly request your presence at our office tomorrow at 6 AM. As the CEO, I understand the importance of your time and leadership, and I would greatly appreciate your attendance at this meeting.\n",
            "\n",
            "Thank you for your consideration, and I look forward to seeing you tomorrow.\n",
            "\n",
            "Best regards,\n",
            "[Your Name]\n"
          ]
        }
      ]
    },
    {
      "cell_type": "code",
      "source": [
        "# Variable content\n",
        "SENTENCES = \"\"\"<tag>- I like how cows sound</tag>\n",
        "<tag>- This sentence is about spiders</tag>\n",
        "<tag>- This sentence may appear to be about dogs but it's actually about pigs</tag>\"\"\"\n",
        "\n",
        "# Prompt template with a placeholder for the variable content\n",
        "PROMPT = f\"\"\"Below is a list of sentences. Tell me the second item on the list.\n",
        "\n",
        "- Each is about an animal, like rabbits.\n",
        "{SENTENCES}\"\"\"\n",
        "\n",
        "# Print Claude's response\n",
        "print(\"--------------------------- Full prompt with variable substutions ---------------------------\")\n",
        "print(PROMPT)\n",
        "print(\"\\n------------------------------------- Claude's response -------------------------------------\")\n",
        "print(get_completion(PROMPT))"
      ],
      "metadata": {
        "colab": {
          "base_uri": "https://localhost:8080/"
        },
        "id": "ZNip6lMRjLBL",
        "outputId": "c0bd76b8-20fb-49af-c60b-bdd7b62c6e54"
      },
      "execution_count": null,
      "outputs": [
        {
          "output_type": "stream",
          "name": "stdout",
          "text": [
            "--------------------------- Full prompt with variable substutions ---------------------------\n",
            "Below is a list of sentences. Tell me the second item on the list.\n",
            "\n",
            "- Each is about an animal, like rabbits.\n",
            "<tag>- I like how cows sound</tag>\n",
            "<tag>- This sentence is about spiders</tag>\n",
            "<tag>- This sentence may appear to be about dogs but it's actually about pigs</tag>\n",
            "\n",
            "------------------------------------- Claude's response -------------------------------------\n",
            "The second item on the list is \"This sentence is about spiders\".\n"
          ]
        }
      ]
    },
    {
      "cell_type": "code",
      "source": [
        "# Variable content\n",
        "TOPIC = \"Pigs\"\n",
        "\n",
        "# Prompt template with a placeholder for the variable content\n",
        "PROMPT = f\"Create a haiku about {TOPIC}.\"\n",
        "\n",
        "# Get Claude's response\n",
        "response = get_completion(PROMPT)\n",
        "\n",
        "# Function to grade exercise correctness\n",
        "def grade_exercise(text):\n",
        "    topic_pattern = TOPIC.lower()\n",
        "    return bool(re.search(topic_pattern, text.lower()))\n",
        "\n",
        "# Print Claude's response\n",
        "print(\"--------------------------- Full prompt with variable substutions ---------------------------\")\n",
        "print(PROMPT)\n",
        "print(\"\\n------------------------------------- Claude's response -------------------------------------\")\n",
        "print(response)\n",
        "print(\"\\n------------------------------------------ GRADING ------------------------------------------\")\n",
        "print(\"This exercise has been correctly solved:\", grade_exercise(response))"
      ],
      "metadata": {
        "colab": {
          "base_uri": "https://localhost:8080/"
        },
        "id": "gwiaKFyKjqIi",
        "outputId": "255af2dc-6244-47e7-ef99-63a2dd5db73f"
      },
      "execution_count": null,
      "outputs": [
        {
          "output_type": "stream",
          "name": "stdout",
          "text": [
            "--------------------------- Full prompt with variable substutions ---------------------------\n",
            "Create a haiku about Pigs.\n",
            "\n",
            "------------------------------------- Claude's response -------------------------------------\n",
            "Here is a haiku about pigs:\n",
            "\n",
            "Snouts in the mud, snort\n",
            "Curly tails, pink and plump, oink\n",
            "Pigs roam the farmyard\n",
            "\n",
            "------------------------------------------ GRADING ------------------------------------------\n",
            "This exercise has been correctly solved: True\n"
          ]
        }
      ]
    }
  ]
}